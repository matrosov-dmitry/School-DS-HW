{
 "cells": [
  {
   "cell_type": "markdown",
   "metadata": {},
   "source": [
    "## Задание\n",
    "\n",
    "- Собрать информацию о всех строящихся объектах на сайте \"наш.дом.рф\"\n",
    "- Cохранить ее в pandas dataframe\n",
    "- Cохранить pandas dataframe в excel\n",
    "- Cохранить pandas dataframe в pickle\n",
    "- Cохранить pandas dataframe в БД"
   ]
  },
  {
   "cell_type": "markdown",
   "metadata": {},
   "source": [
    "### Импорт библиотек"
   ]
  },
  {
   "cell_type": "code",
   "execution_count": 1,
   "metadata": {},
   "outputs": [],
   "source": [
    "import requests\n",
    "import pandas as pd\n",
    "import xlsxwriter\n",
    "from sqlalchemy import create_engine"
   ]
  },
  {
   "cell_type": "code",
   "execution_count": 2,
   "metadata": {},
   "outputs": [],
   "source": [
    "pd.options.display.max_columns = 200\n",
    "pd.options.display.max_rows = 30\n",
    "pd.options.display.precision = 2\n",
    "pd.options.display.show_dimensions = True"
   ]
  },
  {
   "cell_type": "markdown",
   "metadata": {},
   "source": [
    "### Список объектов"
   ]
  },
  {
   "cell_type": "code",
   "execution_count": 3,
   "metadata": {},
   "outputs": [],
   "source": [
    "limit_ = 1000\n",
    "all_obj_ids = []\n",
    "for offset_ in range(0, 12000, 1000):\n",
    "    url = f'https://xn--80az8a.xn--d1aqf.xn--p1ai/%D1%81%D0%B5%D1%80%D0%B2%D0%B8%D1%81%D1%8B/api/kn/object?offset={offset_}&limit={limit_}&sortField=devId.devShortCleanNm&sortType=asc&objStatus=0'\n",
    "    response = requests.get(url)\n",
    "    objects_data = response.json()\n",
    "    objects_list = objects_data.get('data').get('list')\n",
    "    objids = [x.get('objId') for x in objects_list]\n",
    "    all_obj_ids.extend(objids)"
   ]
  },
  {
   "cell_type": "code",
   "execution_count": 4,
   "metadata": {},
   "outputs": [
    {
     "data": {
      "text/plain": [
       "10527"
      ]
     },
     "execution_count": 4,
     "metadata": {},
     "output_type": "execute_result"
    }
   ],
   "source": [
    "len(all_obj_ids) # количество объектов"
   ]
  },
  {
   "cell_type": "markdown",
   "metadata": {},
   "source": [
    "### Данные по объекту"
   ]
  },
  {
   "cell_type": "code",
   "execution_count": 5,
   "metadata": {},
   "outputs": [],
   "source": [
    "all_objects_description = []\n",
    "\n",
    "for id in all_obj_ids:\n",
    "    url = f'https://xn--80az8a.xn--d1aqf.xn--p1ai/%D1%81%D0%B5%D1%80%D0%B2%D0%B8%D1%81%D1%8B/api/object/{id}'\n",
    "    response_object = requests.get(url)\n",
    "    obj = response_object.json()\n",
    "    all_objects_description.append(obj)"
   ]
  },
  {
   "cell_type": "markdown",
   "metadata": {},
   "source": [
    "### Сохранение в DataFrame"
   ]
  },
  {
   "cell_type": "code",
   "execution_count": 6,
   "metadata": {},
   "outputs": [],
   "source": [
    "df = pd.DataFrame.from_dict(pd.json_normalize(all_objects_description), orient='columns')\n"
   ]
  },
  {
   "cell_type": "code",
   "execution_count": 8,
   "metadata": {},
   "outputs": [
    {
     "data": {
      "text/plain": [
       "(10527, 109)"
      ]
     },
     "execution_count": 8,
     "metadata": {},
     "output_type": "execute_result"
    }
   ],
   "source": [
    "df.shape"
   ]
  },
  {
   "cell_type": "markdown",
   "metadata": {},
   "source": [
    "### Сохранение в формат Excel"
   ]
  },
  {
   "cell_type": "code",
   "execution_count": 11,
   "metadata": {},
   "outputs": [],
   "source": [
    "writer = pd.ExcelWriter(\"data/house.xlsx\", engine = 'xlsxwriter')\n",
    "df.to_excel(writer)\n",
    "writer.save()"
   ]
  },
  {
   "cell_type": "markdown",
   "metadata": {},
   "source": [
    "### Сохранение в формат Pickle"
   ]
  },
  {
   "cell_type": "code",
   "execution_count": 12,
   "metadata": {},
   "outputs": [],
   "source": [
    "df.to_pickle('data/house.pkl')"
   ]
  },
  {
   "cell_type": "markdown",
   "metadata": {},
   "source": [
    "### Сохранение в БД"
   ]
  },
  {
   "cell_type": "code",
   "execution_count": 17,
   "metadata": {},
   "outputs": [],
   "source": [
    "engine = create_engine('sqlite:///data/house.db', echo=True)\n",
    "sqlite_connection = engine.connect()"
   ]
  },
  {
   "cell_type": "code",
   "execution_count": 18,
   "metadata": {},
   "outputs": [],
   "source": [
    "df_sql = df.copy()"
   ]
  },
  {
   "cell_type": "code",
   "execution_count": 19,
   "metadata": {},
   "outputs": [],
   "source": [
    "df_sql = df.applymap(str)"
   ]
  },
  {
   "cell_type": "code",
   "execution_count": 20,
   "metadata": {},
   "outputs": [
    {
     "name": "stdout",
     "output_type": "stream",
     "text": [
      "2022-08-15 21:42:15,635 INFO sqlalchemy.engine.Engine PRAGMA main.table_info(\"data/dom_rf\")\n",
      "2022-08-15 21:42:15,636 INFO sqlalchemy.engine.Engine [raw sql] ()\n",
      "2022-08-15 21:42:15,636 INFO sqlalchemy.engine.Engine PRAGMA temp.table_info(\"data/dom_rf\")\n",
      "2022-08-15 21:42:15,637 INFO sqlalchemy.engine.Engine [raw sql] ()\n",
      "2022-08-15 21:42:15,642 INFO sqlalchemy.engine.Engine \n",
      "CREATE TABLE \"data/dom_rf\" (\n",
      "\t\"index\" BIGINT, \n",
      "\terrcode TEXT, \n",
      "\t\"data.id\" TEXT, \n",
      "\t\"data.pdId\" TEXT, \n",
      "\t\"data.developer.devId\" TEXT, \n",
      "\t\"data.developer.devShortCleanNm\" TEXT, \n",
      "\t\"data.developer.devShortNm\" TEXT, \n",
      "\t\"data.developer.devFullCleanNm\" TEXT, \n",
      "\t\"data.developer.problObjCnt\" TEXT, \n",
      "\t\"data.developer.buildObjCnt\" TEXT, \n",
      "\t\"data.developer.comissObjCnt\" TEXT, \n",
      "\t\"data.developer.regRegionDesc\" TEXT, \n",
      "\t\"data.developer.devPhoneNum\" TEXT, \n",
      "\t\"data.developer.devSite\" TEXT, \n",
      "\t\"data.developer.devEmail\" TEXT, \n",
      "\t\"data.developer.devInn\" TEXT, \n",
      "\t\"data.developer.devOgrn\" TEXT, \n",
      "\t\"data.developer.devKpp\" TEXT, \n",
      "\t\"data.developer.devLegalAddr\" TEXT, \n",
      "\t\"data.developer.devFactAddr\" TEXT, \n",
      "\t\"data.developer.lastRpdId\" TEXT, \n",
      "\t\"data.developer.fundGuarantyFlg\" TEXT, \n",
      "\t\"data.developer.devOrgRegRegionCd\" TEXT, \n",
      "\t\"data.developer.devEmplMainFullNm\" TEXT, \n",
      "\t\"data.developer.orgForm.id\" TEXT, \n",
      "\t\"data.developer.orgForm.fullForm\" TEXT, \n",
      "\t\"data.developer.orgForm.shortForm\" TEXT, \n",
      "\t\"data.developer.objGuarantyEscrowFlg\" TEXT, \n",
      "\t\"data.developer.govFundFlg\" TEXT, \n",
      "\t\"data.region\" TEXT, \n",
      "\t\"data.address\" TEXT, \n",
      "\t\"data.objElemLivingCnt\" TEXT, \n",
      "\t\"data.objReady100PercDt\" TEXT, \n",
      "\t\"data.wallMaterialShortDesc\" TEXT, \n",
      "\t\"data.objLkFinishTypeDesc\" TEXT, \n",
      "\t\"data.objLkFreePlanDesc\" TEXT, \n",
      "\t\"data.objElemParkingCnt\" TEXT, \n",
      "\t\"data.objSquareLiving\" TEXT, \n",
      "\t\"data.rpdNum\" TEXT, \n",
      "\t\"data.rpdPdfLink\" TEXT, \n",
      "\t\"data.rpdIssueDttm\" TEXT, \n",
      "\t\"data.objLkLatitude\" TEXT, \n",
      "\t\"data.objLkLongitude\" TEXT, \n",
      "\t\"data.objCompensFundFlg\" TEXT, \n",
      "\t\"data.objProblemFlg\" TEXT, \n",
      "\t\"data.objLkClassDesc\" TEXT, \n",
      "\t\"data.loadDttm\" TEXT, \n",
      "\t\"data.photoRenderDTO\" TEXT, \n",
      "\t\"data.objGuarantyEscrowFlg\" TEXT, \n",
      "\t\"data.objectType\" TEXT, \n",
      "\t\"data.residentialBuildings\" TEXT, \n",
      "\t\"data.newBuildingId\" TEXT, \n",
      "\t\"data.objFlatCnt\" TEXT, \n",
      "\t\"data.objFlatSq\" TEXT, \n",
      "\t\"data.objNonlivElemCnt\" TEXT, \n",
      "\t\"data.objStatus\" TEXT, \n",
      "\t\"data.isAvailableWantLiveHere\" TEXT, \n",
      "\t\"data.objInfrstrBicycleLaneFlg\" TEXT, \n",
      "\t\"data.objInfrstrRampFlg\" TEXT, \n",
      "\t\"data.objInfrstrCurbLoweringFlg\" TEXT, \n",
      "\t\"data.objectTransportInfo\" TEXT, \n",
      "\t\"data.conclusion\" TEXT, \n",
      "\t\"data.objLkSaleDepEmail\" TEXT, \n",
      "\t\"data.objGreenHouseFlg\" TEXT, \n",
      "\t\"data.objEnergyEffShortDesc\" TEXT, \n",
      "\t\"data.infrastructureIndexValue\" TEXT, \n",
      "\t\"data.developer.developerGroupName\" TEXT, \n",
      "\t\"data.developer.companyGroupId\" TEXT, \n",
      "\t\"data.floorMin\" TEXT, \n",
      "\t\"data.floorMax\" TEXT, \n",
      "\t\"data.miniUrl\" TEXT, \n",
      "\t\"data.objFloorCnt\" TEXT, \n",
      "\t\"data.quartography.objLivElem1KCnt\" TEXT, \n",
      "\t\"data.quartography.objLivElem2KCnt\" TEXT, \n",
      "\t\"data.quartography.objLivElem3KCnt\" TEXT, \n",
      "\t\"data.quartography.objLivElem4KCnt\" TEXT, \n",
      "\t\"data.quartography.objLivElemCnt\" TEXT, \n",
      "\t\"data.quartography.objLivElemEntrCnt\" TEXT, \n",
      "\t\"data.quartography.objLivElemEntrFloorAvg\" TEXT, \n",
      "\t\"data.objTransferPlanDt\" TEXT, \n",
      "\t\"data.objLivCeilingHeight\" TEXT, \n",
      "\t\"data.objInfrstrPlaygrndCnt\" TEXT, \n",
      "\t\"data.objInfrstrSportGroundCnt\" TEXT, \n",
      "\t\"data.objInfrstrTrashAreaCnt\" TEXT, \n",
      "\t\"data.objInfrstrObjPrkngCnt\" TEXT, \n",
      "\t\"data.objInfrstrNotObjPrkngCnt\" TEXT, \n",
      "\t\"data.objElevatorWheelchairCnt\" TEXT, \n",
      "\t\"data.objElevatorPassengerCnt\" TEXT, \n",
      "\t\"data.objElevatorCargoCnt\" TEXT, \n",
      "\t\"data.soldOutPerc\" TEXT, \n",
      "\t\"data.objPriceAvg\" TEXT, \n",
      "\t\"data.generalContractorNm\" TEXT, \n",
      "\t\"data.nonlivFirstFloor\" TEXT, \n",
      "\t\"data.transportDistIndex\" TEXT, \n",
      "\t\"data.transportDistIndexValue\" TEXT, \n",
      "\t\"data.nameObj\" TEXT, \n",
      "\t\"data.greenAreaIndexValue\" TEXT, \n",
      "\t\"data.airQualityIndexValue\" TEXT, \n",
      "\t\"data.complexShortNm\" TEXT, \n",
      "\t\"data.developer.bankruptStage.bankruptStageCd\" TEXT, \n",
      "\t\"data.developer.bankruptStage.bankruptStageDesc\" TEXT, \n",
      "\t\"data.developer.bankruptStage.bankruptLawUrl\" TEXT, \n",
      "\t\"data.developer.orgBankruptMsgDttm\" TEXT, \n",
      "\t\"data.metro.id\" TEXT, \n",
      "\t\"data.metro.name\" TEXT, \n",
      "\t\"data.metro.line\" TEXT, \n",
      "\t\"data.metro.color\" TEXT, \n",
      "\t\"data.metro.time\" TEXT, \n",
      "\t\"data.metro.isWalk\" TEXT, \n",
      "\t\"data.metro.colors\" TEXT\n",
      ")\n",
      "\n",
      "\n",
      "2022-08-15 21:42:15,643 INFO sqlalchemy.engine.Engine [no key 0.00055s] ()\n",
      "2022-08-15 21:42:15,644 INFO sqlalchemy.engine.Engine COMMIT\n",
      "2022-08-15 21:42:15,645 INFO sqlalchemy.engine.Engine CREATE INDEX \"ix_data/dom_rf_index\" ON \"data/dom_rf\" (\"index\")\n",
      "2022-08-15 21:42:15,645 INFO sqlalchemy.engine.Engine [no key 0.00027s] ()\n",
      "2022-08-15 21:42:15,646 INFO sqlalchemy.engine.Engine COMMIT\n",
      "2022-08-15 21:42:16,258 INFO sqlalchemy.engine.Engine INSERT INTO \"data/dom_rf\" (\"index\", errcode, \"data.id\", \"data.pdId\", \"data.developer.devId\", \"data.developer.devShortCleanNm\", \"data.developer.devShortNm\", \"data.developer.devFullCleanNm\", \"data.developer.problObjCnt\", \"data.developer.buildObjCnt\", \"data.developer.comissObjCnt\", \"data.developer.regRegionDesc\", \"data.developer.devPhoneNum\", \"data.developer.devSite\", \"data.developer.devEmail\", \"data.developer.devInn\", \"data.developer.devOgrn\", \"data.developer.devKpp\", \"data.developer.devLegalAddr\", \"data.developer.devFactAddr\", \"data.developer.lastRpdId\", \"data.developer.fundGuarantyFlg\", \"data.developer.devOrgRegRegionCd\", \"data.developer.devEmplMainFullNm\", \"data.developer.orgForm.id\", \"data.developer.orgForm.fullForm\", \"data.developer.orgForm.shortForm\", \"data.developer.objGuarantyEscrowFlg\", \"data.developer.govFundFlg\", \"data.region\", \"data.address\", \"data.objElemLivingCnt\", \"data.objReady100PercDt\", \"data.wallMaterialShortDesc\", \"data.objLkFinishTypeDesc\", \"data.objLkFreePlanDesc\", \"data.objElemParkingCnt\", \"data.objSquareLiving\", \"data.rpdNum\", \"data.rpdPdfLink\", \"data.rpdIssueDttm\", \"data.objLkLatitude\", \"data.objLkLongitude\", \"data.objCompensFundFlg\", \"data.objProblemFlg\", \"data.objLkClassDesc\", \"data.loadDttm\", \"data.photoRenderDTO\", \"data.objGuarantyEscrowFlg\", \"data.objectType\", \"data.residentialBuildings\", \"data.newBuildingId\", \"data.objFlatCnt\", \"data.objFlatSq\", \"data.objNonlivElemCnt\", \"data.objStatus\", \"data.isAvailableWantLiveHere\", \"data.objInfrstrBicycleLaneFlg\", \"data.objInfrstrRampFlg\", \"data.objInfrstrCurbLoweringFlg\", \"data.objectTransportInfo\", \"data.conclusion\", \"data.objLkSaleDepEmail\", \"data.objGreenHouseFlg\", \"data.objEnergyEffShortDesc\", \"data.infrastructureIndexValue\", \"data.developer.developerGroupName\", \"data.developer.companyGroupId\", \"data.floorMin\", \"data.floorMax\", \"data.miniUrl\", \"data.objFloorCnt\", \"data.quartography.objLivElem1KCnt\", \"data.quartography.objLivElem2KCnt\", \"data.quartography.objLivElem3KCnt\", \"data.quartography.objLivElem4KCnt\", \"data.quartography.objLivElemCnt\", \"data.quartography.objLivElemEntrCnt\", \"data.quartography.objLivElemEntrFloorAvg\", \"data.objTransferPlanDt\", \"data.objLivCeilingHeight\", \"data.objInfrstrPlaygrndCnt\", \"data.objInfrstrSportGroundCnt\", \"data.objInfrstrTrashAreaCnt\", \"data.objInfrstrObjPrkngCnt\", \"data.objInfrstrNotObjPrkngCnt\", \"data.objElevatorWheelchairCnt\", \"data.objElevatorPassengerCnt\", \"data.objElevatorCargoCnt\", \"data.soldOutPerc\", \"data.objPriceAvg\", \"data.generalContractorNm\", \"data.nonlivFirstFloor\", \"data.transportDistIndex\", \"data.transportDistIndexValue\", \"data.nameObj\", \"data.greenAreaIndexValue\", \"data.airQualityIndexValue\", \"data.complexShortNm\", \"data.developer.bankruptStage.bankruptStageCd\", \"data.developer.bankruptStage.bankruptStageDesc\", \"data.developer.bankruptStage.bankruptLawUrl\", \"data.developer.orgBankruptMsgDttm\", \"data.metro.id\", \"data.metro.name\", \"data.metro.line\", \"data.metro.color\", \"data.metro.time\", \"data.metro.isWalk\", \"data.metro.colors\") VALUES (?, ?, ?, ?, ?, ?, ?, ?, ?, ?, ?, ?, ?, ?, ?, ?, ?, ?, ?, ?, ?, ?, ?, ?, ?, ?, ?, ?, ?, ?, ?, ?, ?, ?, ?, ?, ?, ?, ?, ?, ?, ?, ?, ?, ?, ?, ?, ?, ?, ?, ?, ?, ?, ?, ?, ?, ?, ?, ?, ?, ?, ?, ?, ?, ?, ?, ?, ?, ?, ?, ?, ?, ?, ?, ?, ?, ?, ?, ?, ?, ?, ?, ?, ?, ?, ?, ?, ?, ?, ?, ?, ?, ?, ?, ?, ?, ?, ?, ?, ?, ?, ?, ?, ?, ?, ?, ?, ?, ?, ?)\n",
      "2022-08-15 21:42:16,258 INFO sqlalchemy.engine.Engine [generated in 0.43761s] ((0, '0', '29678', '124648', '7424', '212-2', '212-2', '212-2', '0', '2', '0', 'Ростовская область', '+7(961)285-90-10', 'taganrogjsk.wixsite.com', 'kirpol76@gmail.com', '6154572922', '1116154005923', '615401001', 'Ростовская область, город Таганрог, улица Свободы/Трудовых резервов дом 25/9', 'обл Ростовская город Таганрог улица Сергея Шило д. 212-2', '126093', '0', '61.0', 'Снимщикова Ольга Викторовна', '20', 'Жилищный или жилищно-строительный кооператив', 'ЖСК', '0', '0', '61', 'город Таганрог, улица Сергея Шило, д. 212-2', '27', '2020-03-31', 'Другое', 'Под чистовую', 'Нет', '0', '1519.0', '61-000819', 'https://xn--80az8a.xn--d1aqf.xn--p1ai/api/ext/file/7d60d1a0-1ca7-48cf-9d36-54d681281d71', '20-03-2019 18:18', '47.2197', '38.9134', '0', '0', 'Комфорт', '15-08-2022 01:19', '[]', '0', 'normal', '1', '15941', '27', '1519.0', '0', '0', 'True', '0', '0', '0', '[]', 'False', 'fonddolomsk@bk.ru', '0', 'Не нормируется', '8', 'nan', 'nan', 'nan', 'nan', 'nan', 'nan', 'nan', 'nan', 'nan', 'nan', 'nan', 'nan', 'nan', 'nan', 'nan', 'nan', 'nan', 'nan', 'nan', 'nan', 'nan', 'nan', 'nan', 'nan', 'nan', 'nan', 'nan', 'nan', 'nan', 'nan', 'nan', 'nan', 'nan', 'nan', 'nan', 'nan', 'nan', 'nan', 'nan', 'nan', 'nan', 'nan', 'nan', 'nan'), (1, '0', '29679', '124647', '7424', '212-2', '212-2', '212-2', '0', '2', '0', 'Ростовская область', '+7(961)285-90-10', 'taganrogjsk.wixsite.com', 'kirpol76@gmail.com', '6154572922', '1116154005923', '615401001', 'Ростовская область, город Таганрог, улица Свободы/Трудовых резервов дом 25/9', 'обл Ростовская город Таганрог улица Сергея Шило д. 212-2', '126093', '0', '61.0', 'Снимщикова Ольга Викторовна', '20', 'Жилищный или жилищно-строительный кооператив', 'ЖСК', '0', '0', '61', 'г Таганрог', '18', '2020-03-31', 'Другое', 'Под ключ', 'Есть', '0', '1519.0', '61-000818', 'https://xn--80az8a.xn--d1aqf.xn--p1ai/api/ext/file/092af1ad-2b49-4150-8a92-293031e2f79a', '20-03-2019 18:41', '47.2238', '38.8513', '0', '0', 'Комфорт', '15-08-2022 01:19', '[]', '0', 'normal', '1', '40800', '18', '1519.0', '0', '0', 'True', '0', '0', '0', '[]', 'False', 'nan', '0', 'Не нормируется', '7', 'nan', 'nan', 'nan', 'nan', 'nan', 'nan', 'nan', 'nan', 'nan', 'nan', 'nan', 'nan', 'nan', 'nan', 'nan', 'nan', 'nan', 'nan', 'nan', 'nan', 'nan', 'nan', 'nan', 'nan', 'nan', 'nan', 'nan', 'nan', 'nan', 'nan', 'nan', 'nan', 'nan', 'nan', 'nan', 'nan', 'nan', 'nan', 'nan', 'nan', 'nan', 'nan', 'nan', 'nan'), (2, '0', '13383', '28105', '306', '2МЕН ГРУПП', '2МЕН ГРУПП', '2МЕН ГРУПП', '0', '5', '0', 'Тюменская область', '+7(345)279-18-88', '2mengroup.ru', 'info@2mengroup.ru', '7701651356', '1067746424899', '720301001', 'Тюменская область, город Тюмень, улица Комсомольская дом 75/5', 'Тюменская область, город Тюмень, улица Комсомольская 75/5', '622118', '1', '72.0', 'Киселев Сергей Михайлович', '1', 'Акционерное общество', 'АО', '0', '0', '72', 'г Тюмень', '68', '2022-12-31', 'Другое', 'По желанию заказчика', 'Есть', '31', '6293.78', '72-000095', 'https://xn--80az8a.xn--d1aqf.xn--p1ai/api/ext/file/ba620b51-dd7c-4632-9b6d-7e9ae06b4f91', '04-08-2022 14:30', '57.1519', '65.5536', '1', '0', 'Элитный', '15-08-2022 01:19', \"[{'objId': 13383, 'pdId': 28105, 'rpdId': 622104, 'devId': 306, 'ordNum': 1, 'objRenderPhotoSize': 1433738, 'objRenderPhotoUrl': 'https://xn--80az8a. ... (2823 characters truncated) ... enderPhotoNm': 'IMG_20210512_0951216.jpg', 'objReadyDesc': 'Строится', 'objBuildTypeShortDesc': 'Жилое', 'knFlg': 1, 'loadDttm': '15-08-2022 01:03'}]\", '0', 'normal', '1', '39024', '68', '6293.78', '10', '0', 'True', '0', '1', '1', '[]', 'False', 'info@2mengroup.ru', '0', 'B', '10', '2МЕН ГРУПП ДЕВЕЛОПМЕНТ', '5776.0', '4.0', '20.0', 'https://xn--80az8a.xn--d1aqf.xn--p1ai/api/ext/file/0dca6482-02ba-4d56-a861-7a17db04c957', '20.0', '13.0', '21.0', '34.0', '0.0', '68.0', '1.0', '6.0', '28-02-2023 12:00', '2,8', '1.0', '1.0', '1.0', '0.0', '11.0', '0.0', '5.0', '1.0', '0.407163898325013', '53109.0', 'ООО Транспромжилстрой-2005 (ИНН: 7204097730)', '1.0', 'nan', 'nan', 'nan', 'nan', 'nan', 'nan', 'nan', 'nan', 'nan', 'nan', 'nan', 'nan', 'nan', 'nan', 'nan', 'nan', 'nan'), (3, '0', '13391', '28101', '306', '2МЕН ГРУПП', '2МЕН ГРУПП', '2МЕН ГРУПП', '0', '5', '0', 'Тюменская область', '+7(345)279-18-88', '2mengroup.ru', 'info@2mengroup.ru', '7701651356', '1067746424899', '720301001', 'Тюменская область, город Тюмень, улица Комсомольская дом 75/5', 'Тюменская область, город Тюмень, улица Комсомольская 75/5', '622118', '1', '72.0', 'Киселев Сергей Михайлович', '1', 'Акционерное общество', 'АО', '0', '0', '72', 'г Тюмень, ул Профсоюзная', '44', '2022-12-31', 'Другое', 'По желанию заказчика', 'Есть', '41', '4297.44', '72-000096', 'https://xn--80az8a.xn--d1aqf.xn--p1ai/api/ext/file/b0744a7d-5bb7-4e37-86c4-a06301317bdd', '04-08-2022 14:31', '57.1541', '65.5595', '1', '0', 'Элитный', '15-08-2022 01:19', \"[{'objId': 13391, 'pdId': 28101, 'rpdId': 622116, 'devId': 306, 'ordNum': 1, 'objRenderPhotoSize': 310482, 'objRenderPhotoUrl': 'https://xn--80az8a.x ... (4598 characters truncated) ... enderPhotoNm': 'IMG_20210512_0944249.jpg', 'objReadyDesc': 'Строится', 'objBuildTypeShortDesc': 'Жилое', 'knFlg': 1, 'loadDttm': '15-08-2022 01:03'}]\", '0', 'normal', '1', '37219', '44', '4297.44', '26', '0', 'True', '0', '1', '1', '[]', 'False', 'info@2mengroup.ru', '0', 'B', '9', '2МЕН ГРУПП ДЕВЕЛОПМЕНТ', '5776.0', '3.0', '12.0', 'https://xn--80az8a.xn--d1aqf.xn--p1ai/api/ext/file/09ff8156-bcbb-4033-a36a-dd45abd0b430', '12.0', '11.0', '16.0', '12.0', '5.0', '44.0', '2.0', '4.0', '28-02-2023 12:00', '2,8', '1.0', '1.0', '1.0', '0.0', '9.0', '0.0', '2.0', '2.0', '0.450621765516214', '55893.0', 'ООО Транспромжилстрой-2005 (ИНН: 7204097730)', '1.0', 'nan', 'nan', 'nan', 'nan', 'nan', 'nan', 'nan', 'nan', 'nan', 'nan', 'nan', 'nan', 'nan', 'nan', 'nan', 'nan', 'nan'), (4, '0', '13397', '28141', '306', '2МЕН ГРУПП', '2МЕН ГРУПП', '2МЕН ГРУПП', '0', '5', '0', 'Тюменская область', '+7(345)279-18-88', '2mengroup.ru', 'info@2mengroup.ru', '7701651356', '1067746424899', '720301001', 'Тюменская область, город Тюмень, улица Комсомольская дом 75/5', 'Тюменская область, город Тюмень, улица Комсомольская 75/5', '622118', '1', '72.0', 'Киселев Сергей Михайлович', '1', 'Акционерное общество', 'АО', '0', '0', '72', 'г Тюмень, ул Профсоюзная, д. 56', '65', '2024-12-31', 'Другое', 'Без отделки', 'Нет', '0', '6248.51', '72-000097', 'https://xn--80az8a.xn--d1aqf.xn--p1ai/api/ext/file/e4e09ad9-2173-4185-b082-761b4d8c6008', '04-08-2022 14:33', '57.1519', '65.5544', '0', '0', 'Элитный', '15-08-2022 01:19', \"[{'objId': 13397, 'pdId': 28141, 'rpdId': 622118, 'devId': 306, 'ordNum': 1, 'objRenderPhotoSize': 1495964, 'objRenderPhotoUrl': 'https://xn--80az8a. ... (1483 characters truncated) ... enderPhotoNm': 'IMG_20210512_0949152.jpg', 'objReadyDesc': 'Строится', 'objBuildTypeShortDesc': 'Жилое', 'knFlg': 1, 'loadDttm': '15-08-2022 01:03'}]\", '0', 'normal', '1', '37201', '65', '6248.51', '70', '0', 'True', '0', '1', '1', '[]', 'False', 'info@2mengroup.ru', '0', 'B', '10', '2МЕН ГРУПП ДЕВЕЛОПМЕНТ', '5776.0', '6.0', '12.0', 'https://xn--80az8a.xn--d1aqf.xn--p1ai/api/ext/file/cb641b0a-8580-4cbd-9f0c-1dca386bdb97', '12.0', '0.0', '24.0', '35.0', '6.0', '65.0', '4.0', '3.0', '28-02-2025 12:00', '2,96', '1.0', '1.0', '1.0', '11.0', '10.0', '0.0', '5.0', '4.0', '0.99998399618469', '45523.0', 'ООО Транспромжилстрой-2005 (ИНН: 7204097730)', '0.0', 'nan', 'nan', 'nan', 'nan', 'nan', 'nan', 'nan', 'nan', 'nan', 'nan', 'nan', 'nan', 'nan', 'nan', 'nan', 'nan', 'nan'), (5, '0', '13398', '28141', '306', '2МЕН ГРУПП', '2МЕН ГРУПП', '2МЕН ГРУПП', '0', '5', '0', 'Тюменская область', '+7(345)279-18-88', '2mengroup.ru', 'info@2mengroup.ru', '7701651356', '1067746424899', '720301001', 'Тюменская область, город Тюмень, улица Комсомольская дом 75/5', 'Тюменская область, город Тюмень, улица Комсомольская 75/5', '622118', '1', '72.0', 'Киселев Сергей Михайлович', '1', 'Акционерное общество', 'АО', '0', '0', '72', 'г Тюмень, ул Профсоюзная, д. 56', '43', '2024-12-31', 'Другое', 'Без отделки', 'Нет', '0', '4812.98', '72-000097', 'https://xn--80az8a.xn--d1aqf.xn--p1ai/api/ext/file/e4e09ad9-2173-4185-b082-761b4d8c6008', '04-08-2022 14:33', '57.1519', '65.5544', '0', '0', 'Элитный', '15-08-2022 01:19', \"[{'objId': 13398, 'pdId': 28141, 'rpdId': 622118, 'devId': 306, 'ordNum': 1, 'objRenderPhotoSize': 1325881, 'objRenderPhotoUrl': 'https://xn--80az8a. ... (1892 characters truncated) ... g': 0, 'objRenderPhotoNm': 'IMG_8924.JPG', 'objReadyDesc': 'Строится', 'objBuildTypeShortDesc': 'Жилое', 'knFlg': 1, 'loadDttm': '15-08-2022 01:03'}]\", '0', 'normal', '1', '37165', '43', '4812.98', '48', '0', 'True', '0', '1', '1', '[]', 'False', 'info@2mengroup.ru', '0', 'B', '10', '2МЕН ГРУПП ДЕВЕЛОПМЕНТ', '5776.0', '7.0', '10.0', 'https://xn--80az8a.xn--d1aqf.xn--p1ai/api/ext/file/ddfe3c88-edc4-4b78-b1b5-68f8ea2877fc', '10.0', '0.0', '11.0', '19.0', '13.0', '43.0', '3.0', '3.0', '28-02-2025 12:00', '2,96', '1.0', '1.0', '1.0', '4.0', '15.0', '0.0', '3.0', '3.0', '1.0', '47886.0', 'ООО Транспромжилстрой-2005 (ИНН: 7204097730)', '0.0', 'nan', 'nan', 'nan', 'nan', 'nan', 'nan', 'nan', 'nan', 'nan', 'nan', 'nan', 'nan', 'nan', 'nan', 'nan', 'nan', 'nan'), (6, '0', '13399', '28141', '306', '2МЕН ГРУПП', '2МЕН ГРУПП', '2МЕН ГРУПП', '0', '5', '0', 'Тюменская область', '+7(345)279-18-88', '2mengroup.ru', 'info@2mengroup.ru', '7701651356', '1067746424899', '720301001', 'Тюменская область, город Тюмень, улица Комсомольская дом 75/5', 'Тюменская область, город Тюмень, улица Комсомольская 75/5', '622118', '1', '72.0', 'Киселев Сергей Михайлович', '1', 'Акционерное общество', 'АО', '0', '0', '72', 'г Тюмень, ул Профсоюзная, д. 56', '0', '2024-12-31', 'Другое', 'Без отделки', 'Нет', '125', '0.0', '72-000097', 'https://xn--80az8a.xn--d1aqf.xn--p1ai/api/ext/file/e4e09ad9-2173-4185-b082-761b4d8c6008', '04-08-2022 14:33', '57.1519', '65.5544', '0', '0', 'Элитный', '15-08-2022 01:19', \"[{'objId': 13399, 'pdId': 28141, 'rpdId': 622118, 'devId': 306, 'ordNum': 1, 'objRenderPhotoSize': 996519, 'objRenderPhotoUrl': 'https://xn--80az8a.x ... (148 characters truncated) ... nderPhotoNm': 'IMG_20210512_095117.jpg', 'objReadyDesc': 'Строится', 'objBuildTypeShortDesc': 'Нежилое', 'knFlg': 0, 'loadDttm': '15-08-2022 01:03'}]\", '0', 'normal', '0', '34754', '0', '0.0', '0', '0', 'True', '0', '1', '1', '[]', 'False', 'info@2mengroup.ru', '0', 'B', '10', '2МЕН ГРУПП ДЕВЕЛОПМЕНТ', '5776.0', '1.0', '1.0', 'https://xn--80az8a.xn--d1aqf.xn--p1ai/api/ext/file/6c612978-9eec-4571-a24d-90c40b806c66', '1.0', 'nan', 'nan', 'nan', 'nan', 'nan', 'nan', 'nan', '28-02-2025 12:00', 'nan', '0.0', '0.0', '1.0', '0.0', '0.0', '0.0', '8.0', '7.0', '0.917242870424423', '50768.0', 'ООО Транспромжилстрой-2005 (ИНН: 7204097730)', '1.0', 'nan', 'nan', 'nan', 'nan', 'nan', 'nan', 'nan', 'nan', 'nan', 'nan', 'nan', 'nan', 'nan', 'nan', 'nan', 'nan', 'nan'), (7, '0', '36912', '337586', '10296', 'CЗ СТРОЙРЕСУРС', 'CЗ СТРОЙРЕСУРС', 'CПЕЦИАЛИЗИРОВАННЫЙ ЗАСТРОЙЩИК СТРОЙРЕСУРС', '0', '1', '0', 'Ставропольский край', '+7(865)223-03-08', 'sz.stroyresurs126.ru', 'sz.stroyresurs@yandex.ru', '2634049923', '1022601933430', '263501001', 'Ставропольский край, г Ставрополь, пр-кт Кулакова дом 12Б офис 102', 'край Ставропольский, г Ставрополь, пр-кт Кулакова, д. 12Б, оф. 102', '619857', '0', '26.0', 'Пономаренко Светлана Федоровна', '4', 'Общество с ограниченной ответственностью', 'ООО', '1', '0', '26', 'г Ставрополь, ул Шпаковская, Доваторцев, д. 107, 38, блок-секция БС-1, БС-2, БС-3', '104', '2022-12-31', 'Монолит-кирпич', 'Под чистовую', 'Нет', '42', '8295.2', '26-000567', 'https://xn--80az8a.xn--d1aqf.xn--p1ai/api/ext/file/b3d7ae9e-52ae-44d1-91e9-778e3c6226b8', '01-08-2022 17:07', '45.02', '41.9346', '0', '0', 'Комфорт', '15-08-2022 01:19', \"[{'objId': 36912, 'pdId': 337586, 'rpdId': 619857, 'devId': 10296, 'ordNum': 1, 'objRenderPhotoSize': 3018925, 'objRenderPhotoUrl': 'https://xn--80az ... (645 characters truncated) ... ковская-107-доваторцев-38_page-00041.jpg', 'objReadyDesc': 'Строится', 'objBuildTypeShortDesc': 'Жилое', 'knFlg': 1, 'loadDttm': '15-08-2022 01:03'}]\", '1', 'normal', '1', '117248', '104', '8295.2', '10', '0', 'True', '0', '1', '1', '[]', 'False', 'sz.stroyresurs@yandex.ru', '0', 'B', '8', 'nan', 'nan', '2.0', '10.0', 'https://xn--80az8a.xn--d1aqf.xn--p1ai/api/ext/file/6f480f77-4ff9-4ed2-9a4f-7990e926d7bc', '10.0', '16.0', '37.0', '43.0', '8.0', '104.0', '3.0', '4.0', '31-12-2022 12:00', '2,85', '1.0', '0.0', '1.0', '20.0', '0.0', '0.0', '3.0', '0.0', '0.577948693220176', '61755.0', 'ООО Стройресурс (ИНН: 2634053119)', '1.0', 'nan', 'nan', 'nan', 'nan', 'nan', 'nan', 'nan', 'nan', 'nan', 'nan', 'nan', 'nan', 'nan', 'nan', 'nan', 'nan', 'nan')  ... displaying 10 of 10527 total bound parameter sets ...  (10525, '0', '44447', '475093', '2538', 'ЯРОСЛАВЛЬЗАКАЗЧИК', 'ЯРОСЛАВЛЬЗАКАЗЧИК', 'СПЕЦИАЛИЗИРОВАННЫЙ ЗАСТРОЙЩИК ЯРОСЛАВЛЬЗАКАЗЧИК', '0', '1', '3', 'Ярославская область', '+7(485)272-94-29', 'yarzak.ru', 'yarzak@mail.ru', '7604152390', '1097604002803', '760401001', 'Ярославская область, город Ярославль, улица Максимова дом 10', 'Ярославская область, город Ярославль, улица Максимова 10', '621135', '0', '76.0', 'Волончунас Дмитрий Викторович', '1', 'Акционерное общество', 'АО', '1', '0', '76', 'г Ярославль, Фрунзенский район, территория в районе ул.Калинина и ул.Рябиновой, строение 2', '127', '2022-12-31', 'Кирпич', 'Другое', 'Нет', '0', '6764.22', '76-000546', 'https://xn--80az8a.xn--d1aqf.xn--p1ai/api/ext/file/039c638b-d3e2-49b8-b8c8-9e0420809bd7', '03-08-2022 12:24', '57.5679', '39.865', '0', '0', 'Типовой', '15-08-2022 01:19', \"[{'objId': 44447, 'pdId': 475093, 'rpdId': 621135, 'devId': 2538, 'ordNum': 1, 'objRenderPhotoSize': 53494, 'objRenderPhotoUrl': 'https://xn--80az8a. ... (567 characters truncated) ... g': 0, 'objRenderPhotoNm': 'стр1.2_1.jpg', 'objReadyDesc': 'Строится', 'objBuildTypeShortDesc': 'Жилое', 'knFlg': 1, 'loadDttm': '15-08-2022 01:03'}]\", '1', 'normal', '1', '125044', '127', '6764.22', '7', '0', 'True', '0', '1', '1', '[]', 'False', 'yarzak@mail.ru', '0', 'C', '7', 'Ярославльзаказчик', '6811.0', '6.0', '6.0', 'https://xn--80az8a.xn--d1aqf.xn--p1ai/api/ext/file/56660c52-7519-408b-972a-825dd979b4e9', '6.0', '54.0', '59.0', '14.0', '0.0', '127.0', '7.0', '4.0', '01-07-2023 12:00', '2,5', '1.0', '1.0', '1.0', '25.0', '0.0', '0.0', '0.0', '0.0', '0.241242892750384', '69916.0', 'АО Специализированный застройщик \"Горстройзаказчик\" (ИНН: 7604142106)', '0.0', 'nan', 'nan', 'nan', 'nan', 'nan', 'nan', 'nan', 'nan', 'nan', 'nan', 'nan', 'nan', 'nan', 'nan', 'nan', 'nan', 'nan'), (10526, '0', '45321', '516648', '2912', '‹‹СЗ ‹‹СТРОЙ-НАДЕЖДА››', '‹‹СЗ ‹‹СТРОЙ-НАДЕЖДА››', '‹‹СПЕЦИАЛИЗИРОВАННЫЙ ЗАСТРОЙЩИК ‹‹СТРОЙ-НАДЕЖДА››', '0', '1', '7', 'Брянская область', '+7 (483) 274-56-60', 'www.saks32.ru', 'saks_br@mail.ru', '3235015191', '1033231002694', '325701001', 'Брянская область, город Брянск, улица Советская дом 49/1 офис 2', 'Брянская обл, город Брянск, улица Советская, д.49/1, оф.2', '623960', '0', '32.0', 'Киселев Сергей Иванович', '4', 'Общество с ограниченной ответственностью', 'ООО', '1', '0', '32', 'г Брянск, улица Молодой Гвардии, строение Поз.1', '90', '2023-03-31', 'Монолит-кирпич', 'Без отделки', 'Нет', '0', '5288.4', '32-000336', 'https://xn--80az8a.xn--d1aqf.xn--p1ai/api/ext/file/53f63140-b570-47d2-957e-b87962adbdc0', '09-08-2022 12:43', '53.3129', '34.277', '0', '0', 'Типовой', '15-08-2022 01:19', \"[{'objId': 45321, 'pdId': 516648, 'rpdId': 623960, 'devId': 2912, 'ordNum': 1, 'objRenderPhotoSize': 2209809, 'objRenderPhotoUrl': 'https://xn--80az8 ... (1013 characters truncated) ...  0, 'objRenderPhotoNm': '03__22.jpg2.jpg', 'objReadyDesc': 'Строится', 'objBuildTypeShortDesc': 'Жилое', 'knFlg': 1, 'loadDttm': '15-08-2022 01:03'}]\", '1', 'normal', '1', '125942', '90', '5288.4', '0', '0', 'True', '0', '1', '1', '[]', 'False', 'saks_br@mail.ru', '0', 'C', '7', 'САКС', '5724.0', '11.0', '11.0', 'https://xn--80az8a.xn--d1aqf.xn--p1ai/api/ext/file/af2ae9e2-7745-4cc9-97bd-877ead32e4df', '11.0', '36.0', '36.0', '18.0', '0.0', '90.0', '2.0', '5.0', '30-06-2023 12:00', '2,76', '1.0', '0.0', '1.0', '60.0', '0.0', '0.0', '0.0', '0.0', '0.0889683079948567', '68188.0', 'nan', '0.0', 'nan', 'nan', 'nan', 'nan', 'nan', 'nan', 'nan', 'nan', 'nan', 'nan', 'nan', 'nan', 'nan', 'nan', 'nan', 'nan', 'nan'))\n",
      "2022-08-15 21:42:16,458 INFO sqlalchemy.engine.Engine COMMIT\n"
     ]
    },
    {
     "data": {
      "text/plain": [
       "10527"
      ]
     },
     "execution_count": 20,
     "metadata": {},
     "output_type": "execute_result"
    }
   ],
   "source": [
    "sqlite_table = \"data/dom_rf\"\n",
    "df_sql.to_sql(sqlite_table, sqlite_connection, if_exists='append')"
   ]
  }
 ],
 "metadata": {
  "interpreter": {
   "hash": "71accdfefc80eb25f62b884ae3ac863f713009ccce9acf48ccea2b4dc4631e98"
  },
  "kernelspec": {
   "display_name": "Python 3.9.12 ('HomeWork1')",
   "language": "python",
   "name": "python3"
  },
  "language_info": {
   "codemirror_mode": {
    "name": "ipython",
    "version": 3
   },
   "file_extension": ".py",
   "mimetype": "text/x-python",
   "name": "python",
   "nbconvert_exporter": "python",
   "pygments_lexer": "ipython3",
   "version": "3.9.12"
  },
  "orig_nbformat": 4
 },
 "nbformat": 4,
 "nbformat_minor": 2
}
