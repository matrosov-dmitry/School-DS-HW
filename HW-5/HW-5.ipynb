{
 "cells": [
  {
   "cell_type": "markdown",
   "metadata": {
    "id": "pDrecLU-4QjS"
   },
   "source": [
    "# Практика"
   ]
  },
  {
   "cell_type": "code",
   "execution_count": 1,
   "metadata": {
    "id": "a6XFMuQUG6jO"
   },
   "outputs": [],
   "source": [
    "import pandas as pd\n",
    "import numpy as np\n",
    "import matplotlib.pyplot as plt\n",
    "import scipy.stats as sts\n",
    "import scipy\n",
    "import statsmodels.stats.weightstats as ssw\n",
    "%matplotlib inline\n",
    "import numpy as np"
   ]
  },
  {
   "cell_type": "markdown",
   "metadata": {
    "id": "5owLnS0MHJnz"
   },
   "source": [
    "## ЦПТ для различных распределений\n",
    "Возьмите то непрерывное распределение, которое вам больше всего понравится из списка доступных в модуле [scipy.stats](https://docs.scipy.org/doc/scipy/reference/stats.html)."
   ]
  },
  {
   "cell_type": "markdown",
   "metadata": {
    "id": "v1IvIGF9IRgH"
   },
   "source": [
    "### Сгенерируйте примеры из распределения"
   ]
  },
  {
   "cell_type": "code",
   "execution_count": 2,
   "metadata": {},
   "outputs": [
    {
     "data": {
      "text/plain": [
       "array([ 1.92682073,  1.04211386,  1.01999738,  1.00328264,  1.56590287,\n",
       "        1.60529647,  1.07092749,  1.1801419 ,  1.0558527 ,  2.26859595,\n",
       "        1.74793409,  1.14653114,  1.28714179,  1.10184183,  1.06832531,\n",
       "        1.10818095,  2.39701488,  1.05102189,  4.06224968,  1.2139423 ,\n",
       "        1.01783508,  1.32376478,  1.51881898,  3.09841753,  4.01522117,\n",
       "        1.50027199,  1.15658478,  1.54494334,  2.09039207,  1.31904287,\n",
       "        1.78987052,  1.02563316,  1.15376629,  1.11608422,  1.61410063,\n",
       "        1.2460152 ,  1.10639659,  1.43478043,  1.17098251,  1.10072561,\n",
       "        1.69549977, 12.3265139 ,  1.21293377,  2.13638121,  1.05662148,\n",
       "        1.51790039,  2.2885421 ,  1.15511779,  1.46104839,  1.1158316 ,\n",
       "        1.01832666,  1.19930596,  1.16266211,  1.10475189,  2.09623138,\n",
       "        1.22921178,  1.36316879,  1.36858647,  1.15451836,  1.14813397,\n",
       "        1.34694216,  1.1012312 ,  1.07409289,  1.1401304 ,  1.05923719,\n",
       "        2.85482344,  1.20014339,  1.31830624,  1.05670777,  1.16816804,\n",
       "        1.0724927 ,  1.06260566,  1.25537496,  8.9989209 ,  1.01111072,\n",
       "        1.23927078,  1.43751481,  1.11037771,  2.13447881,  1.25946041,\n",
       "        1.19867807,  3.53939925,  1.17098472,  3.29687585,  1.33896166,\n",
       "        1.43201997,  1.01361992,  1.65605513,  1.01274925,  1.28936255,\n",
       "        2.10928728,  2.50581614,  1.30242406,  1.18036938,  1.01294304,\n",
       "        1.54994649,  2.59687254,  1.04188317,  1.69148975,  1.15074758,\n",
       "        1.53783107,  1.19586838,  1.21265559,  1.4753894 ,  1.07859523,\n",
       "        1.12609819,  1.05232768,  1.69746001,  1.17067972,  1.24515003,\n",
       "        1.05430847,  1.00214443,  1.71680877,  1.75007443,  1.68432594,\n",
       "        1.64382558,  1.37570843,  1.17959006,  1.01424632,  1.27100139,\n",
       "        1.05112726,  1.27042646,  2.85627024,  1.25811266,  1.35166608,\n",
       "        1.58421014,  1.26500667,  1.06051459,  1.3018375 ,  1.03744539,\n",
       "        2.15519936,  1.10245565,  2.63986212,  1.66606651,  1.39661023,\n",
       "        2.1738572 ,  4.40830312,  1.66997253,  1.50151202,  1.78179224,\n",
       "        1.09918855,  1.19673018,  1.34936679,  1.42889706,  1.13817405,\n",
       "        1.9465296 ,  6.45556431,  1.05815634,  1.43917819,  1.82003827,\n",
       "        1.62022523,  1.54925655,  1.19216797,  2.02939904,  2.75353415,\n",
       "        1.43621921,  1.02648655,  1.47627714,  1.18135043,  1.46122261,\n",
       "        1.22520644,  1.06240578,  1.63222404,  2.07115882,  1.29395305,\n",
       "        1.10470824,  1.14561191,  1.39146597,  1.54196841,  1.68352006,\n",
       "        1.08441699,  1.24616351,  2.10914511,  1.55672374,  1.02259117,\n",
       "        1.73957672,  1.6234538 ,  1.34946809,  1.00365118,  2.65313124,\n",
       "        2.60997923,  1.14747921,  4.01911094,  1.48999816,  1.62579566,\n",
       "        1.85008033,  2.68244165,  1.02217793,  1.11863902,  1.22120491,\n",
       "        1.31904263,  1.14713291,  1.40928593,  1.33082258,  1.22051856,\n",
       "        1.38057145,  1.18621362,  1.01690372,  1.48648162,  3.78436834,\n",
       "        1.19554584,  1.20665505,  1.59589951,  1.30788528,  1.08986607,\n",
       "        1.07091305,  2.70834134,  1.28891684,  2.17003388,  1.10407951,\n",
       "        1.24993726,  1.19381168,  4.12485773,  1.00567721,  1.08634367,\n",
       "        3.92388994,  1.15350776,  1.02639939,  1.02904492,  1.86206263,\n",
       "        1.31835893,  1.45584396,  1.36205283,  1.46039459,  1.8627257 ,\n",
       "        1.06536488,  1.17098451,  1.41505841,  1.4748868 ,  1.39354581,\n",
       "        1.30539982,  1.18499819,  1.04000326,  1.55469555,  1.28642225,\n",
       "        1.22294953,  1.04829392,  1.04006351,  2.35375029,  1.02031457,\n",
       "        1.16464335,  1.1694042 ,  1.78249457,  1.17008654,  1.45690928,\n",
       "        1.45628086,  2.23116345,  1.40129228,  1.00126012,  1.65886705,\n",
       "        1.1718192 ,  2.75776724,  1.11968552,  1.1029302 ,  1.63909133,\n",
       "        1.55506377,  1.23377189,  1.09267393,  2.11776258,  1.1066982 ,\n",
       "        1.92445443,  1.18767931,  2.37145191,  1.01158612,  1.48022474,\n",
       "        1.21609848,  4.99293823,  1.28495339,  1.46683653,  2.1628453 ,\n",
       "        2.7438935 ,  1.12112196,  1.30022225,  1.16768951,  1.41756897,\n",
       "        1.12895139,  1.01222128,  1.20399197,  4.59284706,  1.01949663,\n",
       "        1.04095125,  1.14866756,  1.08352389,  1.39756477,  1.28077617,\n",
       "        1.23375493,  1.08797161,  1.81558455,  1.06502902,  1.0693498 ,\n",
       "        1.46561016,  1.27804234,  1.18166135,  1.01994361,  1.06920515,\n",
       "        1.30743425,  1.05838365,  1.2496141 ,  2.87579862,  1.05541306,\n",
       "        1.02714386,  1.02409821,  1.01751811,  1.41755796,  1.06105877,\n",
       "        1.24982267,  1.07128526,  1.50127301,  1.89116716,  1.56143958,\n",
       "        2.37171135,  1.01485475,  1.21231182,  1.0234287 ,  1.10733753,\n",
       "        1.55435775,  1.02146317,  1.10255413,  1.97302985,  1.07658314,\n",
       "        1.00636498,  1.30536356,  1.81904166,  1.16138914,  1.05790634,\n",
       "        5.77399486,  1.04162605,  1.58394437,  1.02660018,  1.33819844,\n",
       "        1.16232511,  1.03071218,  1.16338068,  1.35245668,  1.17788628,\n",
       "        1.0472929 , 23.60190558,  1.29119094,  2.36357535,  1.21201407,\n",
       "        3.59136691,  1.17779327,  2.76753084,  1.05593315,  1.12675759,\n",
       "        1.00767488,  1.47038108,  1.24920067,  1.30008931,  1.32463743,\n",
       "        1.34622994,  1.34066024,  1.87423443,  1.86829755,  1.03853481,\n",
       "        1.04982121,  1.38876216,  1.03015723,  1.01926842,  1.03538669,\n",
       "        1.0138672 ,  1.30304591,  1.24221288,  1.22259729,  1.28671315,\n",
       "        1.5276247 ,  1.48531799,  1.06101878,  1.05554972,  1.11862319,\n",
       "        1.17363683,  1.52530748,  1.32386187,  1.12039094,  2.02075903,\n",
       "        1.19628122,  2.20011366,  1.20240947,  1.05884683,  1.1417584 ,\n",
       "        1.53841316,  2.32324987,  1.31130389,  1.25496311,  1.09440526,\n",
       "        3.03157667,  1.18623363,  1.24428603,  1.07802252,  1.00759484,\n",
       "        1.31588286,  1.01957433,  3.79329548,  1.27581177,  2.37804884,\n",
       "        1.00327116,  1.16111733,  2.73312327,  1.56226082,  1.19532541,\n",
       "        1.18856084,  1.18562566,  1.18830593,  1.00595276,  1.16189467,\n",
       "        2.10718789,  1.21469681,  5.91892989,  1.19750437,  1.06199445,\n",
       "        1.89430761,  1.17137033,  1.04757708,  1.37454986,  1.33038491,\n",
       "        1.7185549 ,  1.14674497,  1.1218663 ,  1.06319607,  1.22448576,\n",
       "        1.26548766,  1.99610752,  1.19717336,  7.1913983 ,  1.21292745,\n",
       "        2.18495513,  1.15644372,  1.07301207,  1.04872866,  1.22529127,\n",
       "        1.04361863,  1.11469256,  2.17593222,  1.19548735,  1.83517622,\n",
       "        1.46098033,  2.04835718,  1.23348565,  1.49381247,  1.05914452,\n",
       "        1.76488773,  1.442303  ,  1.42045784, 35.92118569,  1.28599109,\n",
       "        1.34036751,  1.37021072,  1.4904993 ,  1.09277982,  1.48289217,\n",
       "        1.20935408,  1.34234856,  1.01811712,  1.06358618,  1.34862656,\n",
       "        2.30421251,  1.01434916,  1.11294638,  2.30400385,  1.06053802,\n",
       "        1.03419271,  2.0528208 ,  1.5123524 ,  1.24921166,  1.41481867,\n",
       "        1.00032269,  1.1410824 ,  1.2351853 ,  1.02785482,  3.51093846,\n",
       "        2.79008492,  1.65698203,  1.16978125,  1.81777272,  3.13515324,\n",
       "        1.2307488 ,  1.62002614,  1.18361355,  1.26680915,  1.79732022,\n",
       "        1.84954049,  1.01969243,  1.02122604,  1.39301781,  1.6302414 ,\n",
       "        1.41254856,  4.44910883,  1.92437014,  1.11782352,  1.60461155,\n",
       "        1.42855772,  1.98398139,  1.46605707,  1.38180572,  1.30733503,\n",
       "        1.15305304,  1.27987391,  1.01545723,  1.32085539,  1.1037993 ,\n",
       "        1.27298824,  1.37510082,  1.16427135,  1.92037588,  1.95217904,\n",
       "        1.30464419,  1.31625192,  2.62174166,  1.16519368,  1.10679892,\n",
       "        1.03676011,  1.13173919,  1.63935948,  1.34819603,  1.06504706,\n",
       "        1.31925449,  1.33350587,  1.12722043,  8.25721785,  1.98044588,\n",
       "        1.09077955,  1.26438709,  1.68151676,  1.0343282 ,  1.01840242,\n",
       "        2.98537107,  1.10733237,  2.11324843,  1.35161736,  1.99383997,\n",
       "        1.11686591,  1.75228035,  1.33057125,  2.78714117,  1.13870893,\n",
       "        1.32365362,  1.08051832,  1.00384811,  1.66419265,  1.13528242,\n",
       "        2.04547425,  1.0470872 ,  2.5116878 ,  1.29636698,  2.07893463,\n",
       "        1.48716638,  1.06138796,  2.45538311,  3.7431556 ,  1.19518095,\n",
       "        1.04807912,  1.01229373,  1.1915487 , 29.14662541,  1.67525729,\n",
       "        1.01975792,  1.09942048,  2.46459333,  1.12323471,  1.40993263,\n",
       "        1.44485798,  1.34858283,  1.30506517,  1.11364237,  1.05172794,\n",
       "        1.88824564,  3.59383695,  1.20003538,  1.06627702,  1.1850092 ,\n",
       "        1.64312591,  1.64684721,  1.17425603,  1.03984909,  1.04610065,\n",
       "        1.96109813,  1.13387512,  1.10528894,  2.51066451,  6.42040557,\n",
       "        1.8937648 ,  1.40045046,  1.56627281,  1.44550604,  1.6611604 ,\n",
       "        2.99516844,  1.50901934,  1.17993785,  1.39528351,  1.19222116,\n",
       "        1.10707329,  1.35835685,  1.18562916,  4.40170414,  1.06263835,\n",
       "        1.43126129,  2.15043941,  1.27420782,  1.53477199,  1.11811067,\n",
       "        1.20753632,  1.02162262,  1.51297245,  1.53608898,  1.00688441,\n",
       "        1.13594882,  3.67766881,  1.48724179,  1.56221426,  1.22916991,\n",
       "        1.01417903,  1.71168615,  1.21672199,  2.26673786,  1.0184218 ,\n",
       "        1.01096882,  1.29656584,  1.36504403,  3.8065886 ,  1.03552398,\n",
       "        1.07697724,  1.2906469 ,  1.18252031,  1.83233398,  2.23343425,\n",
       "        1.00347053,  2.50685479,  1.21961299,  1.26788095,  3.2127485 ,\n",
       "        1.10526033,  1.98975974,  1.08373219,  1.52240543,  1.13266943,\n",
       "        1.09446639,  1.34823099,  1.38014343,  2.24000234,  1.88541606,\n",
       "        1.15277735,  2.93531501,  2.90429089,  2.2759006 ,  1.97976867,\n",
       "        1.0769817 ,  1.18419589,  1.80305895,  5.55241911,  1.251367  ,\n",
       "        1.0676406 ,  1.19083782,  2.360452  ,  1.2176781 ,  1.0673425 ,\n",
       "        3.00791142,  1.02897667,  2.32933248,  2.93769162,  1.91493685,\n",
       "        1.71910005,  1.26225266,  1.04174927,  1.01626853,  2.09959132,\n",
       "        2.65405311,  1.25658763,  1.05275013,  1.15308366,  2.98385037,\n",
       "        2.22963495,  1.50554284,  1.7539328 ,  1.07704076,  1.15993188,\n",
       "        1.92654317,  1.17660776,  1.16884061,  1.19323902,  1.80393852,\n",
       "        1.22112363,  1.14748507,  1.45636751,  1.22997752,  1.1532534 ,\n",
       "        2.85011058,  2.58316547,  3.46516121,  1.48378932,  1.2717812 ,\n",
       "        3.18797802,  1.08914316,  1.8693101 ,  1.03191713,  1.65276566,\n",
       "        1.51672189,  2.53909799,  4.72041786,  1.03800932,  3.05676184,\n",
       "        2.04224429,  1.79470954,  1.05441633,  1.34145267,  1.17695329,\n",
       "        1.13301521,  3.46571992,  1.08915762,  1.41686535,  1.03017016,\n",
       "        1.61656542,  1.81842366,  1.44547662,  1.08577628,  1.6590138 ,\n",
       "        1.68924805,  1.12953308,  1.06146372,  1.92552288,  4.06898688,\n",
       "        1.01313535,  1.13044513,  1.23405112,  1.23204093,  1.0728553 ,\n",
       "        1.01480369,  1.64406992,  1.24102422,  1.62928129,  1.08234281,\n",
       "        1.19761337,  1.06352017,  1.37814952,  1.9071705 ,  1.19775568,\n",
       "        1.98570583,  1.01713264,  1.56264132,  1.0841131 ,  1.16150941,\n",
       "        1.79359394,  1.29583751,  1.39801219,  1.4822777 ,  3.57198774,\n",
       "        1.11649494,  1.16775188,  2.71454239,  1.3462147 ,  1.25361359,\n",
       "        1.02070539,  3.60115561,  2.18528341,  1.34146309,  1.37625893,\n",
       "        6.14668031,  1.01971582,  1.08896111,  1.19709547,  1.43545376,\n",
       "        2.01927831,  1.02093167,  1.14820852,  7.58927349,  1.01273879,\n",
       "        1.08402469,  1.38889145,  1.04561125,  1.06513788,  1.45362914,\n",
       "        1.34465266,  1.03301939,  3.05042546,  1.19598276,  1.18197729,\n",
       "        1.16902082,  1.28230523,  1.05434751,  1.20555805,  1.23677286,\n",
       "        1.60778408,  2.6943029 ,  1.1472107 ,  1.00783772,  1.47781526,\n",
       "        1.26912767,  1.06681147,  1.17282981,  1.67604378,  1.0487559 ,\n",
       "        1.09892621,  1.08794284,  3.12550265,  2.96769156,  1.23377766,\n",
       "        1.42366056,  1.1938936 ,  1.25682132,  3.20453276,  1.56398844,\n",
       "        1.7020928 ,  1.97327195,  1.31311292,  1.14555918,  1.41187115,\n",
       "        1.02120462,  1.03050625,  1.13156146,  1.83933254,  1.09010664,\n",
       "        1.06477808,  1.19132638,  1.31602252,  1.06441333,  1.25132573,\n",
       "        1.54945947,  1.16468377,  1.34974793,  2.80936323,  1.70094391,\n",
       "        2.03976296,  1.01599675,  1.32224374,  1.02851253,  1.46549173,\n",
       "        1.56172682,  1.03532285,  1.51905032,  1.95407596,  1.03525131,\n",
       "        1.03060979,  1.76017643,  1.23446004,  2.51529746,  1.00020142,\n",
       "        1.1146725 ,  1.45665632,  1.27143703,  1.13613346,  1.66186707,\n",
       "        1.63790123,  1.31173713,  3.48969936,  1.24741315,  1.14481235,\n",
       "        1.16944216,  1.01765919,  1.79334441,  1.12691578,  2.15305787,\n",
       "        1.25748557,  1.14956898,  1.03614071,  1.04958739,  1.64831035,\n",
       "        1.09063836,  1.03409736,  1.3685528 ,  1.34082634,  2.28171838,\n",
       "        1.22994109,  1.41127736,  1.20167605,  1.0309619 ,  1.65879886,\n",
       "        1.69737478,  1.98642851,  2.05342863,  1.09147753,  1.73434474,\n",
       "        1.13110927,  3.83361645,  1.39012129,  1.12349437,  2.1099914 ,\n",
       "        1.03825542,  1.55982138,  1.27993123,  1.4517899 ,  1.32414292,\n",
       "        1.12178547,  1.09075107,  1.94794107,  1.05536655,  1.65793972,\n",
       "        1.0800755 ,  1.40429797,  1.01470766,  1.06231763,  1.38657984,\n",
       "        1.36655551,  1.33246869,  2.28375509,  2.85691913,  3.37440809,\n",
       "        1.42493879,  1.82544902,  1.10137311,  1.04561935,  2.11071578,\n",
       "        1.14800517,  1.12340525,  1.36987681,  1.18931453,  1.11410927,\n",
       "        1.13191847,  2.13159333,  4.0747399 ,  1.48994172,  1.41167193,\n",
       "        1.50763119,  1.27703066,  1.07146065,  1.24191916,  1.1539469 ,\n",
       "        2.48860821,  1.95034538,  1.05873078,  1.0031798 ,  1.23968272,\n",
       "        1.43426827,  2.70095221,  1.07548678,  1.06025819,  1.21459542,\n",
       "        1.02437618,  1.13961842,  5.48355504,  1.1276086 ,  4.53927902,\n",
       "        6.34356   ,  1.77167682,  1.0384139 ,  1.05404545,  1.781201  ,\n",
       "        1.07482024,  1.29936309,  1.8444448 ,  1.10543892,  1.21750808,\n",
       "        1.30469872,  1.02897011,  1.65832031,  1.11930797,  1.98749675,\n",
       "        3.71643985,  1.23314879,  1.20103452,  1.12199639,  1.44450677,\n",
       "        1.12182041,  1.17390846,  1.23716701,  2.33327211,  1.58316759,\n",
       "        1.45864313,  1.18912436,  1.01169157,  2.34360899,  1.14786708,\n",
       "        6.36710017,  1.30538053,  1.07551987,  4.9498645 ,  1.24057303,\n",
       "        1.59206188,  1.69356245,  1.32139515,  1.00014228,  1.02040212,\n",
       "        1.14533954,  1.41913007,  1.04305243,  1.12875129,  1.20134627,\n",
       "        2.07654203,  1.51023101,  1.21361024,  1.39933821,  1.03904931,\n",
       "        1.23344146,  1.1339858 ,  1.16944219,  1.21360008,  1.26673217,\n",
       "        3.12173613,  1.23118101,  1.70993923,  6.80735682,  1.98710991,\n",
       "        1.64404509,  1.43113366,  1.40473147,  2.44203921,  1.74938158,\n",
       "        2.32503755,  1.3732569 ,  1.17520483,  1.30984531,  1.00488531])"
      ]
     },
     "execution_count": 2,
     "metadata": {},
     "output_type": "execute_result"
    }
   ],
   "source": [
    "# Распределение Парето\n",
    "\n",
    "pareto_sv = sts.pareto(b=2.62)\n",
    "sample = pareto_sv.rvs(1000)\n",
    "sample"
   ]
  },
  {
   "cell_type": "code",
   "execution_count": 3,
   "metadata": {},
   "outputs": [
    {
     "data": {
      "text/plain": [
       "dtype('float64')"
      ]
     },
     "execution_count": 3,
     "metadata": {},
     "output_type": "execute_result"
    }
   ],
   "source": [
    "sample.dtype"
   ]
  },
  {
   "cell_type": "code",
   "execution_count": 4,
   "metadata": {
    "id": "pXTNSqAOCYX4"
   },
   "outputs": [
    {
     "data": {
      "text/plain": [
       "1.6172839506172838"
      ]
     },
     "execution_count": 4,
     "metadata": {},
     "output_type": "execute_result"
    }
   ],
   "source": [
    "real_mean = pareto_sv.mean() # настоящее среднее случайной величины\n",
    "real_mean"
   ]
  },
  {
   "cell_type": "code",
   "execution_count": 5,
   "metadata": {
    "id": "5x4hFKaUCWSY"
   },
   "outputs": [
    {
     "data": {
      "text/plain": [
       "1.6101990746886534"
      ]
     },
     "execution_count": 5,
     "metadata": {},
     "output_type": "execute_result"
    }
   ],
   "source": [
    "real_var = pareto_sv.var() # настоящая дисперсия случайной величины\n",
    "real_var"
   ]
  },
  {
   "cell_type": "markdown",
   "metadata": {
    "id": "4bNn15giIX77"
   },
   "source": [
    "### Постройте гистограмму выборки и теоретическую плотность распределения"
   ]
  },
  {
   "cell_type": "code",
   "execution_count": 6,
   "metadata": {
    "colab": {
     "base_uri": "https://localhost:8080/",
     "height": 283
    },
    "id": "CwbvqecvIcXN",
    "outputId": "ace01d5d-2552-499b-bc4f-1eb19166af83"
   },
   "outputs": [
    {
     "data": {
      "text/plain": [
       "<matplotlib.legend.Legend at 0x7f8111b77b80>"
      ]
     },
     "execution_count": 6,
     "metadata": {},
     "output_type": "execute_result"
    },
    {
     "data": {
      "image/png": "[encoded data removed]",
      "text/plain": [
       "<Figure size 432x288 with 1 Axes>"
      ]
     },
     "metadata": {
      "needs_background": "light"
     },
     "output_type": "display_data"
    }
   ],
   "source": [
    "# ваш код тут\n",
    "plt.hist(sample, density=True)\n",
    "x = np.linspace(-5,5,100)\n",
    "pdf = pareto_sv.pdf(x)\n",
    "plt.plot(x, pdf, label='Теоретическая плотность', alpha=0.5)\n",
    "plt.legend()"
   ]
  },
  {
   "cell_type": "code",
   "execution_count": 7,
   "metadata": {
    "colab": {
     "base_uri": "https://localhost:8080/",
     "height": 51
    },
    "id": "rKd5XFelBqe7",
    "outputId": "32773b82-a3e9-46a2-b06d-a94d667d4f66"
   },
   "outputs": [
    {
     "name": "stdout",
     "output_type": "stream",
     "text": [
      "1.6823445625889168\n",
      "3.322541749522861\n"
     ]
    }
   ],
   "source": [
    "sample_mean = sample.mean() # выборочное среднее\n",
    "print(sample_mean)\n",
    "sample_var = sample.var() # выборочная дисперсия\n",
    "print(sample_var)"
   ]
  },
  {
   "cell_type": "markdown",
   "metadata": {
    "id": "qPuHR68NId_Z"
   },
   "source": [
    "### Оценим распределение выборочного среднего для разных объёмов выборок\n",
    "Для этого постройте на одном полотне гистограмму выборочных средних и теоретическое распределение выборочных средних по ЦПТ для разных объёмов выборок.\n",
    "\n",
    "Для теоретического распределение используйте настоящие значения мат ожидания и дисперсии (не приближенные на основе выборки)."
   ]
  },
  {
   "cell_type": "code",
   "execution_count": 8,
   "metadata": {
    "id": "_mB8upK7J58w"
   },
   "outputs": [
    {
     "data": {
      "image/png": "[encoded data removed]",
      "text/plain": [
       "<Figure size 1152x648 with 1 Axes>"
      ]
     },
     "metadata": {
      "needs_background": "light"
     },
     "output_type": "display_data"
    }
   ],
   "source": [
    "plt.figure(figsize=(16,9))\n",
    "# сгенерируем много выборочных средних\n",
    "for N in [10, 50, 100, 1000, 10000]:\n",
    "    means = []\n",
    "    for i in range(1000):\n",
    "         means.append(np.mean(pareto_sv.rvs(N)))\n",
    "    plt.hist(means, alpha=0.5)\n",
    "\n",
    "plt.legend(['100', '200', '500', '1000', '10000'])\n",
    "plt.show()"
   ]
  },
  {
   "cell_type": "markdown",
   "metadata": {
    "id": "TF1onBy_J7sX"
   },
   "source": [
    "Как вы считаете, для выбранного распределения апроксимация распределения выборочного среднего работает хорошо или плохо?\n",
    "**Ваш ответ:**"
   ]
  },
  {
   "cell_type": "code",
   "execution_count": 9,
   "metadata": {
    "id": "1BEsK495KIuM"
   },
   "outputs": [
    {
     "name": "stdout",
     "output_type": "stream",
     "text": [
      "Среднее случайной величины -  1.6172839506172838\n",
      "Стандартное отклонение случайной величины -  1.2689361980370224\n"
     ]
    }
   ],
   "source": [
    "print('Среднее случайной величины - ',pareto_sv.mean())\n",
    "print('Стандартное отклонение случайной величины - ',pareto_sv.std())"
   ]
  },
  {
   "cell_type": "code",
   "execution_count": 10,
   "metadata": {},
   "outputs": [
    {
     "data": {
      "text/plain": [
       "[]"
      ]
     },
     "execution_count": 10,
     "metadata": {},
     "output_type": "execute_result"
    },
    {
     "data": {
      "image/png": "[encoded data removed]",
      "text/plain": [
       "<Figure size 432x288 with 1 Axes>"
      ]
     },
     "metadata": {
      "needs_background": "light"
     },
     "output_type": "display_data"
    }
   ],
   "source": [
    "norm = sts.norm(loc=pareto_sv.mean(), scale=pareto_sv.std() / np.sqrt(N))\n",
    "plt.hist(means, density=True)\n",
    "\n",
    "x = np.linspace(0,2, 100)\n",
    "pdf = pareto_sv.pdf(x)\n",
    "plt.plot(x, pdf, label='Теоретическая плотность', alpha=1, color=\"orange\")\n",
    "plt.legend()\n",
    "plt.plot()"
   ]
  },
  {
   "cell_type": "markdown",
   "metadata": {},
   "source": [
    "Для данного распределения апроксимация выборочного среднего не работает."
   ]
  },
  {
   "cell_type": "code",
   "execution_count": null,
   "metadata": {},
   "outputs": [],
   "source": []
  },
  {
   "cell_type": "markdown",
   "metadata": {
    "id": "xEyWxfjSfxGp"
   },
   "source": [
    "## Доверительный интервал на основе ЦПТ\n",
    "Возьмите данные для оттока телеком компании, и постройте доверительные интервалы для среднего значения total day calls, используя центральную предельную теорему в разбиении по колонке churn (ушел/не ушел). \n",
    "\n",
    "Для оценки дисперсии используйте несмещенную оценку (параметр ddof=1).\n",
    "\n",
    "Сделайте оценку с использованием явной формулы для z интервала, а затем с помощью функций \n",
    "`from statsmodels.stats.weightstats import _zconfint_generic`. Сравните результаты.\n",
    "\n",
    "\n",
    "Ссылка на данные: https://drive.google.com/file/d/1X_drKqoarnU2Sz2har7uSCsgyhh8Xtz8/view?usp=sharing"
   ]
  },
  {
   "cell_type": "code",
   "execution_count": 11,
   "metadata": {},
   "outputs": [
    {
     "data": {
      "text/html": [
       "<div>\n",
       "<style scoped>\n",
       "    .dataframe tbody tr th:only-of-type {\n",
       "        vertical-align: middle;\n",
       "    }\n",
       "\n",
       "    .dataframe tbody tr th {\n",
       "        vertical-align: top;\n",
       "    }\n",
       "\n",
       "    .dataframe thead th {\n",
       "        text-align: right;\n",
       "    }\n",
       "</style>\n",
       "<table border=\"1\" class=\"dataframe\">\n",
       "  <thead>\n",
       "    <tr style=\"text-align: right;\">\n",
       "      <th></th>\n",
       "      <th>state</th>\n",
       "      <th>account length</th>\n",
       "      <th>area code</th>\n",
       "      <th>phone number</th>\n",
       "      <th>international plan</th>\n",
       "      <th>voice mail plan</th>\n",
       "      <th>number vmail messages</th>\n",
       "      <th>total day minutes</th>\n",
       "      <th>total day calls</th>\n",
       "      <th>total day charge</th>\n",
       "      <th>...</th>\n",
       "      <th>total eve calls</th>\n",
       "      <th>total eve charge</th>\n",
       "      <th>total night minutes</th>\n",
       "      <th>total night calls</th>\n",
       "      <th>total night charge</th>\n",
       "      <th>total intl minutes</th>\n",
       "      <th>total intl calls</th>\n",
       "      <th>total intl charge</th>\n",
       "      <th>customer service calls</th>\n",
       "      <th>churn</th>\n",
       "    </tr>\n",
       "  </thead>\n",
       "  <tbody>\n",
       "    <tr>\n",
       "      <th>0</th>\n",
       "      <td>KS</td>\n",
       "      <td>128</td>\n",
       "      <td>415</td>\n",
       "      <td>382-4657</td>\n",
       "      <td>no</td>\n",
       "      <td>yes</td>\n",
       "      <td>25</td>\n",
       "      <td>265.1</td>\n",
       "      <td>110</td>\n",
       "      <td>45.07</td>\n",
       "      <td>...</td>\n",
       "      <td>99</td>\n",
       "      <td>16.78</td>\n",
       "      <td>244.7</td>\n",
       "      <td>91</td>\n",
       "      <td>11.01</td>\n",
       "      <td>10.0</td>\n",
       "      <td>3</td>\n",
       "      <td>2.70</td>\n",
       "      <td>1</td>\n",
       "      <td>False</td>\n",
       "    </tr>\n",
       "    <tr>\n",
       "      <th>1</th>\n",
       "      <td>OH</td>\n",
       "      <td>107</td>\n",
       "      <td>415</td>\n",
       "      <td>371-7191</td>\n",
       "      <td>no</td>\n",
       "      <td>yes</td>\n",
       "      <td>26</td>\n",
       "      <td>161.6</td>\n",
       "      <td>123</td>\n",
       "      <td>27.47</td>\n",
       "      <td>...</td>\n",
       "      <td>103</td>\n",
       "      <td>16.62</td>\n",
       "      <td>254.4</td>\n",
       "      <td>103</td>\n",
       "      <td>11.45</td>\n",
       "      <td>13.7</td>\n",
       "      <td>3</td>\n",
       "      <td>3.70</td>\n",
       "      <td>1</td>\n",
       "      <td>False</td>\n",
       "    </tr>\n",
       "    <tr>\n",
       "      <th>2</th>\n",
       "      <td>NJ</td>\n",
       "      <td>137</td>\n",
       "      <td>415</td>\n",
       "      <td>358-1921</td>\n",
       "      <td>no</td>\n",
       "      <td>no</td>\n",
       "      <td>0</td>\n",
       "      <td>243.4</td>\n",
       "      <td>114</td>\n",
       "      <td>41.38</td>\n",
       "      <td>...</td>\n",
       "      <td>110</td>\n",
       "      <td>10.30</td>\n",
       "      <td>162.6</td>\n",
       "      <td>104</td>\n",
       "      <td>7.32</td>\n",
       "      <td>12.2</td>\n",
       "      <td>5</td>\n",
       "      <td>3.29</td>\n",
       "      <td>0</td>\n",
       "      <td>False</td>\n",
       "    </tr>\n",
       "    <tr>\n",
       "      <th>3</th>\n",
       "      <td>OH</td>\n",
       "      <td>84</td>\n",
       "      <td>408</td>\n",
       "      <td>375-9999</td>\n",
       "      <td>yes</td>\n",
       "      <td>no</td>\n",
       "      <td>0</td>\n",
       "      <td>299.4</td>\n",
       "      <td>71</td>\n",
       "      <td>50.90</td>\n",
       "      <td>...</td>\n",
       "      <td>88</td>\n",
       "      <td>5.26</td>\n",
       "      <td>196.9</td>\n",
       "      <td>89</td>\n",
       "      <td>8.86</td>\n",
       "      <td>6.6</td>\n",
       "      <td>7</td>\n",
       "      <td>1.78</td>\n",
       "      <td>2</td>\n",
       "      <td>False</td>\n",
       "    </tr>\n",
       "    <tr>\n",
       "      <th>4</th>\n",
       "      <td>OK</td>\n",
       "      <td>75</td>\n",
       "      <td>415</td>\n",
       "      <td>330-6626</td>\n",
       "      <td>yes</td>\n",
       "      <td>no</td>\n",
       "      <td>0</td>\n",
       "      <td>166.7</td>\n",
       "      <td>113</td>\n",
       "      <td>28.34</td>\n",
       "      <td>...</td>\n",
       "      <td>122</td>\n",
       "      <td>12.61</td>\n",
       "      <td>186.9</td>\n",
       "      <td>121</td>\n",
       "      <td>8.41</td>\n",
       "      <td>10.1</td>\n",
       "      <td>3</td>\n",
       "      <td>2.73</td>\n",
       "      <td>3</td>\n",
       "      <td>False</td>\n",
       "    </tr>\n",
       "    <tr>\n",
       "      <th>...</th>\n",
       "      <td>...</td>\n",
       "      <td>...</td>\n",
       "      <td>...</td>\n",
       "      <td>...</td>\n",
       "      <td>...</td>\n",
       "      <td>...</td>\n",
       "      <td>...</td>\n",
       "      <td>...</td>\n",
       "      <td>...</td>\n",
       "      <td>...</td>\n",
       "      <td>...</td>\n",
       "      <td>...</td>\n",
       "      <td>...</td>\n",
       "      <td>...</td>\n",
       "      <td>...</td>\n",
       "      <td>...</td>\n",
       "      <td>...</td>\n",
       "      <td>...</td>\n",
       "      <td>...</td>\n",
       "      <td>...</td>\n",
       "      <td>...</td>\n",
       "    </tr>\n",
       "    <tr>\n",
       "      <th>3328</th>\n",
       "      <td>AZ</td>\n",
       "      <td>192</td>\n",
       "      <td>415</td>\n",
       "      <td>414-4276</td>\n",
       "      <td>no</td>\n",
       "      <td>yes</td>\n",
       "      <td>36</td>\n",
       "      <td>156.2</td>\n",
       "      <td>77</td>\n",
       "      <td>26.55</td>\n",
       "      <td>...</td>\n",
       "      <td>126</td>\n",
       "      <td>18.32</td>\n",
       "      <td>279.1</td>\n",
       "      <td>83</td>\n",
       "      <td>12.56</td>\n",
       "      <td>9.9</td>\n",
       "      <td>6</td>\n",
       "      <td>2.67</td>\n",
       "      <td>2</td>\n",
       "      <td>False</td>\n",
       "    </tr>\n",
       "    <tr>\n",
       "      <th>3329</th>\n",
       "      <td>WV</td>\n",
       "      <td>68</td>\n",
       "      <td>415</td>\n",
       "      <td>370-3271</td>\n",
       "      <td>no</td>\n",
       "      <td>no</td>\n",
       "      <td>0</td>\n",
       "      <td>231.1</td>\n",
       "      <td>57</td>\n",
       "      <td>39.29</td>\n",
       "      <td>...</td>\n",
       "      <td>55</td>\n",
       "      <td>13.04</td>\n",
       "      <td>191.3</td>\n",
       "      <td>123</td>\n",
       "      <td>8.61</td>\n",
       "      <td>9.6</td>\n",
       "      <td>4</td>\n",
       "      <td>2.59</td>\n",
       "      <td>3</td>\n",
       "      <td>False</td>\n",
       "    </tr>\n",
       "    <tr>\n",
       "      <th>3330</th>\n",
       "      <td>RI</td>\n",
       "      <td>28</td>\n",
       "      <td>510</td>\n",
       "      <td>328-8230</td>\n",
       "      <td>no</td>\n",
       "      <td>no</td>\n",
       "      <td>0</td>\n",
       "      <td>180.8</td>\n",
       "      <td>109</td>\n",
       "      <td>30.74</td>\n",
       "      <td>...</td>\n",
       "      <td>58</td>\n",
       "      <td>24.55</td>\n",
       "      <td>191.9</td>\n",
       "      <td>91</td>\n",
       "      <td>8.64</td>\n",
       "      <td>14.1</td>\n",
       "      <td>6</td>\n",
       "      <td>3.81</td>\n",
       "      <td>2</td>\n",
       "      <td>False</td>\n",
       "    </tr>\n",
       "    <tr>\n",
       "      <th>3331</th>\n",
       "      <td>CT</td>\n",
       "      <td>184</td>\n",
       "      <td>510</td>\n",
       "      <td>364-6381</td>\n",
       "      <td>yes</td>\n",
       "      <td>no</td>\n",
       "      <td>0</td>\n",
       "      <td>213.8</td>\n",
       "      <td>105</td>\n",
       "      <td>36.35</td>\n",
       "      <td>...</td>\n",
       "      <td>84</td>\n",
       "      <td>13.57</td>\n",
       "      <td>139.2</td>\n",
       "      <td>137</td>\n",
       "      <td>6.26</td>\n",
       "      <td>5.0</td>\n",
       "      <td>10</td>\n",
       "      <td>1.35</td>\n",
       "      <td>2</td>\n",
       "      <td>False</td>\n",
       "    </tr>\n",
       "    <tr>\n",
       "      <th>3332</th>\n",
       "      <td>TN</td>\n",
       "      <td>74</td>\n",
       "      <td>415</td>\n",
       "      <td>400-4344</td>\n",
       "      <td>no</td>\n",
       "      <td>yes</td>\n",
       "      <td>25</td>\n",
       "      <td>234.4</td>\n",
       "      <td>113</td>\n",
       "      <td>39.85</td>\n",
       "      <td>...</td>\n",
       "      <td>82</td>\n",
       "      <td>22.60</td>\n",
       "      <td>241.4</td>\n",
       "      <td>77</td>\n",
       "      <td>10.86</td>\n",
       "      <td>13.7</td>\n",
       "      <td>4</td>\n",
       "      <td>3.70</td>\n",
       "      <td>0</td>\n",
       "      <td>False</td>\n",
       "    </tr>\n",
       "  </tbody>\n",
       "</table>\n",
       "<p>3333 rows × 21 columns</p>\n",
       "</div>"
      ],
      "text/plain": [
       "     state  account length  area code phone number international plan  \\\n",
       "0       KS             128        415     382-4657                 no   \n",
       "1       OH             107        415     371-7191                 no   \n",
       "2       NJ             137        415     358-1921                 no   \n",
       "3       OH              84        408     375-9999                yes   \n",
       "4       OK              75        415     330-6626                yes   \n",
       "...    ...             ...        ...          ...                ...   \n",
       "3328    AZ             192        415     414-4276                 no   \n",
       "3329    WV              68        415     370-3271                 no   \n",
       "3330    RI              28        510     328-8230                 no   \n",
       "3331    CT             184        510     364-6381                yes   \n",
       "3332    TN              74        415     400-4344                 no   \n",
       "\n",
       "     voice mail plan  number vmail messages  total day minutes  \\\n",
       "0                yes                     25              265.1   \n",
       "1                yes                     26              161.6   \n",
       "2                 no                      0              243.4   \n",
       "3                 no                      0              299.4   \n",
       "4                 no                      0              166.7   \n",
       "...              ...                    ...                ...   \n",
       "3328             yes                     36              156.2   \n",
       "3329              no                      0              231.1   \n",
       "3330              no                      0              180.8   \n",
       "3331              no                      0              213.8   \n",
       "3332             yes                     25              234.4   \n",
       "\n",
       "      total day calls  total day charge  ...  total eve calls  \\\n",
       "0                 110             45.07  ...               99   \n",
       "1                 123             27.47  ...              103   \n",
       "2                 114             41.38  ...              110   \n",
       "3                  71             50.90  ...               88   \n",
       "4                 113             28.34  ...              122   \n",
       "...               ...               ...  ...              ...   \n",
       "3328               77             26.55  ...              126   \n",
       "3329               57             39.29  ...               55   \n",
       "3330              109             30.74  ...               58   \n",
       "3331              105             36.35  ...               84   \n",
       "3332              113             39.85  ...               82   \n",
       "\n",
       "      total eve charge  total night minutes  total night calls  \\\n",
       "0                16.78                244.7                 91   \n",
       "1                16.62                254.4                103   \n",
       "2                10.30                162.6                104   \n",
       "3                 5.26                196.9                 89   \n",
       "4                12.61                186.9                121   \n",
       "...                ...                  ...                ...   \n",
       "3328             18.32                279.1                 83   \n",
       "3329             13.04                191.3                123   \n",
       "3330             24.55                191.9                 91   \n",
       "3331             13.57                139.2                137   \n",
       "3332             22.60                241.4                 77   \n",
       "\n",
       "      total night charge  total intl minutes  total intl calls  \\\n",
       "0                  11.01                10.0                 3   \n",
       "1                  11.45                13.7                 3   \n",
       "2                   7.32                12.2                 5   \n",
       "3                   8.86                 6.6                 7   \n",
       "4                   8.41                10.1                 3   \n",
       "...                  ...                 ...               ...   \n",
       "3328               12.56                 9.9                 6   \n",
       "3329                8.61                 9.6                 4   \n",
       "3330                8.64                14.1                 6   \n",
       "3331                6.26                 5.0                10   \n",
       "3332               10.86                13.7                 4   \n",
       "\n",
       "      total intl charge  customer service calls  churn  \n",
       "0                  2.70                       1  False  \n",
       "1                  3.70                       1  False  \n",
       "2                  3.29                       0  False  \n",
       "3                  1.78                       2  False  \n",
       "4                  2.73                       3  False  \n",
       "...                 ...                     ...    ...  \n",
       "3328               2.67                       2  False  \n",
       "3329               2.59                       3  False  \n",
       "3330               3.81                       2  False  \n",
       "3331               1.35                       2  False  \n",
       "3332               3.70                       0  False  \n",
       "\n",
       "[3333 rows x 21 columns]"
      ]
     },
     "metadata": {},
     "output_type": "display_data"
    }
   ],
   "source": [
    "# либо загружаем из альтернативного хранилища\n",
    "url =\"https://raw.githubusercontent.com/piton1/DS/Lesson_5/telecom_churn.csv\"\n",
    "df=pd.read_csv(url)\n",
    "display(df)"
   ]
  },
  {
   "cell_type": "code",
   "execution_count": 12,
   "metadata": {},
   "outputs": [],
   "source": [
    "# Создадим списки количества звоноков в день у оставшихся клиентов и у ушедших\n",
    "\n",
    "left = df.loc[df['churn'] == True]['total day calls'].tolist()\n",
    "stay = df.loc[df['churn'] == False]['total day calls'].tolist()"
   ]
  },
  {
   "cell_type": "code",
   "execution_count": 13,
   "metadata": {},
   "outputs": [],
   "source": [
    "# Доверительные интервалы, если известна дисперсия\n",
    "\n",
    "def interval_left(data):\n",
    "    left = np.mean(data) - 1.96 * np.sqrt(np.var(data)/len(data))\n",
    "    return(left)\n",
    "\n",
    "def interval_right(data):\n",
    "    right = np.mean(data) + 1.96 * np.sqrt(np.var(data)/len(data))\n",
    "    return(right)"
   ]
  },
  {
   "cell_type": "code",
   "execution_count": 14,
   "metadata": {},
   "outputs": [],
   "source": [
    "# Доверительные интервалы методом _zconfint_generic\n",
    "\n",
    "def interval_z(data):\n",
    "    z = ssw._zconfint_generic(np.mean(data),  np.std(data, ddof=1), alpha=0.95, alternative='two-sided')\n",
    "    return(z)\n"
   ]
  },
  {
   "cell_type": "code",
   "execution_count": 15,
   "metadata": {},
   "outputs": [
    {
     "name": "stdout",
     "output_type": "stream",
     "text": [
      "Доверительный интервал для среднего по цпт, если нам известна дисперсия: [99.55630252675442, 101.01001326271927] \n",
      "Доверительный интервал для среднего по цпт методом _zconfint_generic: (99.04149114274126, 101.52482464673243) \n"
     ]
    }
   ],
   "source": [
    "# Доверительные интервалы для оставшихся клиентов\n",
    "\n",
    "print(\"Доверительный интервал для среднего по цпт, если нам известна дисперсия: [{}, {}] \".format(\n",
    "    interval_left(stay),interval_right(stay))\n",
    "    )\n",
    "\n",
    "print(\"Доверительный интервал для среднего по цпт методом _zconfint_generic: {} \".format(\n",
    "    interval_z(stay))\n",
    "    )"
   ]
  },
  {
   "cell_type": "code",
   "execution_count": 16,
   "metadata": {},
   "outputs": [
    {
     "name": "stdout",
     "output_type": "stream",
     "text": [
      "Доверительный интервал для среднего по цпт, если нам известна дисперсия: [99.41262047786196, 103.2581869755542] \n",
      "Доверительный интервал для среднего по цпт методом _zconfint_generic: (99.98204678079553, 102.68876067262063) \n"
     ]
    }
   ],
   "source": [
    "# Доверительные интервалы для ушедших клиентов\n",
    "\n",
    "print(\"Доверительный интервал для среднего по цпт, если нам известна дисперсия: [{}, {}] \".format(\n",
    "    interval_left(left),interval_right(left))\n",
    "    )\n",
    "\n",
    "print(\"Доверительный интервал для среднего по цпт методом _zconfint_generic: {} \".format(\n",
    "    interval_z(left))\n",
    "    )"
   ]
  },
  {
   "cell_type": "markdown",
   "metadata": {},
   "source": [
    "Доверительные интервалы пересекаются. Количество звонков в день нельзя использовать, как критерий определения возможного ухода клиента."
   ]
  }
 ],
 "metadata": {
  "colab": {
   "collapsed_sections": [],
   "name": "Практика к занятию 12.ipynb",
   "provenance": []
  },
  "kernelspec": {
   "display_name": "Python 3",
   "language": "python",
   "name": "python3"
  },
  "language_info": {
   "codemirror_mode": {
    "name": "ipython",
    "version": 3
   },
   "file_extension": ".py",
   "mimetype": "text/x-python",
   "name": "python",
   "nbconvert_exporter": "python",
   "pygments_lexer": "ipython3",
   "version": "3.9.12"
  }
 },
 "nbformat": 4,
 "nbformat_minor": 1
}
