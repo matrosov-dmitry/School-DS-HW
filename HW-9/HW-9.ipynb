{
 "cells": [
  {
   "cell_type": "code",
   "execution_count": 1,
   "metadata": {},
   "outputs": [],
   "source": [
    "# Импорт основных библиотек\n",
    "import pandas as pd\n",
    "import numpy as np\n",
    "from matplotlib import pyplot as plt\n",
    "import time\n",
    "\n",
    "# Импорт моделей\n",
    "from sklearn.tree import DecisionTreeClassifier\n",
    "from sklearn.ensemble import RandomForestClassifier, BaggingClassifier\n",
    "from sklearn.ensemble import GradientBoostingClassifier\n",
    "from xgboost import XGBClassifier\n",
    "from catboost import CatBoostClassifier\n",
    "from lightgbm import LGBMClassifier\n",
    "from sklearn.ensemble import StackingClassifier\n",
    "\n",
    "\n",
    "from sklearn.model_selection import GridSearchCV\n",
    "from sklearn.model_selection import train_test_split, cross_val_score\n",
    "\n",
    "#  Убираем предупрждения\n",
    "import warnings\n",
    "warnings.simplefilter(action='error', category=FutureWarning)"
   ]
  },
  {
   "cell_type": "markdown",
   "metadata": {},
   "source": [
    "https://archive.ics.uci.edu/ml/datasets/wine+quality\n"
   ]
  },
  {
   "cell_type": "code",
   "execution_count": 2,
   "metadata": {},
   "outputs": [],
   "source": [
    "# Загрузка датасета\n",
    "link = 'https://archive.ics.uci.edu/ml/machine-learning-databases/wine-quality/winequality-red.csv'\n",
    "data = pd.read_csv(link, sep=';')"
   ]
  },
  {
   "cell_type": "code",
   "execution_count": 3,
   "metadata": {},
   "outputs": [
    {
     "data": {
      "text/html": [
       "<div>\n",
       "<style scoped>\n",
       "    .dataframe tbody tr th:only-of-type {\n",
       "        vertical-align: middle;\n",
       "    }\n",
       "\n",
       "    .dataframe tbody tr th {\n",
       "        vertical-align: top;\n",
       "    }\n",
       "\n",
       "    .dataframe thead th {\n",
       "        text-align: right;\n",
       "    }\n",
       "</style>\n",
       "<table border=\"1\" class=\"dataframe\">\n",
       "  <thead>\n",
       "    <tr style=\"text-align: right;\">\n",
       "      <th></th>\n",
       "      <th>fixed acidity</th>\n",
       "      <th>volatile acidity</th>\n",
       "      <th>citric acid</th>\n",
       "      <th>residual sugar</th>\n",
       "      <th>chlorides</th>\n",
       "      <th>free sulfur dioxide</th>\n",
       "      <th>total sulfur dioxide</th>\n",
       "      <th>density</th>\n",
       "      <th>pH</th>\n",
       "      <th>sulphates</th>\n",
       "      <th>alcohol</th>\n",
       "      <th>quality</th>\n",
       "    </tr>\n",
       "  </thead>\n",
       "  <tbody>\n",
       "    <tr>\n",
       "      <th>0</th>\n",
       "      <td>7.4</td>\n",
       "      <td>0.70</td>\n",
       "      <td>0.00</td>\n",
       "      <td>1.9</td>\n",
       "      <td>0.076</td>\n",
       "      <td>11.0</td>\n",
       "      <td>34.0</td>\n",
       "      <td>0.9978</td>\n",
       "      <td>3.51</td>\n",
       "      <td>0.56</td>\n",
       "      <td>9.4</td>\n",
       "      <td>5</td>\n",
       "    </tr>\n",
       "    <tr>\n",
       "      <th>1</th>\n",
       "      <td>7.8</td>\n",
       "      <td>0.88</td>\n",
       "      <td>0.00</td>\n",
       "      <td>2.6</td>\n",
       "      <td>0.098</td>\n",
       "      <td>25.0</td>\n",
       "      <td>67.0</td>\n",
       "      <td>0.9968</td>\n",
       "      <td>3.20</td>\n",
       "      <td>0.68</td>\n",
       "      <td>9.8</td>\n",
       "      <td>5</td>\n",
       "    </tr>\n",
       "    <tr>\n",
       "      <th>2</th>\n",
       "      <td>7.8</td>\n",
       "      <td>0.76</td>\n",
       "      <td>0.04</td>\n",
       "      <td>2.3</td>\n",
       "      <td>0.092</td>\n",
       "      <td>15.0</td>\n",
       "      <td>54.0</td>\n",
       "      <td>0.9970</td>\n",
       "      <td>3.26</td>\n",
       "      <td>0.65</td>\n",
       "      <td>9.8</td>\n",
       "      <td>5</td>\n",
       "    </tr>\n",
       "    <tr>\n",
       "      <th>3</th>\n",
       "      <td>11.2</td>\n",
       "      <td>0.28</td>\n",
       "      <td>0.56</td>\n",
       "      <td>1.9</td>\n",
       "      <td>0.075</td>\n",
       "      <td>17.0</td>\n",
       "      <td>60.0</td>\n",
       "      <td>0.9980</td>\n",
       "      <td>3.16</td>\n",
       "      <td>0.58</td>\n",
       "      <td>9.8</td>\n",
       "      <td>6</td>\n",
       "    </tr>\n",
       "    <tr>\n",
       "      <th>4</th>\n",
       "      <td>7.4</td>\n",
       "      <td>0.70</td>\n",
       "      <td>0.00</td>\n",
       "      <td>1.9</td>\n",
       "      <td>0.076</td>\n",
       "      <td>11.0</td>\n",
       "      <td>34.0</td>\n",
       "      <td>0.9978</td>\n",
       "      <td>3.51</td>\n",
       "      <td>0.56</td>\n",
       "      <td>9.4</td>\n",
       "      <td>5</td>\n",
       "    </tr>\n",
       "  </tbody>\n",
       "</table>\n",
       "</div>"
      ],
      "text/plain": [
       "   fixed acidity  volatile acidity  citric acid  residual sugar  chlorides  \\\n",
       "0            7.4              0.70         0.00             1.9      0.076   \n",
       "1            7.8              0.88         0.00             2.6      0.098   \n",
       "2            7.8              0.76         0.04             2.3      0.092   \n",
       "3           11.2              0.28         0.56             1.9      0.075   \n",
       "4            7.4              0.70         0.00             1.9      0.076   \n",
       "\n",
       "   free sulfur dioxide  total sulfur dioxide  density    pH  sulphates  \\\n",
       "0                 11.0                  34.0   0.9978  3.51       0.56   \n",
       "1                 25.0                  67.0   0.9968  3.20       0.68   \n",
       "2                 15.0                  54.0   0.9970  3.26       0.65   \n",
       "3                 17.0                  60.0   0.9980  3.16       0.58   \n",
       "4                 11.0                  34.0   0.9978  3.51       0.56   \n",
       "\n",
       "   alcohol  quality  \n",
       "0      9.4        5  \n",
       "1      9.8        5  \n",
       "2      9.8        5  \n",
       "3      9.8        6  \n",
       "4      9.4        5  "
      ]
     },
     "execution_count": 3,
     "metadata": {},
     "output_type": "execute_result"
    }
   ],
   "source": [
    "data.head()"
   ]
  },
  {
   "cell_type": "code",
   "execution_count": 4,
   "metadata": {},
   "outputs": [
    {
     "data": {
      "text/plain": [
       "(1599, 12)"
      ]
     },
     "execution_count": 4,
     "metadata": {},
     "output_type": "execute_result"
    }
   ],
   "source": [
    "data.shape"
   ]
  },
  {
   "cell_type": "markdown",
   "metadata": {},
   "source": [
    "1.Оцените качество по метрике accuracy для классификаторов:\n",
    "\n",
    "DecisionTreeClassifier\n",
    "\n",
    "BaggingClassifier со 100 деревьями\n",
    "\n",
    "RandomForestClassifier со 100 деревьями\n",
    "\n",
    "Сравните результаты и напишите какой вывод можно сделать.\n"
   ]
  },
  {
   "cell_type": "code",
   "execution_count": 5,
   "metadata": {},
   "outputs": [],
   "source": [
    "# Выделим признаки и целевую переменную\n",
    "X, y = data.iloc[:,:-1], data.iloc[:,-1]"
   ]
  },
  {
   "cell_type": "code",
   "execution_count": 6,
   "metadata": {},
   "outputs": [],
   "source": [
    "models =[\n",
    "            RandomForestClassifier(n_estimators=100),\n",
    "            BaggingClassifier(n_estimators=100),\n",
    "            DecisionTreeClassifier()\n",
    "        ]"
   ]
  },
  {
   "cell_type": "code",
   "execution_count": 7,
   "metadata": {},
   "outputs": [
    {
     "name": "stdout",
     "output_type": "stream",
     "text": [
      "Модель: RandomForestClassifier()\n",
      "Время выполнения: 1.064\n",
      "cross_val_score -  0.5684855015673981 \n",
      "\n",
      "----\n",
      "Модель: BaggingClassifier(n_estimators=100)\n",
      "Время выполнения: 2.530\n",
      "cross_val_score -  0.5578448275862069 \n",
      "\n",
      "----\n",
      "Модель: DecisionTreeClassifier()\n",
      "Время выполнения: 0.039\n",
      "cross_val_score -  0.4752919278996865 \n",
      "\n",
      "----\n"
     ]
    }
   ],
   "source": [
    "for model in models:\n",
    "    start_time = time.time()\n",
    "    cvs = cross_val_score(model,X, y, scoring='accuracy', cv=5).mean()\n",
    "    elapsed_time = time.time() - start_time\n",
    "    print('Модель:', model)\n",
    "    print('Время выполнения: %.3f' %elapsed_time)\n",
    "    print('cross_val_score - ',cvs, '\\n')\n",
    "    print('----')"
   ]
  },
  {
   "cell_type": "markdown",
   "metadata": {},
   "source": [
    "---\n",
    "У моделей RandomForestClassifier и BaggingClassifier практически одинаковый результат, но первая выполняется в 2 раза быстрее.\n",
    "DecisionTreeClassifier показал результат хуже, но показывает лучший результат по скорости."
   ]
  },
  {
   "cell_type": "markdown",
   "metadata": {},
   "source": [
    "2.Разделите выборку на обучающую и тестовую в отношении 70%/30%\n"
   ]
  },
  {
   "cell_type": "code",
   "execution_count": 8,
   "metadata": {},
   "outputs": [],
   "source": [
    "X_train, X_test, y_train, y_test = train_test_split(X, y, test_size=0.3, random_state=242)"
   ]
  },
  {
   "cell_type": "markdown",
   "metadata": {},
   "source": [
    "3.Посчитайте качество на тестовой выборке по метрике accuracy для классификатора RandomForestClassifier, используя значения деревьев:\n",
    "\n",
    "10, 50, 100, 200, далее с шагом 200 до 5000 деревьев.\n",
    "Постройте график зависимости качества от числа деревьев.\n"
   ]
  },
  {
   "cell_type": "code",
   "execution_count": 9,
   "metadata": {},
   "outputs": [],
   "source": [
    "N = [10, 50, 100] + [n for n in range(200,5001,200)]\n",
    "scores = []\n",
    "\n",
    "for n in N:\n",
    "    clf = RandomForestClassifier(n_estimators=int(n), n_jobs=-1)\n",
    "    clf.fit(X_train, y_train)\n",
    "    score_test = clf.score(X_test, y_test)\n",
    "    scores.append({'n':int(n), 'score_test':score_test})"
   ]
  },
  {
   "cell_type": "code",
   "execution_count": 10,
   "metadata": {},
   "outputs": [
    {
     "data": {
      "text/plain": [
       "[<matplotlib.lines.Line2D at 0x7ff3a0d8dae0>]"
      ]
     },
     "execution_count": 10,
     "metadata": {},
     "output_type": "execute_result"
    },
    {
     "data": {
      "image/png": "[encoded data removed]",
      "text/plain": [
       "<Figure size 640x480 with 1 Axes>"
      ]
     },
     "metadata": {},
     "output_type": "display_data"
    }
   ],
   "source": [
    "scores_df = pd.DataFrame(scores)\n",
    "\n",
    "plt.plot(scores_df.n, scores_df.score_test)"
   ]
  },
  {
   "cell_type": "markdown",
   "metadata": {},
   "source": [
    "4.Обучите реализации градиентного бустинга с параметрами по умолчанию из библиотек sklearn и xgboost. Сравните значение метрики accuracy по cross_val_score\n"
   ]
  },
  {
   "cell_type": "code",
   "execution_count": 11,
   "metadata": {},
   "outputs": [],
   "source": [
    "boostings = [\n",
    "                XGBClassifier(),\n",
    "                GradientBoostingClassifier()\n",
    "            ]"
   ]
  },
  {
   "cell_type": "code",
   "execution_count": 12,
   "metadata": {},
   "outputs": [],
   "source": [
    "from sklearn.preprocessing import LabelEncoder\n",
    "le = LabelEncoder()\n",
    "y = le.fit_transform(y)"
   ]
  },
  {
   "cell_type": "code",
   "execution_count": 13,
   "metadata": {},
   "outputs": [
    {
     "name": "stdout",
     "output_type": "stream",
     "text": [
      "Модель: XGBClassifier(base_score=None, booster=None, callbacks=None,\n",
      "              colsample_bylevel=None, colsample_bynode=None,\n",
      "              colsample_bytree=None, early_stopping_rounds=None,\n",
      "              enable_categorical=False, eval_metric=None, gamma=None,\n",
      "              gpu_id=None, grow_policy=None, importance_type=None,\n",
      "              interaction_constraints=None, learning_rate=None, max_bin=None,\n",
      "              max_cat_to_onehot=None, max_delta_step=None, max_depth=None,\n",
      "              max_leaves=None, min_child_weight=None, missing=nan,\n",
      "              monotone_constraints=None, n_estimators=100, n_jobs=None,\n",
      "              num_parallel_tree=None, predictor=None, random_state=None,\n",
      "              reg_alpha=None, reg_lambda=None, ...)\n",
      "Время выполнения: 2.489\n",
      "cross_val_score -  0.5472335423197492 \n",
      "\n",
      "----\n",
      "Модель: GradientBoostingClassifier()\n",
      "Время выполнения: 5.675\n",
      "cross_val_score -  0.5647257053291537 \n",
      "\n",
      "----\n"
     ]
    }
   ],
   "source": [
    "for boosting in boostings:\n",
    "    start_time = time.time()\n",
    "    cvs = cross_val_score(boosting, X, y, scoring='accuracy', cv=5).mean()\n",
    "    elapsed_time = time.time() - start_time\n",
    "    print('Модель:', boosting)\n",
    "    print('Время выполнения: %.3f' %elapsed_time)\n",
    "    print('cross_val_score - ', cvs, '\\n')\n",
    "    print('----')"
   ]
  },
  {
   "cell_type": "markdown",
   "metadata": {},
   "source": [
    "5.Подберите оптимальные параметры этих алгоритмов с помощью GridSearchCV(cv=3).\n",
    "Параметры для оптимизации:\n",
    "\n",
    "оптимизируемый функционал\n",
    "\n",
    "скорость обучения\n",
    "\n",
    "количество деревьев\n",
    "\n",
    "глубина деревьев\n",
    "\n",
    "Сравните значение метрики accuracy и скорость работы. Выведите лучшие параметры алгоритмов.\n"
   ]
  },
  {
   "cell_type": "code",
   "execution_count": 14,
   "metadata": {},
   "outputs": [],
   "source": [
    "# Задаем параметры для GridSearchCV\n",
    "params = {\n",
    "            'learning_rate' : [1, 0.5, 0.25, 0.1, 0.05, 0.01],\n",
    "            'n_estimators' : [1, 2, 4, 8, 16, 32],\n",
    "            'max_depth' : range(1,10,1)\n",
    "            }"
   ]
  },
  {
   "cell_type": "code",
   "execution_count": 15,
   "metadata": {},
   "outputs": [
    {
     "name": "stdout",
     "output_type": "stream",
     "text": [
      "Модель: XGBClassifier(base_score=None, booster=None, callbacks=None,\n",
      "              colsample_bylevel=None, colsample_bynode=None,\n",
      "              colsample_bytree=None, early_stopping_rounds=None,\n",
      "              enable_categorical=False, eval_metric=None, gamma=None,\n",
      "              gpu_id=None, grow_policy=None, importance_type=None,\n",
      "              interaction_constraints=None, learning_rate=None, max_bin=None,\n",
      "              max_cat_to_onehot=None, max_delta_step=None, max_depth=None,\n",
      "              max_leaves=None, min_child_weight=None, missing=nan,\n",
      "              monotone_constraints=None, n_estimators=100, n_jobs=None,\n",
      "              num_parallel_tree=None, predictor=None, random_state=None,\n",
      "              reg_alpha=None, reg_lambda=None, ...)\n",
      "Лучшие параметры {'learning_rate': 0.5, 'max_depth': 5, 'n_estimators': 4}\n",
      "0.5947452978056426\n"
     ]
    }
   ],
   "source": [
    "search =GridSearchCV(XGBClassifier(), param_grid=params, scoring='accuracy', cv=5, n_jobs=-1).fit(X, y)\n",
    "print('Модель:', XGBClassifier())\n",
    "print('Лучшие параметры',search.best_params_)\n",
    "print(search.best_score_)"
   ]
  },
  {
   "cell_type": "code",
   "execution_count": 16,
   "metadata": {},
   "outputs": [
    {
     "name": "stdout",
     "output_type": "stream",
     "text": [
      "Модель: GradientBoostingClassifier()\n",
      "Лучшие параметры {'learning_rate': 0.05, 'max_depth': 2, 'n_estimators': 32}\n",
      "0.586632053291536\n"
     ]
    }
   ],
   "source": [
    "search =GridSearchCV(GradientBoostingClassifier(), param_grid=params, scoring='accuracy', cv=5, n_jobs=-1).fit(X, y)\n",
    "print('Модель:', GradientBoostingClassifier())\n",
    "print('Лучшие параметры',search.best_params_)\n",
    "print(search.best_score_)"
   ]
  },
  {
   "cell_type": "markdown",
   "metadata": {},
   "source": [
    "6.Обучите реализации градиентного бустинга с параметрами по умолчанию из библиотек lightgbm и catboost. Сравните значение метрики accuracy по cross_val_score по всем четырем реализациям.\n"
   ]
  },
  {
   "cell_type": "code",
   "execution_count": 17,
   "metadata": {},
   "outputs": [
    {
     "name": "stdout",
     "output_type": "stream",
     "text": [
      "Модель: LGBMClassifier \n",
      "\n",
      "Время выполнения: 2.334\n",
      "cross_val_score -  0.5572472570532915 \n",
      "\n"
     ]
    }
   ],
   "source": [
    "start_time = time.time()\n",
    "cvs = cross_val_score(LGBMClassifier(), X, y, scoring=\"accuracy\", cv=5).mean()\n",
    "elapsed_time = time.time() - start_time\n",
    "print('Модель:',LGBMClassifier.__name__, '\\n')\n",
    "print('Время выполнения: %.3f' %elapsed_time)\n",
    "print('cross_val_score - ', cvs, '\\n')"
   ]
  },
  {
   "cell_type": "code",
   "execution_count": 18,
   "metadata": {},
   "outputs": [
    {
     "ename": "ValueError",
     "evalue": "\nAll the 5 fits failed.\nIt is very likely that your model is misconfigured.\nYou can try to debug the error by setting error_score='raise'.\n\nBelow are more details about the failures:\n--------------------------------------------------------------------------------\n5 fits failed with the following error:\nTraceback (most recent call last):\n  File \"/Users/matdiv/opt/anaconda3/envs/boost/lib/python3.10/site-packages/sklearn/model_selection/_validation.py\", line 686, in _fit_and_score\n    estimator.fit(X_train, y_train, **fit_params)\n  File \"/Users/matdiv/opt/anaconda3/envs/boost/lib/python3.10/site-packages/catboost/core.py\", line 5128, in fit\n    self._fit(X, y, cat_features, text_features, embedding_features, None, sample_weight, None, None, None, None, baseline, use_best_model,\n  File \"/Users/matdiv/opt/anaconda3/envs/boost/lib/python3.10/site-packages/catboost/core.py\", line 2339, in _fit\n    train_params = self._prepare_train_params(\n  File \"/Users/matdiv/opt/anaconda3/envs/boost/lib/python3.10/site-packages/catboost/core.py\", line 2220, in _prepare_train_params\n    train_pool = _build_train_pool(X, y, cat_features, text_features, embedding_features, pairs,\n  File \"/Users/matdiv/opt/anaconda3/envs/boost/lib/python3.10/site-packages/catboost/core.py\", line 1438, in _build_train_pool\n    train_pool = Pool(X, y, cat_features=cat_features, text_features=text_features, embedding_features=embedding_features, pairs=pairs, weight=sample_weight, group_id=group_id,\n  File \"/Users/matdiv/opt/anaconda3/envs/boost/lib/python3.10/site-packages/catboost/core.py\", line 792, in __init__\n    self._init(data, label, cat_features, text_features, embedding_features, embedding_features_data, pairs, weight,\n  File \"/Users/matdiv/opt/anaconda3/envs/boost/lib/python3.10/site-packages/catboost/core.py\", line 1419, in _init\n    self._init_pool(data, label, cat_features, text_features, embedding_features, embedding_features_data, pairs, weight,\n  File \"_catboost.pyx\", line 3953, in _catboost._PoolBase._init_pool\n  File \"_catboost.pyx\", line 4003, in _catboost._PoolBase._init_pool\n  File \"_catboost.pyx\", line 3819, in _catboost._PoolBase._init_features_order_layout_pool\n  File \"_catboost.pyx\", line 2729, in _catboost._set_features_order_data_pd_data_frame\n  File \"/Users/matdiv/opt/anaconda3/envs/boost/lib/python3.10/site-packages/pandas/core/frame.py\", line 1357, in iteritems\n    warnings.warn(\nFutureWarning: iteritems is deprecated and will be removed in a future version. Use .items instead.\n",
     "output_type": "error",
     "traceback": [
      "\u001b[0;31m---------------------------------------------------------------------------\u001b[0m",
      "\u001b[0;31mValueError\u001b[0m                                Traceback (most recent call last)",
      "Cell \u001b[0;32mIn [18], line 2\u001b[0m\n\u001b[1;32m      1\u001b[0m start_time \u001b[38;5;241m=\u001b[39m time\u001b[38;5;241m.\u001b[39mtime()\n\u001b[0;32m----> 2\u001b[0m cvs \u001b[38;5;241m=\u001b[39m cross_val_score(CatBoostClassifier(), X, y)\u001b[38;5;241m.\u001b[39mmean()\n\u001b[1;32m      3\u001b[0m elapsed_time \u001b[38;5;241m=\u001b[39m time\u001b[38;5;241m.\u001b[39mtime() \u001b[38;5;241m-\u001b[39m start_time\n\u001b[1;32m      4\u001b[0m \u001b[38;5;28mprint\u001b[39m(\u001b[38;5;124m'\u001b[39m\u001b[38;5;124mМодель:\u001b[39m\u001b[38;5;124m'\u001b[39m,CatBoostClassifier\u001b[38;5;241m.\u001b[39m\u001b[38;5;18m__name__\u001b[39m, \u001b[38;5;124m'\u001b[39m\u001b[38;5;130;01m\\n\u001b[39;00m\u001b[38;5;124m'\u001b[39m)\n",
      "File \u001b[0;32m~/opt/anaconda3/envs/boost/lib/python3.10/site-packages/sklearn/model_selection/_validation.py:515\u001b[0m, in \u001b[0;36mcross_val_score\u001b[0;34m(estimator, X, y, groups, scoring, cv, n_jobs, verbose, fit_params, pre_dispatch, error_score)\u001b[0m\n\u001b[1;32m    <a href='file:///Users/matdiv/opt/anaconda3/envs/boost/lib/python3.10/site-packages/sklearn/model_selection/_validation.py?line=511'>512</a>\u001b[0m \u001b[39m# To ensure multimetric format is not supported\u001b[39;00m\n\u001b[1;32m    <a href='file:///Users/matdiv/opt/anaconda3/envs/boost/lib/python3.10/site-packages/sklearn/model_selection/_validation.py?line=512'>513</a>\u001b[0m scorer \u001b[39m=\u001b[39m check_scoring(estimator, scoring\u001b[39m=\u001b[39mscoring)\n\u001b[0;32m--> <a href='file:///Users/matdiv/opt/anaconda3/envs/boost/lib/python3.10/site-packages/sklearn/model_selection/_validation.py?line=514'>515</a>\u001b[0m cv_results \u001b[39m=\u001b[39m cross_validate(\n\u001b[1;32m    <a href='file:///Users/matdiv/opt/anaconda3/envs/boost/lib/python3.10/site-packages/sklearn/model_selection/_validation.py?line=515'>516</a>\u001b[0m     estimator\u001b[39m=\u001b[39;49mestimator,\n\u001b[1;32m    <a href='file:///Users/matdiv/opt/anaconda3/envs/boost/lib/python3.10/site-packages/sklearn/model_selection/_validation.py?line=516'>517</a>\u001b[0m     X\u001b[39m=\u001b[39;49mX,\n\u001b[1;32m    <a href='file:///Users/matdiv/opt/anaconda3/envs/boost/lib/python3.10/site-packages/sklearn/model_selection/_validation.py?line=517'>518</a>\u001b[0m     y\u001b[39m=\u001b[39;49my,\n\u001b[1;32m    <a href='file:///Users/matdiv/opt/anaconda3/envs/boost/lib/python3.10/site-packages/sklearn/model_selection/_validation.py?line=518'>519</a>\u001b[0m     groups\u001b[39m=\u001b[39;49mgroups,\n\u001b[1;32m    <a href='file:///Users/matdiv/opt/anaconda3/envs/boost/lib/python3.10/site-packages/sklearn/model_selection/_validation.py?line=519'>520</a>\u001b[0m     scoring\u001b[39m=\u001b[39;49m{\u001b[39m\"\u001b[39;49m\u001b[39mscore\u001b[39;49m\u001b[39m\"\u001b[39;49m: scorer},\n\u001b[1;32m    <a href='file:///Users/matdiv/opt/anaconda3/envs/boost/lib/python3.10/site-packages/sklearn/model_selection/_validation.py?line=520'>521</a>\u001b[0m     cv\u001b[39m=\u001b[39;49mcv,\n\u001b[1;32m    <a href='file:///Users/matdiv/opt/anaconda3/envs/boost/lib/python3.10/site-packages/sklearn/model_selection/_validation.py?line=521'>522</a>\u001b[0m     n_jobs\u001b[39m=\u001b[39;49mn_jobs,\n\u001b[1;32m    <a href='file:///Users/matdiv/opt/anaconda3/envs/boost/lib/python3.10/site-packages/sklearn/model_selection/_validation.py?line=522'>523</a>\u001b[0m     verbose\u001b[39m=\u001b[39;49mverbose,\n\u001b[1;32m    <a href='file:///Users/matdiv/opt/anaconda3/envs/boost/lib/python3.10/site-packages/sklearn/model_selection/_validation.py?line=523'>524</a>\u001b[0m     fit_params\u001b[39m=\u001b[39;49mfit_params,\n\u001b[1;32m    <a href='file:///Users/matdiv/opt/anaconda3/envs/boost/lib/python3.10/site-packages/sklearn/model_selection/_validation.py?line=524'>525</a>\u001b[0m     pre_dispatch\u001b[39m=\u001b[39;49mpre_dispatch,\n\u001b[1;32m    <a href='file:///Users/matdiv/opt/anaconda3/envs/boost/lib/python3.10/site-packages/sklearn/model_selection/_validation.py?line=525'>526</a>\u001b[0m     error_score\u001b[39m=\u001b[39;49merror_score,\n\u001b[1;32m    <a href='file:///Users/matdiv/opt/anaconda3/envs/boost/lib/python3.10/site-packages/sklearn/model_selection/_validation.py?line=526'>527</a>\u001b[0m )\n\u001b[1;32m    <a href='file:///Users/matdiv/opt/anaconda3/envs/boost/lib/python3.10/site-packages/sklearn/model_selection/_validation.py?line=527'>528</a>\u001b[0m \u001b[39mreturn\u001b[39;00m cv_results[\u001b[39m\"\u001b[39m\u001b[39mtest_score\u001b[39m\u001b[39m\"\u001b[39m]\n",
      "File \u001b[0;32m~/opt/anaconda3/envs/boost/lib/python3.10/site-packages/sklearn/model_selection/_validation.py:285\u001b[0m, in \u001b[0;36mcross_validate\u001b[0;34m(estimator, X, y, groups, scoring, cv, n_jobs, verbose, fit_params, pre_dispatch, return_train_score, return_estimator, error_score)\u001b[0m\n\u001b[1;32m    <a href='file:///Users/matdiv/opt/anaconda3/envs/boost/lib/python3.10/site-packages/sklearn/model_selection/_validation.py?line=264'>265</a>\u001b[0m parallel \u001b[39m=\u001b[39m Parallel(n_jobs\u001b[39m=\u001b[39mn_jobs, verbose\u001b[39m=\u001b[39mverbose, pre_dispatch\u001b[39m=\u001b[39mpre_dispatch)\n\u001b[1;32m    <a href='file:///Users/matdiv/opt/anaconda3/envs/boost/lib/python3.10/site-packages/sklearn/model_selection/_validation.py?line=265'>266</a>\u001b[0m results \u001b[39m=\u001b[39m parallel(\n\u001b[1;32m    <a href='file:///Users/matdiv/opt/anaconda3/envs/boost/lib/python3.10/site-packages/sklearn/model_selection/_validation.py?line=266'>267</a>\u001b[0m     delayed(_fit_and_score)(\n\u001b[1;32m    <a href='file:///Users/matdiv/opt/anaconda3/envs/boost/lib/python3.10/site-packages/sklearn/model_selection/_validation.py?line=267'>268</a>\u001b[0m         clone(estimator),\n\u001b[0;32m   (...)\u001b[0m\n\u001b[1;32m    <a href='file:///Users/matdiv/opt/anaconda3/envs/boost/lib/python3.10/site-packages/sklearn/model_selection/_validation.py?line=281'>282</a>\u001b[0m     \u001b[39mfor\u001b[39;00m train, test \u001b[39min\u001b[39;00m cv\u001b[39m.\u001b[39msplit(X, y, groups)\n\u001b[1;32m    <a href='file:///Users/matdiv/opt/anaconda3/envs/boost/lib/python3.10/site-packages/sklearn/model_selection/_validation.py?line=282'>283</a>\u001b[0m )\n\u001b[0;32m--> <a href='file:///Users/matdiv/opt/anaconda3/envs/boost/lib/python3.10/site-packages/sklearn/model_selection/_validation.py?line=284'>285</a>\u001b[0m _warn_or_raise_about_fit_failures(results, error_score)\n\u001b[1;32m    <a href='file:///Users/matdiv/opt/anaconda3/envs/boost/lib/python3.10/site-packages/sklearn/model_selection/_validation.py?line=286'>287</a>\u001b[0m \u001b[39m# For callabe scoring, the return type is only know after calling. If the\u001b[39;00m\n\u001b[1;32m    <a href='file:///Users/matdiv/opt/anaconda3/envs/boost/lib/python3.10/site-packages/sklearn/model_selection/_validation.py?line=287'>288</a>\u001b[0m \u001b[39m# return type is a dictionary, the error scores can now be inserted with\u001b[39;00m\n\u001b[1;32m    <a href='file:///Users/matdiv/opt/anaconda3/envs/boost/lib/python3.10/site-packages/sklearn/model_selection/_validation.py?line=288'>289</a>\u001b[0m \u001b[39m# the correct key.\u001b[39;00m\n\u001b[1;32m    <a href='file:///Users/matdiv/opt/anaconda3/envs/boost/lib/python3.10/site-packages/sklearn/model_selection/_validation.py?line=289'>290</a>\u001b[0m \u001b[39mif\u001b[39;00m callable(scoring):\n",
      "File \u001b[0;32m~/opt/anaconda3/envs/boost/lib/python3.10/site-packages/sklearn/model_selection/_validation.py:367\u001b[0m, in \u001b[0;36m_warn_or_raise_about_fit_failures\u001b[0;34m(results, error_score)\u001b[0m\n\u001b[1;32m    <a href='file:///Users/matdiv/opt/anaconda3/envs/boost/lib/python3.10/site-packages/sklearn/model_selection/_validation.py?line=359'>360</a>\u001b[0m \u001b[39mif\u001b[39;00m num_failed_fits \u001b[39m==\u001b[39m num_fits:\n\u001b[1;32m    <a href='file:///Users/matdiv/opt/anaconda3/envs/boost/lib/python3.10/site-packages/sklearn/model_selection/_validation.py?line=360'>361</a>\u001b[0m     all_fits_failed_message \u001b[39m=\u001b[39m (\n\u001b[1;32m    <a href='file:///Users/matdiv/opt/anaconda3/envs/boost/lib/python3.10/site-packages/sklearn/model_selection/_validation.py?line=361'>362</a>\u001b[0m         \u001b[39mf\u001b[39m\u001b[39m\"\u001b[39m\u001b[39m\\n\u001b[39;00m\u001b[39mAll the \u001b[39m\u001b[39m{\u001b[39;00mnum_fits\u001b[39m}\u001b[39;00m\u001b[39m fits failed.\u001b[39m\u001b[39m\\n\u001b[39;00m\u001b[39m\"\u001b[39m\n\u001b[1;32m    <a href='file:///Users/matdiv/opt/anaconda3/envs/boost/lib/python3.10/site-packages/sklearn/model_selection/_validation.py?line=362'>363</a>\u001b[0m         \u001b[39m\"\u001b[39m\u001b[39mIt is very likely that your model is misconfigured.\u001b[39m\u001b[39m\\n\u001b[39;00m\u001b[39m\"\u001b[39m\n\u001b[1;32m    <a href='file:///Users/matdiv/opt/anaconda3/envs/boost/lib/python3.10/site-packages/sklearn/model_selection/_validation.py?line=363'>364</a>\u001b[0m         \u001b[39m\"\u001b[39m\u001b[39mYou can try to debug the error by setting error_score=\u001b[39m\u001b[39m'\u001b[39m\u001b[39mraise\u001b[39m\u001b[39m'\u001b[39m\u001b[39m.\u001b[39m\u001b[39m\\n\u001b[39;00m\u001b[39m\\n\u001b[39;00m\u001b[39m\"\u001b[39m\n\u001b[1;32m    <a href='file:///Users/matdiv/opt/anaconda3/envs/boost/lib/python3.10/site-packages/sklearn/model_selection/_validation.py?line=364'>365</a>\u001b[0m         \u001b[39mf\u001b[39m\u001b[39m\"\u001b[39m\u001b[39mBelow are more details about the failures:\u001b[39m\u001b[39m\\n\u001b[39;00m\u001b[39m{\u001b[39;00mfit_errors_summary\u001b[39m}\u001b[39;00m\u001b[39m\"\u001b[39m\n\u001b[1;32m    <a href='file:///Users/matdiv/opt/anaconda3/envs/boost/lib/python3.10/site-packages/sklearn/model_selection/_validation.py?line=365'>366</a>\u001b[0m     )\n\u001b[0;32m--> <a href='file:///Users/matdiv/opt/anaconda3/envs/boost/lib/python3.10/site-packages/sklearn/model_selection/_validation.py?line=366'>367</a>\u001b[0m     \u001b[39mraise\u001b[39;00m \u001b[39mValueError\u001b[39;00m(all_fits_failed_message)\n\u001b[1;32m    <a href='file:///Users/matdiv/opt/anaconda3/envs/boost/lib/python3.10/site-packages/sklearn/model_selection/_validation.py?line=368'>369</a>\u001b[0m \u001b[39melse\u001b[39;00m:\n\u001b[1;32m    <a href='file:///Users/matdiv/opt/anaconda3/envs/boost/lib/python3.10/site-packages/sklearn/model_selection/_validation.py?line=369'>370</a>\u001b[0m     some_fits_failed_message \u001b[39m=\u001b[39m (\n\u001b[1;32m    <a href='file:///Users/matdiv/opt/anaconda3/envs/boost/lib/python3.10/site-packages/sklearn/model_selection/_validation.py?line=370'>371</a>\u001b[0m         \u001b[39mf\u001b[39m\u001b[39m\"\u001b[39m\u001b[39m\\n\u001b[39;00m\u001b[39m{\u001b[39;00mnum_failed_fits\u001b[39m}\u001b[39;00m\u001b[39m fits failed out of a total of \u001b[39m\u001b[39m{\u001b[39;00mnum_fits\u001b[39m}\u001b[39;00m\u001b[39m.\u001b[39m\u001b[39m\\n\u001b[39;00m\u001b[39m\"\u001b[39m\n\u001b[1;32m    <a href='file:///Users/matdiv/opt/anaconda3/envs/boost/lib/python3.10/site-packages/sklearn/model_selection/_validation.py?line=371'>372</a>\u001b[0m         \u001b[39m\"\u001b[39m\u001b[39mThe score on these train-test partitions for these parameters\u001b[39m\u001b[39m\"\u001b[39m\n\u001b[0;32m   (...)\u001b[0m\n\u001b[1;32m    <a href='file:///Users/matdiv/opt/anaconda3/envs/boost/lib/python3.10/site-packages/sklearn/model_selection/_validation.py?line=375'>376</a>\u001b[0m         \u001b[39mf\u001b[39m\u001b[39m\"\u001b[39m\u001b[39mBelow are more details about the failures:\u001b[39m\u001b[39m\\n\u001b[39;00m\u001b[39m{\u001b[39;00mfit_errors_summary\u001b[39m}\u001b[39;00m\u001b[39m\"\u001b[39m\n\u001b[1;32m    <a href='file:///Users/matdiv/opt/anaconda3/envs/boost/lib/python3.10/site-packages/sklearn/model_selection/_validation.py?line=376'>377</a>\u001b[0m     )\n",
      "\u001b[0;31mValueError\u001b[0m: \nAll the 5 fits failed.\nIt is very likely that your model is misconfigured.\nYou can try to debug the error by setting error_score='raise'.\n\nBelow are more details about the failures:\n--------------------------------------------------------------------------------\n5 fits failed with the following error:\nTraceback (most recent call last):\n  File \"/Users/matdiv/opt/anaconda3/envs/boost/lib/python3.10/site-packages/sklearn/model_selection/_validation.py\", line 686, in _fit_and_score\n    estimator.fit(X_train, y_train, **fit_params)\n  File \"/Users/matdiv/opt/anaconda3/envs/boost/lib/python3.10/site-packages/catboost/core.py\", line 5128, in fit\n    self._fit(X, y, cat_features, text_features, embedding_features, None, sample_weight, None, None, None, None, baseline, use_best_model,\n  File \"/Users/matdiv/opt/anaconda3/envs/boost/lib/python3.10/site-packages/catboost/core.py\", line 2339, in _fit\n    train_params = self._prepare_train_params(\n  File \"/Users/matdiv/opt/anaconda3/envs/boost/lib/python3.10/site-packages/catboost/core.py\", line 2220, in _prepare_train_params\n    train_pool = _build_train_pool(X, y, cat_features, text_features, embedding_features, pairs,\n  File \"/Users/matdiv/opt/anaconda3/envs/boost/lib/python3.10/site-packages/catboost/core.py\", line 1438, in _build_train_pool\n    train_pool = Pool(X, y, cat_features=cat_features, text_features=text_features, embedding_features=embedding_features, pairs=pairs, weight=sample_weight, group_id=group_id,\n  File \"/Users/matdiv/opt/anaconda3/envs/boost/lib/python3.10/site-packages/catboost/core.py\", line 792, in __init__\n    self._init(data, label, cat_features, text_features, embedding_features, embedding_features_data, pairs, weight,\n  File \"/Users/matdiv/opt/anaconda3/envs/boost/lib/python3.10/site-packages/catboost/core.py\", line 1419, in _init\n    self._init_pool(data, label, cat_features, text_features, embedding_features, embedding_features_data, pairs, weight,\n  File \"_catboost.pyx\", line 3953, in _catboost._PoolBase._init_pool\n  File \"_catboost.pyx\", line 4003, in _catboost._PoolBase._init_pool\n  File \"_catboost.pyx\", line 3819, in _catboost._PoolBase._init_features_order_layout_pool\n  File \"_catboost.pyx\", line 2729, in _catboost._set_features_order_data_pd_data_frame\n  File \"/Users/matdiv/opt/anaconda3/envs/boost/lib/python3.10/site-packages/pandas/core/frame.py\", line 1357, in iteritems\n    warnings.warn(\nFutureWarning: iteritems is deprecated and will be removed in a future version. Use .items instead.\n"
     ]
    }
   ],
   "source": [
    "start_time = time.time()\n",
    "cvs = cross_val_score(CatBoostClassifier(), X, y).mean()\n",
    "elapsed_time = time.time() - start_time\n",
    "print('Модель:',CatBoostClassifier.__name__, '\\n')\n",
    "print('Время выполнения: %.3f' %elapsed_time)\n",
    "print('cross_val_score - ', cvs, '\\n')"
   ]
  },
  {
   "cell_type": "markdown",
   "metadata": {},
   "source": [
    "---\n",
    "CatBoostClassifier. Не смог получить значение cross_val_score. Решение ошибки не нашел."
   ]
  },
  {
   "cell_type": "markdown",
   "metadata": {},
   "source": [
    "7.Подберите оптимальные параметры для алгоритмов градиентного бустинга из библиотек lightgbm и catboost с теми же условиями. Выведите лучшие параметры алгоритмов.\n",
    "Сравните значение метрики accuracy и скорость по этим четырем реализациям.\n"
   ]
  },
  {
   "cell_type": "code",
   "execution_count": 19,
   "metadata": {},
   "outputs": [
    {
     "name": "stdout",
     "output_type": "stream",
     "text": [
      "Модель: LGBMClassifier()\n",
      "Лучшие параметры {'learning_rate': 0.05, 'max_depth': 4, 'n_estimators': 16}\n",
      "0.5910031347962382\n"
     ]
    }
   ],
   "source": [
    "search =GridSearchCV(LGBMClassifier(), param_grid=params, scoring='accuracy', cv=5, n_jobs=-1).fit(X, y)\n",
    "print('Модель:', LGBMClassifier())\n",
    "print('Лучшие параметры',search.best_params_)\n",
    "print(search.best_score_)"
   ]
  },
  {
   "cell_type": "code",
   "execution_count": 22,
   "metadata": {},
   "outputs": [
    {
     "name": "stdout",
     "output_type": "stream",
     "text": [
      "Модель: LGBMClassifier(learning_rate=0.05, max_depth=4, n_estimators=16)\n",
      "Время выполнения: 0.130\n",
      "cross_val_score -  0.5910031347962382 \n",
      "\n",
      "Модель: GradientBoostingClassifier(learning_rate=0.05, max_depth=2, n_estimators=32)\n",
      "Время выполнения: 0.528\n",
      "cross_val_score -  0.587259012539185 \n",
      "\n",
      "Модель: XGBClassifier(base_score=None, booster=None, callbacks=None,\n",
      "              colsample_bylevel=None, colsample_bynode=None,\n",
      "              colsample_bytree=None, early_stopping_rounds=None,\n",
      "              enable_categorical=False, eval_metric=None, gamma=None,\n",
      "              gpu_id=None, grow_policy=None, importance_type=None,\n",
      "              interaction_constraints=None, learning_rate=0.5, max_bin=None,\n",
      "              max_cat_to_onehot=None, max_delta_step=None, max_depth=5,\n",
      "              max_leaves=None, min_child_weight=None, missing=nan,\n",
      "              monotone_constraints=None, n_estimators=4, n_jobs=None,\n",
      "              num_parallel_tree=None, predictor=None, random_state=None,\n",
      "              reg_alpha=None, reg_lambda=None, ...)\n",
      "Время выполнения: 0.064\n",
      "cross_val_score -  0.5947452978056426 \n",
      "\n"
     ]
    }
   ],
   "source": [
    "models = [\n",
    "    LGBMClassifier(learning_rate=0.05, max_depth=4, n_estimators= 16),\n",
    "    GradientBoostingClassifier(learning_rate= 0.05, max_depth= 2, n_estimators= 32),\n",
    "    XGBClassifier(learning_rate= 0.5, max_depth= 5, n_estimators= 4)\n",
    "]\n",
    "\n",
    "for model in models:\n",
    "    start_time = time.time()\n",
    "    cvs = cross_val_score(model, X,y, scoring='accuracy', cv=5, n_jobs=-1).mean()\n",
    "    elapsed_time = time.time() - start_time\n",
    "    print('Модель:', model)\n",
    "    print('Время выполнения: %.3f' %elapsed_time)\n",
    "    print('cross_val_score - ', cvs, '\\n')"
   ]
  },
  {
   "cell_type": "markdown",
   "metadata": {},
   "source": [
    "XGBClassifier показал лучший результат по accuracy и скорости."
   ]
  },
  {
   "cell_type": "markdown",
   "metadata": {},
   "source": [
    "8.Подберите оптимальные параметры алгоритма из библиотеки xgbost с помощью [hyperopt](https://github.com/hyperopt/hyperopt) . Параметры для оптимизации:\n",
    "\n",
    "оптимизируемый функционал\n",
    "\n",
    "скорость обучения\n",
    "\n",
    "количество деревьев\n",
    "\n",
    "глубина деревьев\n",
    "\n",
    "Сравните результат с поиском по сетке из sklearn. Выведите лучшие параметры алгоритма, найденные даным способом.\n"
   ]
  },
  {
   "cell_type": "code",
   "execution_count": null,
   "metadata": {},
   "outputs": [],
   "source": []
  },
  {
   "cell_type": "markdown",
   "metadata": {},
   "source": [
    "9.Выведите качество по метрике accuracy стэкинга (StackingClassifier) 4-х алгоритмов с базовыми параметрами градиентного бустинга.\n"
   ]
  },
  {
   "cell_type": "code",
   "execution_count": 26,
   "metadata": {},
   "outputs": [
    {
     "name": "stdout",
     "output_type": "stream",
     "text": [
      "Время выполнения: 12.449\n",
      "cross_val_score -  0.5841183385579937 \n",
      "\n"
     ]
    },
    {
     "name": "stderr",
     "output_type": "stream",
     "text": [
      "/Users/matdiv/opt/anaconda3/envs/boost/lib/python3.10/site-packages/sklearn/linear_model/_logistic.py:444: ConvergenceWarning: lbfgs failed to converge (status=1):\n",
      "STOP: TOTAL NO. of ITERATIONS REACHED LIMIT.\n",
      "\n",
      "Increase the number of iterations (max_iter) or scale the data as shown in:\n",
      "    https://scikit-learn.org/stable/modules/preprocessing.html\n",
      "Please also refer to the documentation for alternative solver options:\n",
      "    https://scikit-learn.org/stable/modules/linear_model.html#logistic-regression\n",
      "  n_iter_i = _check_optimize_result(\n"
     ]
    }
   ],
   "source": [
    "estimators = [\n",
    "    ('lgbmc', LGBMClassifier()),\n",
    "    ('rfc', GradientBoostingClassifier()),\n",
    "    ('xgbc', XGBClassifier())\n",
    "]\n",
    "stacked = StackingClassifier(estimators=estimators)\n",
    "start_time = time.time()\n",
    "cvs = cross_val_score(estimator=stacked, X=X, y=y, scoring='accuracy', cv=5, n_jobs=-1).mean()\n",
    "elapsed_time = time.time() - start_time\n",
    "print('Время выполнения: %.3f' %elapsed_time)\n",
    "print('cross_val_score - ', cvs, '\\n')"
   ]
  },
  {
   "cell_type": "markdown",
   "metadata": {},
   "source": [
    "10.Выведите качество по метрике accuracy стэкинга 4-х алгоритмов с оптимальными параметрами градиентного бустинга. Сравните результаты с предыдущим шагом и напишите какой вывод можно из этого сделать.\n"
   ]
  },
  {
   "cell_type": "code",
   "execution_count": 25,
   "metadata": {},
   "outputs": [
    {
     "name": "stdout",
     "output_type": "stream",
     "text": [
      "Время выполнения: 2.247\n",
      "cross_val_score -  0.5885148902821318 \n",
      "\n"
     ]
    }
   ],
   "source": [
    "estimators = [\n",
    "    ('lgbmc', LGBMClassifier(learning_rate=0.05, max_depth=4, n_estimators= 16)),\n",
    "    ('rfc', GradientBoostingClassifier(learning_rate= 0.05, max_depth= 2, n_estimators= 32)),\n",
    "    ('xgbc', XGBClassifier(learning_rate= 0.5, max_depth= 5, n_estimators= 4))\n",
    "]\n",
    "stacked = StackingClassifier(estimators=estimators)\n",
    "start_time = time.time()\n",
    "cvs = cross_val_score(estimator=stacked, X=X, y=y, scoring='accuracy', cv=5, n_jobs=-1).mean()\n",
    "elapsed_time = time.time() - start_time\n",
    "print('Время выполнения: %.3f' %elapsed_time)\n",
    "print('cross_val_score - ', cvs, '\\n')"
   ]
  },
  {
   "cell_type": "markdown",
   "metadata": {},
   "source": [
    "---\n",
    "Стэкинг оптимальных моделей показал результат лучше, чем модели с базовыми настройками, но не намного. Стэкинг оптимальных моделей выполнятся в 6 раз быстрей."
   ]
  }
 ],
 "metadata": {
  "kernelspec": {
   "display_name": "Python 3",
   "language": "python",
   "name": "python3"
  },
  "language_info": {
   "codemirror_mode": {
    "name": "ipython",
    "version": 3
   },
   "file_extension": ".py",
   "mimetype": "text/x-python",
   "name": "python",
   "nbconvert_exporter": "python",
   "pygments_lexer": "ipython3",
   "version": "3.10.4"
  }
 },
 "nbformat": 4,
 "nbformat_minor": 2
}
