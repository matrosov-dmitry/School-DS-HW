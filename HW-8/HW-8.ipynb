{
 "cells": [
  {
   "cell_type": "code",
   "execution_count": 1,
   "metadata": {},
   "outputs": [],
   "source": [
    "import pandas as pd\n",
    "import numpy as np\n",
    "\n",
    "import time\n",
    "\n",
    "from sklearn.linear_model import LinearRegression, Lasso, Ridge, RidgeCV, LassoCV\n",
    "from sklearn.pipeline import Pipeline\n",
    "from sklearn.model_selection import cross_val_score, GridSearchCV\n",
    "from sklearn.metrics import r2_score\n",
    "\n",
    "from sklearn.preprocessing import StandardScaler, MinMaxScaler\n",
    "from sklearn.compose import ColumnTransformer\n",
    "from sklearn.model_selection import train_test_split"
   ]
  },
  {
   "cell_type": "code",
   "execution_count": 2,
   "metadata": {},
   "outputs": [],
   "source": [
    "RANDOM_STATE = 42"
   ]
  },
  {
   "cell_type": "code",
   "execution_count": 3,
   "metadata": {},
   "outputs": [
    {
     "data": {
      "text/html": [
       "<div>\n",
       "<style scoped>\n",
       "    .dataframe tbody tr th:only-of-type {\n",
       "        vertical-align: middle;\n",
       "    }\n",
       "\n",
       "    .dataframe tbody tr th {\n",
       "        vertical-align: top;\n",
       "    }\n",
       "\n",
       "    .dataframe thead th {\n",
       "        text-align: right;\n",
       "    }\n",
       "</style>\n",
       "<table border=\"1\" class=\"dataframe\">\n",
       "  <thead>\n",
       "    <tr style=\"text-align: right;\">\n",
       "      <th></th>\n",
       "      <th>CRIM</th>\n",
       "      <th>ZN</th>\n",
       "      <th>INDUS</th>\n",
       "      <th>CHAS</th>\n",
       "      <th>NOX</th>\n",
       "      <th>RM</th>\n",
       "      <th>AGE</th>\n",
       "      <th>DIS</th>\n",
       "      <th>RAD</th>\n",
       "      <th>TAX</th>\n",
       "      <th>PTRATIO</th>\n",
       "      <th>B</th>\n",
       "      <th>LSTAT</th>\n",
       "      <th>MDEV</th>\n",
       "    </tr>\n",
       "  </thead>\n",
       "  <tbody>\n",
       "    <tr>\n",
       "      <th>0</th>\n",
       "      <td>0.00632</td>\n",
       "      <td>18.0</td>\n",
       "      <td>2.31</td>\n",
       "      <td>0.0</td>\n",
       "      <td>0.538</td>\n",
       "      <td>6.575</td>\n",
       "      <td>65.2</td>\n",
       "      <td>4.0900</td>\n",
       "      <td>1.0</td>\n",
       "      <td>296.0</td>\n",
       "      <td>15.3</td>\n",
       "      <td>396.90</td>\n",
       "      <td>4.98</td>\n",
       "      <td>24.0</td>\n",
       "    </tr>\n",
       "    <tr>\n",
       "      <th>1</th>\n",
       "      <td>0.02731</td>\n",
       "      <td>0.0</td>\n",
       "      <td>7.07</td>\n",
       "      <td>0.0</td>\n",
       "      <td>0.469</td>\n",
       "      <td>6.421</td>\n",
       "      <td>78.9</td>\n",
       "      <td>4.9671</td>\n",
       "      <td>2.0</td>\n",
       "      <td>242.0</td>\n",
       "      <td>17.8</td>\n",
       "      <td>396.90</td>\n",
       "      <td>9.14</td>\n",
       "      <td>21.6</td>\n",
       "    </tr>\n",
       "    <tr>\n",
       "      <th>2</th>\n",
       "      <td>0.02729</td>\n",
       "      <td>0.0</td>\n",
       "      <td>7.07</td>\n",
       "      <td>0.0</td>\n",
       "      <td>0.469</td>\n",
       "      <td>7.185</td>\n",
       "      <td>61.1</td>\n",
       "      <td>4.9671</td>\n",
       "      <td>2.0</td>\n",
       "      <td>242.0</td>\n",
       "      <td>17.8</td>\n",
       "      <td>392.83</td>\n",
       "      <td>4.03</td>\n",
       "      <td>34.7</td>\n",
       "    </tr>\n",
       "    <tr>\n",
       "      <th>3</th>\n",
       "      <td>0.03237</td>\n",
       "      <td>0.0</td>\n",
       "      <td>2.18</td>\n",
       "      <td>0.0</td>\n",
       "      <td>0.458</td>\n",
       "      <td>6.998</td>\n",
       "      <td>45.8</td>\n",
       "      <td>6.0622</td>\n",
       "      <td>3.0</td>\n",
       "      <td>222.0</td>\n",
       "      <td>18.7</td>\n",
       "      <td>394.63</td>\n",
       "      <td>2.94</td>\n",
       "      <td>33.4</td>\n",
       "    </tr>\n",
       "    <tr>\n",
       "      <th>4</th>\n",
       "      <td>0.06905</td>\n",
       "      <td>0.0</td>\n",
       "      <td>2.18</td>\n",
       "      <td>0.0</td>\n",
       "      <td>0.458</td>\n",
       "      <td>7.147</td>\n",
       "      <td>54.2</td>\n",
       "      <td>6.0622</td>\n",
       "      <td>3.0</td>\n",
       "      <td>222.0</td>\n",
       "      <td>18.7</td>\n",
       "      <td>396.90</td>\n",
       "      <td>5.33</td>\n",
       "      <td>36.2</td>\n",
       "    </tr>\n",
       "  </tbody>\n",
       "</table>\n",
       "</div>"
      ],
      "text/plain": [
       "      CRIM    ZN  INDUS  CHAS    NOX     RM   AGE     DIS  RAD    TAX  \\\n",
       "0  0.00632  18.0   2.31   0.0  0.538  6.575  65.2  4.0900  1.0  296.0   \n",
       "1  0.02731   0.0   7.07   0.0  0.469  6.421  78.9  4.9671  2.0  242.0   \n",
       "2  0.02729   0.0   7.07   0.0  0.469  7.185  61.1  4.9671  2.0  242.0   \n",
       "3  0.03237   0.0   2.18   0.0  0.458  6.998  45.8  6.0622  3.0  222.0   \n",
       "4  0.06905   0.0   2.18   0.0  0.458  7.147  54.2  6.0622  3.0  222.0   \n",
       "\n",
       "   PTRATIO       B  LSTAT  MDEV  \n",
       "0     15.3  396.90   4.98  24.0  \n",
       "1     17.8  396.90   9.14  21.6  \n",
       "2     17.8  392.83   4.03  34.7  \n",
       "3     18.7  394.63   2.94  33.4  \n",
       "4     18.7  396.90   5.33  36.2  "
      ]
     },
     "execution_count": 3,
     "metadata": {},
     "output_type": "execute_result"
    }
   ],
   "source": [
    "raw_df = pd.read_csv('./data/boston.csv')\n",
    "raw_df.head()"
   ]
  },
  {
   "cell_type": "code",
   "execution_count": 4,
   "metadata": {},
   "outputs": [],
   "source": [
    "# \n",
    "X = raw_df.iloc[:,0:14]\n",
    "y = raw_df.iloc[:,13:14]"
   ]
  },
  {
   "cell_type": "markdown",
   "metadata": {},
   "source": [
    "1. Разделите выборку на обучающую и тестовую в отношении 80%/20%"
   ]
  },
  {
   "cell_type": "code",
   "execution_count": 5,
   "metadata": {},
   "outputs": [],
   "source": [
    "\n",
    "X_train, X_test, y_train, y_test = train_test_split(X, y, test_size=0.2, random_state=RANDOM_STATE)"
   ]
  },
  {
   "cell_type": "markdown",
   "metadata": {},
   "source": [
    "2. Обучите стандартную регрессию, а также Ridge и  Lasso и параметрами по умолчанию и выведите их R2 на тестовой выборке"
   ]
  },
  {
   "cell_type": "code",
   "execution_count": 6,
   "metadata": {},
   "outputs": [
    {
     "name": "stdout",
     "output_type": "stream",
     "text": [
      "Модель:  LinearRegression()\n",
      "Время выполнения: 0.014\n",
      "Коэффициент регрессии 1.0\n",
      "----\n",
      "Модель:  Lasso()\n",
      "Время выполнения: 0.004\n",
      "Коэффициент регрессии 0.9998428245\n",
      "----\n",
      "Модель:  Ridge()\n",
      "Время выполнения: 0.004\n",
      "Коэффициент регрессии 0.9999999958\n",
      "----\n"
     ]
    }
   ],
   "source": [
    "regressions = [LinearRegression(),\n",
    "               Lasso(),\n",
    "               Ridge()\n",
    "               ]\n",
    "\n",
    "for regression in regressions:\n",
    "    start_time = time.time()\n",
    "    pipe = Pipeline(steps=[('regression', regression)])\n",
    "    pipe.fit(X_train, y_train)\n",
    "    y_pred = pipe.predict(X_test)\n",
    "    elapsed_time = time.time() - start_time\n",
    "    print('Модель: ',regression)\n",
    "    print('Время выполнения: %.3f' %elapsed_time)\n",
    "    print('Коэффициент регрессии',round(r2_score(y_test, y_pred),10))\n",
    "    print('----')"
   ]
  },
  {
   "cell_type": "markdown",
   "metadata": {},
   "source": [
    "3. Для Ridge и Lasso подберите коэффициент регуляризации(используйте GridSearchCV, RidgeCV, LassoCV) в пределах от $10^{-5}$ до $10^5$ (по степеням 10). Посчитайте R2 на тестовой выборке по лучшим моделям и сравните с предыдущими результатами. Напишите как изменился результат"
   ]
  },
  {
   "cell_type": "code",
   "execution_count": 7,
   "metadata": {},
   "outputs": [],
   "source": [
    "coef_reg = [1e-5, 1e-4, 1e-3, 1e-2, 1e-1, 1, 1e+1, 1e+2, 1e+3, 1e+4, 1e+5]\n"
   ]
  },
  {
   "cell_type": "code",
   "execution_count": 8,
   "metadata": {},
   "outputs": [],
   "source": [
    "regressions = [ Lasso,\n",
    "                Ridge\n",
    "               ]"
   ]
  },
  {
   "cell_type": "code",
   "execution_count": 9,
   "metadata": {},
   "outputs": [
    {
     "name": "stdout",
     "output_type": "stream",
     "text": [
      "Модель:  Lasso()\n",
      "Коэффициент регуляризации:  1e-05\n",
      "Коэффициент регрессии:  0.9999999986\n",
      "----\n",
      "Модель:  Ridge()\n",
      "Коэффициент регуляризации:  1e-05\n",
      "Коэффициент регрессии:  1.0\n",
      "----\n"
     ]
    }
   ],
   "source": [
    "for regression in regressions:\n",
    "\n",
    "    params = [{'alpha': coef_reg}]\n",
    "    search = GridSearchCV(regression(), \n",
    "                          params,\n",
    "                          scoring='r2',\n",
    "                          cv=5).fit(X_train, y_train)\n",
    "\n",
    "    model = regression(search.best_params_['alpha']).fit(X_train, y_train)\n",
    "    y_pred = model.predict(X_test)\n",
    "\n",
    "    print('Модель: ',regression())\n",
    "    print('Коэффициент регуляризации: ', search.best_params_['alpha'])\n",
    "    print('Коэффициент регрессии: ',round(r2_score(y_test, y_pred),10))\n",
    "    print('----')\n",
    "    \n",
    "\n"
   ]
  },
  {
   "cell_type": "markdown",
   "metadata": {},
   "source": [
    "4. Проведите масштабирование выборки(используйте Pipeline, StandardScaler, MinMaxScaler), посчитайте R2 и сравните с предыдущими результатами. Напишите как изменился результат"
   ]
  },
  {
   "cell_type": "code",
   "execution_count": 10,
   "metadata": {},
   "outputs": [],
   "source": [
    "X_train, X_test, y_train, y_test = train_test_split(X, y, test_size=0.2, random_state=RANDOM_STATE)"
   ]
  },
  {
   "cell_type": "code",
   "execution_count": 11,
   "metadata": {},
   "outputs": [],
   "source": [
    "regressions = [ Lasso,\n",
    "                Ridge\n",
    "               ]"
   ]
  },
  {
   "cell_type": "code",
   "execution_count": 12,
   "metadata": {},
   "outputs": [],
   "source": [
    "transformer = Pipeline(\n",
    "                       [\n",
    "                           ('MinMax', MinMaxScaler()),\n",
    "                           ('StandartScaler', StandardScaler())\n",
    "                          \n",
    "                       ] \n",
    "                      )"
   ]
  },
  {
   "cell_type": "code",
   "execution_count": 13,
   "metadata": {},
   "outputs": [],
   "source": [
    "numeric_features = X.select_dtypes(include=['int64', 'float64']).columns"
   ]
  },
  {
   "cell_type": "code",
   "execution_count": 14,
   "metadata": {},
   "outputs": [],
   "source": [
    "preprocessor = ColumnTransformer(transformers=[\n",
    "                                 'scaler', transformer, numeric_features\n",
    "                                ])                           "
   ]
  },
  {
   "cell_type": "code",
   "execution_count": 15,
   "metadata": {},
   "outputs": [],
   "source": [
    "pipe = Pipeline(\n",
    "    [\n",
    "        ('preprocessor', preprocessor),\n",
    "        ('regression', Lasso())\n",
    "    ]\n",
    ")"
   ]
  },
  {
   "cell_type": "code",
   "execution_count": 20,
   "metadata": {},
   "outputs": [
    {
     "ename": "ValueError",
     "evalue": "not enough values to unpack (expected 3, got 2)",
     "output_type": "error",
     "traceback": [
      "\u001b[0;31m---------------------------------------------------------------------------\u001b[0m",
      "\u001b[0;31mValueError\u001b[0m                                Traceback (most recent call last)",
      "\u001b[1;32m/Users/matdiv/Coding_project/School-DS-HW/HW-8/HW-8.ipynb Cell 20'\u001b[0m in \u001b[0;36m<cell line: 1>\u001b[0;34m()\u001b[0m\n\u001b[0;32m----> <a href='vscode-notebook-cell:/Users/matdiv/Coding_project/School-DS-HW/HW-8/HW-8.ipynb#ch0000091?line=0'>1</a>\u001b[0m model \u001b[39m=\u001b[39m pipe\u001b[39m.\u001b[39;49mfit(X_train, y_train)\n\u001b[1;32m      <a href='vscode-notebook-cell:/Users/matdiv/Coding_project/School-DS-HW/HW-8/HW-8.ipynb#ch0000091?line=1'>2</a>\u001b[0m y_pred \u001b[39m=\u001b[39m model\u001b[39m.\u001b[39mpredict(y_test)\n",
      "File \u001b[0;32m~/opt/anaconda3/envs/ML/lib/python3.10/site-packages/sklearn/pipeline.py:378\u001b[0m, in \u001b[0;36mPipeline.fit\u001b[0;34m(self, X, y, **fit_params)\u001b[0m\n\u001b[1;32m    <a href='file:///Users/matdiv/opt/anaconda3/envs/ML/lib/python3.10/site-packages/sklearn/pipeline.py?line=351'>352</a>\u001b[0m \u001b[39m\"\"\"Fit the model.\u001b[39;00m\n\u001b[1;32m    <a href='file:///Users/matdiv/opt/anaconda3/envs/ML/lib/python3.10/site-packages/sklearn/pipeline.py?line=352'>353</a>\u001b[0m \n\u001b[1;32m    <a href='file:///Users/matdiv/opt/anaconda3/envs/ML/lib/python3.10/site-packages/sklearn/pipeline.py?line=353'>354</a>\u001b[0m \u001b[39mFit all the transformers one after the other and transform the\u001b[39;00m\n\u001b[0;32m   (...)\u001b[0m\n\u001b[1;32m    <a href='file:///Users/matdiv/opt/anaconda3/envs/ML/lib/python3.10/site-packages/sklearn/pipeline.py?line=374'>375</a>\u001b[0m \u001b[39m    Pipeline with fitted steps.\u001b[39;00m\n\u001b[1;32m    <a href='file:///Users/matdiv/opt/anaconda3/envs/ML/lib/python3.10/site-packages/sklearn/pipeline.py?line=375'>376</a>\u001b[0m \u001b[39m\"\"\"\u001b[39;00m\n\u001b[1;32m    <a href='file:///Users/matdiv/opt/anaconda3/envs/ML/lib/python3.10/site-packages/sklearn/pipeline.py?line=376'>377</a>\u001b[0m fit_params_steps \u001b[39m=\u001b[39m \u001b[39mself\u001b[39m\u001b[39m.\u001b[39m_check_fit_params(\u001b[39m*\u001b[39m\u001b[39m*\u001b[39mfit_params)\n\u001b[0;32m--> <a href='file:///Users/matdiv/opt/anaconda3/envs/ML/lib/python3.10/site-packages/sklearn/pipeline.py?line=377'>378</a>\u001b[0m Xt \u001b[39m=\u001b[39m \u001b[39mself\u001b[39;49m\u001b[39m.\u001b[39;49m_fit(X, y, \u001b[39m*\u001b[39;49m\u001b[39m*\u001b[39;49mfit_params_steps)\n\u001b[1;32m    <a href='file:///Users/matdiv/opt/anaconda3/envs/ML/lib/python3.10/site-packages/sklearn/pipeline.py?line=378'>379</a>\u001b[0m \u001b[39mwith\u001b[39;00m _print_elapsed_time(\u001b[39m\"\u001b[39m\u001b[39mPipeline\u001b[39m\u001b[39m\"\u001b[39m, \u001b[39mself\u001b[39m\u001b[39m.\u001b[39m_log_message(\u001b[39mlen\u001b[39m(\u001b[39mself\u001b[39m\u001b[39m.\u001b[39msteps) \u001b[39m-\u001b[39m \u001b[39m1\u001b[39m)):\n\u001b[1;32m    <a href='file:///Users/matdiv/opt/anaconda3/envs/ML/lib/python3.10/site-packages/sklearn/pipeline.py?line=379'>380</a>\u001b[0m     \u001b[39mif\u001b[39;00m \u001b[39mself\u001b[39m\u001b[39m.\u001b[39m_final_estimator \u001b[39m!=\u001b[39m \u001b[39m\"\u001b[39m\u001b[39mpassthrough\u001b[39m\u001b[39m\"\u001b[39m:\n",
      "File \u001b[0;32m~/opt/anaconda3/envs/ML/lib/python3.10/site-packages/sklearn/pipeline.py:336\u001b[0m, in \u001b[0;36mPipeline._fit\u001b[0;34m(self, X, y, **fit_params_steps)\u001b[0m\n\u001b[1;32m    <a href='file:///Users/matdiv/opt/anaconda3/envs/ML/lib/python3.10/site-packages/sklearn/pipeline.py?line=333'>334</a>\u001b[0m     cloned_transformer \u001b[39m=\u001b[39m clone(transformer)\n\u001b[1;32m    <a href='file:///Users/matdiv/opt/anaconda3/envs/ML/lib/python3.10/site-packages/sklearn/pipeline.py?line=334'>335</a>\u001b[0m \u001b[39m# Fit or load from cache the current transformer\u001b[39;00m\n\u001b[0;32m--> <a href='file:///Users/matdiv/opt/anaconda3/envs/ML/lib/python3.10/site-packages/sklearn/pipeline.py?line=335'>336</a>\u001b[0m X, fitted_transformer \u001b[39m=\u001b[39m fit_transform_one_cached(\n\u001b[1;32m    <a href='file:///Users/matdiv/opt/anaconda3/envs/ML/lib/python3.10/site-packages/sklearn/pipeline.py?line=336'>337</a>\u001b[0m     cloned_transformer,\n\u001b[1;32m    <a href='file:///Users/matdiv/opt/anaconda3/envs/ML/lib/python3.10/site-packages/sklearn/pipeline.py?line=337'>338</a>\u001b[0m     X,\n\u001b[1;32m    <a href='file:///Users/matdiv/opt/anaconda3/envs/ML/lib/python3.10/site-packages/sklearn/pipeline.py?line=338'>339</a>\u001b[0m     y,\n\u001b[1;32m    <a href='file:///Users/matdiv/opt/anaconda3/envs/ML/lib/python3.10/site-packages/sklearn/pipeline.py?line=339'>340</a>\u001b[0m     \u001b[39mNone\u001b[39;49;00m,\n\u001b[1;32m    <a href='file:///Users/matdiv/opt/anaconda3/envs/ML/lib/python3.10/site-packages/sklearn/pipeline.py?line=340'>341</a>\u001b[0m     message_clsname\u001b[39m=\u001b[39;49m\u001b[39m\"\u001b[39;49m\u001b[39mPipeline\u001b[39;49m\u001b[39m\"\u001b[39;49m,\n\u001b[1;32m    <a href='file:///Users/matdiv/opt/anaconda3/envs/ML/lib/python3.10/site-packages/sklearn/pipeline.py?line=341'>342</a>\u001b[0m     message\u001b[39m=\u001b[39;49m\u001b[39mself\u001b[39;49m\u001b[39m.\u001b[39;49m_log_message(step_idx),\n\u001b[1;32m    <a href='file:///Users/matdiv/opt/anaconda3/envs/ML/lib/python3.10/site-packages/sklearn/pipeline.py?line=342'>343</a>\u001b[0m     \u001b[39m*\u001b[39;49m\u001b[39m*\u001b[39;49mfit_params_steps[name],\n\u001b[1;32m    <a href='file:///Users/matdiv/opt/anaconda3/envs/ML/lib/python3.10/site-packages/sklearn/pipeline.py?line=343'>344</a>\u001b[0m )\n\u001b[1;32m    <a href='file:///Users/matdiv/opt/anaconda3/envs/ML/lib/python3.10/site-packages/sklearn/pipeline.py?line=344'>345</a>\u001b[0m \u001b[39m# Replace the transformer of the step with the fitted\u001b[39;00m\n\u001b[1;32m    <a href='file:///Users/matdiv/opt/anaconda3/envs/ML/lib/python3.10/site-packages/sklearn/pipeline.py?line=345'>346</a>\u001b[0m \u001b[39m# transformer. This is necessary when loading the transformer\u001b[39;00m\n\u001b[1;32m    <a href='file:///Users/matdiv/opt/anaconda3/envs/ML/lib/python3.10/site-packages/sklearn/pipeline.py?line=346'>347</a>\u001b[0m \u001b[39m# from the cache.\u001b[39;00m\n\u001b[1;32m    <a href='file:///Users/matdiv/opt/anaconda3/envs/ML/lib/python3.10/site-packages/sklearn/pipeline.py?line=347'>348</a>\u001b[0m \u001b[39mself\u001b[39m\u001b[39m.\u001b[39msteps[step_idx] \u001b[39m=\u001b[39m (name, fitted_transformer)\n",
      "File \u001b[0;32m~/opt/anaconda3/envs/ML/lib/python3.10/site-packages/joblib/memory.py:349\u001b[0m, in \u001b[0;36mNotMemorizedFunc.__call__\u001b[0;34m(self, *args, **kwargs)\u001b[0m\n\u001b[1;32m    <a href='file:///Users/matdiv/opt/anaconda3/envs/ML/lib/python3.10/site-packages/joblib/memory.py?line=347'>348</a>\u001b[0m \u001b[39mdef\u001b[39;00m \u001b[39m__call__\u001b[39m(\u001b[39mself\u001b[39m, \u001b[39m*\u001b[39margs, \u001b[39m*\u001b[39m\u001b[39m*\u001b[39mkwargs):\n\u001b[0;32m--> <a href='file:///Users/matdiv/opt/anaconda3/envs/ML/lib/python3.10/site-packages/joblib/memory.py?line=348'>349</a>\u001b[0m     \u001b[39mreturn\u001b[39;00m \u001b[39mself\u001b[39;49m\u001b[39m.\u001b[39;49mfunc(\u001b[39m*\u001b[39;49margs, \u001b[39m*\u001b[39;49m\u001b[39m*\u001b[39;49mkwargs)\n",
      "File \u001b[0;32m~/opt/anaconda3/envs/ML/lib/python3.10/site-packages/sklearn/pipeline.py:870\u001b[0m, in \u001b[0;36m_fit_transform_one\u001b[0;34m(transformer, X, y, weight, message_clsname, message, **fit_params)\u001b[0m\n\u001b[1;32m    <a href='file:///Users/matdiv/opt/anaconda3/envs/ML/lib/python3.10/site-packages/sklearn/pipeline.py?line=867'>868</a>\u001b[0m \u001b[39mwith\u001b[39;00m _print_elapsed_time(message_clsname, message):\n\u001b[1;32m    <a href='file:///Users/matdiv/opt/anaconda3/envs/ML/lib/python3.10/site-packages/sklearn/pipeline.py?line=868'>869</a>\u001b[0m     \u001b[39mif\u001b[39;00m \u001b[39mhasattr\u001b[39m(transformer, \u001b[39m\"\u001b[39m\u001b[39mfit_transform\u001b[39m\u001b[39m\"\u001b[39m):\n\u001b[0;32m--> <a href='file:///Users/matdiv/opt/anaconda3/envs/ML/lib/python3.10/site-packages/sklearn/pipeline.py?line=869'>870</a>\u001b[0m         res \u001b[39m=\u001b[39m transformer\u001b[39m.\u001b[39;49mfit_transform(X, y, \u001b[39m*\u001b[39;49m\u001b[39m*\u001b[39;49mfit_params)\n\u001b[1;32m    <a href='file:///Users/matdiv/opt/anaconda3/envs/ML/lib/python3.10/site-packages/sklearn/pipeline.py?line=870'>871</a>\u001b[0m     \u001b[39melse\u001b[39;00m:\n\u001b[1;32m    <a href='file:///Users/matdiv/opt/anaconda3/envs/ML/lib/python3.10/site-packages/sklearn/pipeline.py?line=871'>872</a>\u001b[0m         res \u001b[39m=\u001b[39m transformer\u001b[39m.\u001b[39mfit(X, y, \u001b[39m*\u001b[39m\u001b[39m*\u001b[39mfit_params)\u001b[39m.\u001b[39mtransform(X)\n",
      "File \u001b[0;32m~/opt/anaconda3/envs/ML/lib/python3.10/site-packages/sklearn/compose/_column_transformer.py:686\u001b[0m, in \u001b[0;36mColumnTransformer.fit_transform\u001b[0;34m(self, X, y)\u001b[0m\n\u001b[1;32m    <a href='file:///Users/matdiv/opt/anaconda3/envs/ML/lib/python3.10/site-packages/sklearn/compose/_column_transformer.py?line=683'>684</a>\u001b[0m \u001b[39m# set n_features_in_ attribute\u001b[39;00m\n\u001b[1;32m    <a href='file:///Users/matdiv/opt/anaconda3/envs/ML/lib/python3.10/site-packages/sklearn/compose/_column_transformer.py?line=684'>685</a>\u001b[0m \u001b[39mself\u001b[39m\u001b[39m.\u001b[39m_check_n_features(X, reset\u001b[39m=\u001b[39m\u001b[39mTrue\u001b[39;00m)\n\u001b[0;32m--> <a href='file:///Users/matdiv/opt/anaconda3/envs/ML/lib/python3.10/site-packages/sklearn/compose/_column_transformer.py?line=685'>686</a>\u001b[0m \u001b[39mself\u001b[39;49m\u001b[39m.\u001b[39;49m_validate_transformers()\n\u001b[1;32m    <a href='file:///Users/matdiv/opt/anaconda3/envs/ML/lib/python3.10/site-packages/sklearn/compose/_column_transformer.py?line=686'>687</a>\u001b[0m \u001b[39mself\u001b[39m\u001b[39m.\u001b[39m_validate_column_callables(X)\n\u001b[1;32m    <a href='file:///Users/matdiv/opt/anaconda3/envs/ML/lib/python3.10/site-packages/sklearn/compose/_column_transformer.py?line=687'>688</a>\u001b[0m \u001b[39mself\u001b[39m\u001b[39m.\u001b[39m_validate_remainder(X)\n",
      "File \u001b[0;32m~/opt/anaconda3/envs/ML/lib/python3.10/site-packages/sklearn/compose/_column_transformer.py:346\u001b[0m, in \u001b[0;36mColumnTransformer._validate_transformers\u001b[0;34m(self)\u001b[0m\n\u001b[1;32m    <a href='file:///Users/matdiv/opt/anaconda3/envs/ML/lib/python3.10/site-packages/sklearn/compose/_column_transformer.py?line=342'>343</a>\u001b[0m \u001b[39mif\u001b[39;00m \u001b[39mnot\u001b[39;00m \u001b[39mself\u001b[39m\u001b[39m.\u001b[39mtransformers:\n\u001b[1;32m    <a href='file:///Users/matdiv/opt/anaconda3/envs/ML/lib/python3.10/site-packages/sklearn/compose/_column_transformer.py?line=343'>344</a>\u001b[0m     \u001b[39mreturn\u001b[39;00m\n\u001b[0;32m--> <a href='file:///Users/matdiv/opt/anaconda3/envs/ML/lib/python3.10/site-packages/sklearn/compose/_column_transformer.py?line=345'>346</a>\u001b[0m names, transformers, _ \u001b[39m=\u001b[39m \u001b[39mzip\u001b[39m(\u001b[39m*\u001b[39m\u001b[39mself\u001b[39m\u001b[39m.\u001b[39mtransformers)\n\u001b[1;32m    <a href='file:///Users/matdiv/opt/anaconda3/envs/ML/lib/python3.10/site-packages/sklearn/compose/_column_transformer.py?line=347'>348</a>\u001b[0m \u001b[39m# validate names\u001b[39;00m\n\u001b[1;32m    <a href='file:///Users/matdiv/opt/anaconda3/envs/ML/lib/python3.10/site-packages/sklearn/compose/_column_transformer.py?line=348'>349</a>\u001b[0m \u001b[39mself\u001b[39m\u001b[39m.\u001b[39m_validate_names(names)\n",
      "\u001b[0;31mValueError\u001b[0m: not enough values to unpack (expected 3, got 2)"
     ]
    }
   ],
   "source": [
    "model = pipe.fit(X_train, y_train)\n",
    "y_pred = model.predict(y_test)"
   ]
  },
  {
   "cell_type": "code",
   "execution_count": 19,
   "metadata": {},
   "outputs": [
    {
     "name": "stdout",
     "output_type": "stream",
     "text": [
      "Fitting 5 folds for each of 11 candidates, totalling 55 fits\n"
     ]
    },
    {
     "ename": "ValueError",
     "evalue": "not enough values to unpack (expected 3, got 2)",
     "output_type": "error",
     "traceback": [
      "\u001b[0;31m---------------------------------------------------------------------------\u001b[0m",
      "\u001b[0;31m_RemoteTraceback\u001b[0m                          Traceback (most recent call last)",
      "\u001b[0;31m_RemoteTraceback\u001b[0m: \n\"\"\"\nTraceback (most recent call last):\n  File \"/Users/matdiv/opt/anaconda3/envs/ML/lib/python3.10/site-packages/joblib/externals/loky/process_executor.py\", line 428, in _process_worker\n    r = call_item()\n  File \"/Users/matdiv/opt/anaconda3/envs/ML/lib/python3.10/site-packages/joblib/externals/loky/process_executor.py\", line 275, in __call__\n    return self.fn(*self.args, **self.kwargs)\n  File \"/Users/matdiv/opt/anaconda3/envs/ML/lib/python3.10/site-packages/joblib/_parallel_backends.py\", line 620, in __call__\n    return self.func(*args, **kwargs)\n  File \"/Users/matdiv/opt/anaconda3/envs/ML/lib/python3.10/site-packages/joblib/parallel.py\", line 288, in __call__\n    return [func(*args, **kwargs)\n  File \"/Users/matdiv/opt/anaconda3/envs/ML/lib/python3.10/site-packages/joblib/parallel.py\", line 288, in <listcomp>\n    return [func(*args, **kwargs)\n  File \"/Users/matdiv/opt/anaconda3/envs/ML/lib/python3.10/site-packages/sklearn/utils/fixes.py\", line 117, in __call__\n    return self.function(*args, **kwargs)\n  File \"/Users/matdiv/opt/anaconda3/envs/ML/lib/python3.10/site-packages/sklearn/model_selection/_validation.py\", line 686, in _fit_and_score\n    estimator.fit(X_train, y_train, **fit_params)\n  File \"/Users/matdiv/opt/anaconda3/envs/ML/lib/python3.10/site-packages/sklearn/pipeline.py\", line 378, in fit\n    Xt = self._fit(X, y, **fit_params_steps)\n  File \"/Users/matdiv/opt/anaconda3/envs/ML/lib/python3.10/site-packages/sklearn/pipeline.py\", line 336, in _fit\n    X, fitted_transformer = fit_transform_one_cached(\n  File \"/Users/matdiv/opt/anaconda3/envs/ML/lib/python3.10/site-packages/joblib/memory.py\", line 349, in __call__\n    return self.func(*args, **kwargs)\n  File \"/Users/matdiv/opt/anaconda3/envs/ML/lib/python3.10/site-packages/sklearn/pipeline.py\", line 870, in _fit_transform_one\n    res = transformer.fit_transform(X, y, **fit_params)\n  File \"/Users/matdiv/opt/anaconda3/envs/ML/lib/python3.10/site-packages/sklearn/compose/_column_transformer.py\", line 686, in fit_transform\n    self._validate_transformers()\n  File \"/Users/matdiv/opt/anaconda3/envs/ML/lib/python3.10/site-packages/sklearn/compose/_column_transformer.py\", line 346, in _validate_transformers\n    names, transformers, _ = zip(*self.transformers)\nValueError: not enough values to unpack (expected 3, got 2)\n\"\"\"",
      "\nThe above exception was the direct cause of the following exception:\n",
      "\u001b[0;31mValueError\u001b[0m                                Traceback (most recent call last)",
      "\u001b[1;32m/Users/matdiv/Coding_project/School-DS-HW/HW-8/HW-8.ipynb Cell 20'\u001b[0m in \u001b[0;36m<cell line: 5>\u001b[0;34m()\u001b[0m\n\u001b[1;32m      <a href='vscode-notebook-cell:/Users/matdiv/Coding_project/School-DS-HW/HW-8/HW-8.ipynb#ch0000073?line=4'>5</a>\u001b[0m \u001b[39mfor\u001b[39;00m regression \u001b[39min\u001b[39;00m regressions:\n\u001b[1;32m      <a href='vscode-notebook-cell:/Users/matdiv/Coding_project/School-DS-HW/HW-8/HW-8.ipynb#ch0000073?line=5'>6</a>\u001b[0m     gs_\u001b[39m=\u001b[39m GridSearchCV(\n\u001b[1;32m      <a href='vscode-notebook-cell:/Users/matdiv/Coding_project/School-DS-HW/HW-8/HW-8.ipynb#ch0000073?line=6'>7</a>\u001b[0m                         pipe,\n\u001b[1;32m      <a href='vscode-notebook-cell:/Users/matdiv/Coding_project/School-DS-HW/HW-8/HW-8.ipynb#ch0000073?line=7'>8</a>\u001b[0m                         param_grid\u001b[39m=\u001b[39mparams,\n\u001b[0;32m   (...)\u001b[0m\n\u001b[1;32m     <a href='vscode-notebook-cell:/Users/matdiv/Coding_project/School-DS-HW/HW-8/HW-8.ipynb#ch0000073?line=12'>13</a>\u001b[0m                         verbose\u001b[39m=\u001b[39m\u001b[39m2\u001b[39m\n\u001b[1;32m     <a href='vscode-notebook-cell:/Users/matdiv/Coding_project/School-DS-HW/HW-8/HW-8.ipynb#ch0000073?line=13'>14</a>\u001b[0m )\n\u001b[0;32m---> <a href='vscode-notebook-cell:/Users/matdiv/Coding_project/School-DS-HW/HW-8/HW-8.ipynb#ch0000073?line=15'>16</a>\u001b[0m     model \u001b[39m=\u001b[39m gs_\u001b[39m.\u001b[39;49mfit(X_train, y_train)\n\u001b[1;32m     <a href='vscode-notebook-cell:/Users/matdiv/Coding_project/School-DS-HW/HW-8/HW-8.ipynb#ch0000073?line=16'>17</a>\u001b[0m     y_pred \u001b[39m=\u001b[39m model\u001b[39m.\u001b[39mpredict(X_test)\n\u001b[1;32m     <a href='vscode-notebook-cell:/Users/matdiv/Coding_project/School-DS-HW/HW-8/HW-8.ipynb#ch0000073?line=17'>18</a>\u001b[0m     \u001b[39mprint\u001b[39m(\u001b[39m'\u001b[39m\u001b[39mМодель: \u001b[39m\u001b[39m'\u001b[39m,regression)\n",
      "File \u001b[0;32m~/opt/anaconda3/envs/ML/lib/python3.10/site-packages/sklearn/model_selection/_search.py:875\u001b[0m, in \u001b[0;36mBaseSearchCV.fit\u001b[0;34m(self, X, y, groups, **fit_params)\u001b[0m\n\u001b[1;32m    <a href='file:///Users/matdiv/opt/anaconda3/envs/ML/lib/python3.10/site-packages/sklearn/model_selection/_search.py?line=868'>869</a>\u001b[0m     results \u001b[39m=\u001b[39m \u001b[39mself\u001b[39m\u001b[39m.\u001b[39m_format_results(\n\u001b[1;32m    <a href='file:///Users/matdiv/opt/anaconda3/envs/ML/lib/python3.10/site-packages/sklearn/model_selection/_search.py?line=869'>870</a>\u001b[0m         all_candidate_params, n_splits, all_out, all_more_results\n\u001b[1;32m    <a href='file:///Users/matdiv/opt/anaconda3/envs/ML/lib/python3.10/site-packages/sklearn/model_selection/_search.py?line=870'>871</a>\u001b[0m     )\n\u001b[1;32m    <a href='file:///Users/matdiv/opt/anaconda3/envs/ML/lib/python3.10/site-packages/sklearn/model_selection/_search.py?line=872'>873</a>\u001b[0m     \u001b[39mreturn\u001b[39;00m results\n\u001b[0;32m--> <a href='file:///Users/matdiv/opt/anaconda3/envs/ML/lib/python3.10/site-packages/sklearn/model_selection/_search.py?line=874'>875</a>\u001b[0m \u001b[39mself\u001b[39;49m\u001b[39m.\u001b[39;49m_run_search(evaluate_candidates)\n\u001b[1;32m    <a href='file:///Users/matdiv/opt/anaconda3/envs/ML/lib/python3.10/site-packages/sklearn/model_selection/_search.py?line=876'>877</a>\u001b[0m \u001b[39m# multimetric is determined here because in the case of a callable\u001b[39;00m\n\u001b[1;32m    <a href='file:///Users/matdiv/opt/anaconda3/envs/ML/lib/python3.10/site-packages/sklearn/model_selection/_search.py?line=877'>878</a>\u001b[0m \u001b[39m# self.scoring the return type is only known after calling\u001b[39;00m\n\u001b[1;32m    <a href='file:///Users/matdiv/opt/anaconda3/envs/ML/lib/python3.10/site-packages/sklearn/model_selection/_search.py?line=878'>879</a>\u001b[0m first_test_score \u001b[39m=\u001b[39m all_out[\u001b[39m0\u001b[39m][\u001b[39m\"\u001b[39m\u001b[39mtest_scores\u001b[39m\u001b[39m\"\u001b[39m]\n",
      "File \u001b[0;32m~/opt/anaconda3/envs/ML/lib/python3.10/site-packages/sklearn/model_selection/_search.py:1379\u001b[0m, in \u001b[0;36mGridSearchCV._run_search\u001b[0;34m(self, evaluate_candidates)\u001b[0m\n\u001b[1;32m   <a href='file:///Users/matdiv/opt/anaconda3/envs/ML/lib/python3.10/site-packages/sklearn/model_selection/_search.py?line=1376'>1377</a>\u001b[0m \u001b[39mdef\u001b[39;00m \u001b[39m_run_search\u001b[39m(\u001b[39mself\u001b[39m, evaluate_candidates):\n\u001b[1;32m   <a href='file:///Users/matdiv/opt/anaconda3/envs/ML/lib/python3.10/site-packages/sklearn/model_selection/_search.py?line=1377'>1378</a>\u001b[0m     \u001b[39m\"\"\"Search all candidates in param_grid\"\"\"\u001b[39;00m\n\u001b[0;32m-> <a href='file:///Users/matdiv/opt/anaconda3/envs/ML/lib/python3.10/site-packages/sklearn/model_selection/_search.py?line=1378'>1379</a>\u001b[0m     evaluate_candidates(ParameterGrid(\u001b[39mself\u001b[39;49m\u001b[39m.\u001b[39;49mparam_grid))\n",
      "File \u001b[0;32m~/opt/anaconda3/envs/ML/lib/python3.10/site-packages/sklearn/model_selection/_search.py:822\u001b[0m, in \u001b[0;36mBaseSearchCV.fit.<locals>.evaluate_candidates\u001b[0;34m(candidate_params, cv, more_results)\u001b[0m\n\u001b[1;32m    <a href='file:///Users/matdiv/opt/anaconda3/envs/ML/lib/python3.10/site-packages/sklearn/model_selection/_search.py?line=813'>814</a>\u001b[0m \u001b[39mif\u001b[39;00m \u001b[39mself\u001b[39m\u001b[39m.\u001b[39mverbose \u001b[39m>\u001b[39m \u001b[39m0\u001b[39m:\n\u001b[1;32m    <a href='file:///Users/matdiv/opt/anaconda3/envs/ML/lib/python3.10/site-packages/sklearn/model_selection/_search.py?line=814'>815</a>\u001b[0m     \u001b[39mprint\u001b[39m(\n\u001b[1;32m    <a href='file:///Users/matdiv/opt/anaconda3/envs/ML/lib/python3.10/site-packages/sklearn/model_selection/_search.py?line=815'>816</a>\u001b[0m         \u001b[39m\"\u001b[39m\u001b[39mFitting \u001b[39m\u001b[39m{0}\u001b[39;00m\u001b[39m folds for each of \u001b[39m\u001b[39m{1}\u001b[39;00m\u001b[39m candidates,\u001b[39m\u001b[39m\"\u001b[39m\n\u001b[1;32m    <a href='file:///Users/matdiv/opt/anaconda3/envs/ML/lib/python3.10/site-packages/sklearn/model_selection/_search.py?line=816'>817</a>\u001b[0m         \u001b[39m\"\u001b[39m\u001b[39m totalling \u001b[39m\u001b[39m{2}\u001b[39;00m\u001b[39m fits\u001b[39m\u001b[39m\"\u001b[39m\u001b[39m.\u001b[39mformat(\n\u001b[1;32m    <a href='file:///Users/matdiv/opt/anaconda3/envs/ML/lib/python3.10/site-packages/sklearn/model_selection/_search.py?line=817'>818</a>\u001b[0m             n_splits, n_candidates, n_candidates \u001b[39m*\u001b[39m n_splits\n\u001b[1;32m    <a href='file:///Users/matdiv/opt/anaconda3/envs/ML/lib/python3.10/site-packages/sklearn/model_selection/_search.py?line=818'>819</a>\u001b[0m         )\n\u001b[1;32m    <a href='file:///Users/matdiv/opt/anaconda3/envs/ML/lib/python3.10/site-packages/sklearn/model_selection/_search.py?line=819'>820</a>\u001b[0m     )\n\u001b[0;32m--> <a href='file:///Users/matdiv/opt/anaconda3/envs/ML/lib/python3.10/site-packages/sklearn/model_selection/_search.py?line=821'>822</a>\u001b[0m out \u001b[39m=\u001b[39m parallel(\n\u001b[1;32m    <a href='file:///Users/matdiv/opt/anaconda3/envs/ML/lib/python3.10/site-packages/sklearn/model_selection/_search.py?line=822'>823</a>\u001b[0m     delayed(_fit_and_score)(\n\u001b[1;32m    <a href='file:///Users/matdiv/opt/anaconda3/envs/ML/lib/python3.10/site-packages/sklearn/model_selection/_search.py?line=823'>824</a>\u001b[0m         clone(base_estimator),\n\u001b[1;32m    <a href='file:///Users/matdiv/opt/anaconda3/envs/ML/lib/python3.10/site-packages/sklearn/model_selection/_search.py?line=824'>825</a>\u001b[0m         X,\n\u001b[1;32m    <a href='file:///Users/matdiv/opt/anaconda3/envs/ML/lib/python3.10/site-packages/sklearn/model_selection/_search.py?line=825'>826</a>\u001b[0m         y,\n\u001b[1;32m    <a href='file:///Users/matdiv/opt/anaconda3/envs/ML/lib/python3.10/site-packages/sklearn/model_selection/_search.py?line=826'>827</a>\u001b[0m         train\u001b[39m=\u001b[39;49mtrain,\n\u001b[1;32m    <a href='file:///Users/matdiv/opt/anaconda3/envs/ML/lib/python3.10/site-packages/sklearn/model_selection/_search.py?line=827'>828</a>\u001b[0m         test\u001b[39m=\u001b[39;49mtest,\n\u001b[1;32m    <a href='file:///Users/matdiv/opt/anaconda3/envs/ML/lib/python3.10/site-packages/sklearn/model_selection/_search.py?line=828'>829</a>\u001b[0m         parameters\u001b[39m=\u001b[39;49mparameters,\n\u001b[1;32m    <a href='file:///Users/matdiv/opt/anaconda3/envs/ML/lib/python3.10/site-packages/sklearn/model_selection/_search.py?line=829'>830</a>\u001b[0m         split_progress\u001b[39m=\u001b[39;49m(split_idx, n_splits),\n\u001b[1;32m    <a href='file:///Users/matdiv/opt/anaconda3/envs/ML/lib/python3.10/site-packages/sklearn/model_selection/_search.py?line=830'>831</a>\u001b[0m         candidate_progress\u001b[39m=\u001b[39;49m(cand_idx, n_candidates),\n\u001b[1;32m    <a href='file:///Users/matdiv/opt/anaconda3/envs/ML/lib/python3.10/site-packages/sklearn/model_selection/_search.py?line=831'>832</a>\u001b[0m         \u001b[39m*\u001b[39;49m\u001b[39m*\u001b[39;49mfit_and_score_kwargs,\n\u001b[1;32m    <a href='file:///Users/matdiv/opt/anaconda3/envs/ML/lib/python3.10/site-packages/sklearn/model_selection/_search.py?line=832'>833</a>\u001b[0m     )\n\u001b[1;32m    <a href='file:///Users/matdiv/opt/anaconda3/envs/ML/lib/python3.10/site-packages/sklearn/model_selection/_search.py?line=833'>834</a>\u001b[0m     \u001b[39mfor\u001b[39;49;00m (cand_idx, parameters), (split_idx, (train, test)) \u001b[39min\u001b[39;49;00m product(\n\u001b[1;32m    <a href='file:///Users/matdiv/opt/anaconda3/envs/ML/lib/python3.10/site-packages/sklearn/model_selection/_search.py?line=834'>835</a>\u001b[0m         \u001b[39menumerate\u001b[39;49m(candidate_params), \u001b[39menumerate\u001b[39;49m(cv\u001b[39m.\u001b[39;49msplit(X, y, groups))\n\u001b[1;32m    <a href='file:///Users/matdiv/opt/anaconda3/envs/ML/lib/python3.10/site-packages/sklearn/model_selection/_search.py?line=835'>836</a>\u001b[0m     )\n\u001b[1;32m    <a href='file:///Users/matdiv/opt/anaconda3/envs/ML/lib/python3.10/site-packages/sklearn/model_selection/_search.py?line=836'>837</a>\u001b[0m )\n\u001b[1;32m    <a href='file:///Users/matdiv/opt/anaconda3/envs/ML/lib/python3.10/site-packages/sklearn/model_selection/_search.py?line=838'>839</a>\u001b[0m \u001b[39mif\u001b[39;00m \u001b[39mlen\u001b[39m(out) \u001b[39m<\u001b[39m \u001b[39m1\u001b[39m:\n\u001b[1;32m    <a href='file:///Users/matdiv/opt/anaconda3/envs/ML/lib/python3.10/site-packages/sklearn/model_selection/_search.py?line=839'>840</a>\u001b[0m     \u001b[39mraise\u001b[39;00m \u001b[39mValueError\u001b[39;00m(\n\u001b[1;32m    <a href='file:///Users/matdiv/opt/anaconda3/envs/ML/lib/python3.10/site-packages/sklearn/model_selection/_search.py?line=840'>841</a>\u001b[0m         \u001b[39m\"\u001b[39m\u001b[39mNo fits were performed. \u001b[39m\u001b[39m\"\u001b[39m\n\u001b[1;32m    <a href='file:///Users/matdiv/opt/anaconda3/envs/ML/lib/python3.10/site-packages/sklearn/model_selection/_search.py?line=841'>842</a>\u001b[0m         \u001b[39m\"\u001b[39m\u001b[39mWas the CV iterator empty? \u001b[39m\u001b[39m\"\u001b[39m\n\u001b[1;32m    <a href='file:///Users/matdiv/opt/anaconda3/envs/ML/lib/python3.10/site-packages/sklearn/model_selection/_search.py?line=842'>843</a>\u001b[0m         \u001b[39m\"\u001b[39m\u001b[39mWere there no candidates?\u001b[39m\u001b[39m\"\u001b[39m\n\u001b[1;32m    <a href='file:///Users/matdiv/opt/anaconda3/envs/ML/lib/python3.10/site-packages/sklearn/model_selection/_search.py?line=843'>844</a>\u001b[0m     )\n",
      "File \u001b[0;32m~/opt/anaconda3/envs/ML/lib/python3.10/site-packages/joblib/parallel.py:1098\u001b[0m, in \u001b[0;36mParallel.__call__\u001b[0;34m(self, iterable)\u001b[0m\n\u001b[1;32m   <a href='file:///Users/matdiv/opt/anaconda3/envs/ML/lib/python3.10/site-packages/joblib/parallel.py?line=1094'>1095</a>\u001b[0m     \u001b[39mself\u001b[39m\u001b[39m.\u001b[39m_iterating \u001b[39m=\u001b[39m \u001b[39mFalse\u001b[39;00m\n\u001b[1;32m   <a href='file:///Users/matdiv/opt/anaconda3/envs/ML/lib/python3.10/site-packages/joblib/parallel.py?line=1096'>1097</a>\u001b[0m \u001b[39mwith\u001b[39;00m \u001b[39mself\u001b[39m\u001b[39m.\u001b[39m_backend\u001b[39m.\u001b[39mretrieval_context():\n\u001b[0;32m-> <a href='file:///Users/matdiv/opt/anaconda3/envs/ML/lib/python3.10/site-packages/joblib/parallel.py?line=1097'>1098</a>\u001b[0m     \u001b[39mself\u001b[39;49m\u001b[39m.\u001b[39;49mretrieve()\n\u001b[1;32m   <a href='file:///Users/matdiv/opt/anaconda3/envs/ML/lib/python3.10/site-packages/joblib/parallel.py?line=1098'>1099</a>\u001b[0m \u001b[39m# Make sure that we get a last message telling us we are done\u001b[39;00m\n\u001b[1;32m   <a href='file:///Users/matdiv/opt/anaconda3/envs/ML/lib/python3.10/site-packages/joblib/parallel.py?line=1099'>1100</a>\u001b[0m elapsed_time \u001b[39m=\u001b[39m time\u001b[39m.\u001b[39mtime() \u001b[39m-\u001b[39m \u001b[39mself\u001b[39m\u001b[39m.\u001b[39m_start_time\n",
      "File \u001b[0;32m~/opt/anaconda3/envs/ML/lib/python3.10/site-packages/joblib/parallel.py:975\u001b[0m, in \u001b[0;36mParallel.retrieve\u001b[0;34m(self)\u001b[0m\n\u001b[1;32m    <a href='file:///Users/matdiv/opt/anaconda3/envs/ML/lib/python3.10/site-packages/joblib/parallel.py?line=972'>973</a>\u001b[0m \u001b[39mtry\u001b[39;00m:\n\u001b[1;32m    <a href='file:///Users/matdiv/opt/anaconda3/envs/ML/lib/python3.10/site-packages/joblib/parallel.py?line=973'>974</a>\u001b[0m     \u001b[39mif\u001b[39;00m \u001b[39mgetattr\u001b[39m(\u001b[39mself\u001b[39m\u001b[39m.\u001b[39m_backend, \u001b[39m'\u001b[39m\u001b[39msupports_timeout\u001b[39m\u001b[39m'\u001b[39m, \u001b[39mFalse\u001b[39;00m):\n\u001b[0;32m--> <a href='file:///Users/matdiv/opt/anaconda3/envs/ML/lib/python3.10/site-packages/joblib/parallel.py?line=974'>975</a>\u001b[0m         \u001b[39mself\u001b[39m\u001b[39m.\u001b[39m_output\u001b[39m.\u001b[39mextend(job\u001b[39m.\u001b[39;49mget(timeout\u001b[39m=\u001b[39;49m\u001b[39mself\u001b[39;49m\u001b[39m.\u001b[39;49mtimeout))\n\u001b[1;32m    <a href='file:///Users/matdiv/opt/anaconda3/envs/ML/lib/python3.10/site-packages/joblib/parallel.py?line=975'>976</a>\u001b[0m     \u001b[39melse\u001b[39;00m:\n\u001b[1;32m    <a href='file:///Users/matdiv/opt/anaconda3/envs/ML/lib/python3.10/site-packages/joblib/parallel.py?line=976'>977</a>\u001b[0m         \u001b[39mself\u001b[39m\u001b[39m.\u001b[39m_output\u001b[39m.\u001b[39mextend(job\u001b[39m.\u001b[39mget())\n",
      "File \u001b[0;32m~/opt/anaconda3/envs/ML/lib/python3.10/site-packages/joblib/_parallel_backends.py:567\u001b[0m, in \u001b[0;36mLokyBackend.wrap_future_result\u001b[0;34m(future, timeout)\u001b[0m\n\u001b[1;32m    <a href='file:///Users/matdiv/opt/anaconda3/envs/ML/lib/python3.10/site-packages/joblib/_parallel_backends.py?line=563'>564</a>\u001b[0m \u001b[39m\"\"\"Wrapper for Future.result to implement the same behaviour as\u001b[39;00m\n\u001b[1;32m    <a href='file:///Users/matdiv/opt/anaconda3/envs/ML/lib/python3.10/site-packages/joblib/_parallel_backends.py?line=564'>565</a>\u001b[0m \u001b[39mAsyncResults.get from multiprocessing.\"\"\"\u001b[39;00m\n\u001b[1;32m    <a href='file:///Users/matdiv/opt/anaconda3/envs/ML/lib/python3.10/site-packages/joblib/_parallel_backends.py?line=565'>566</a>\u001b[0m \u001b[39mtry\u001b[39;00m:\n\u001b[0;32m--> <a href='file:///Users/matdiv/opt/anaconda3/envs/ML/lib/python3.10/site-packages/joblib/_parallel_backends.py?line=566'>567</a>\u001b[0m     \u001b[39mreturn\u001b[39;00m future\u001b[39m.\u001b[39;49mresult(timeout\u001b[39m=\u001b[39;49mtimeout)\n\u001b[1;32m    <a href='file:///Users/matdiv/opt/anaconda3/envs/ML/lib/python3.10/site-packages/joblib/_parallel_backends.py?line=567'>568</a>\u001b[0m \u001b[39mexcept\u001b[39;00m CfTimeoutError \u001b[39mas\u001b[39;00m e:\n\u001b[1;32m    <a href='file:///Users/matdiv/opt/anaconda3/envs/ML/lib/python3.10/site-packages/joblib/_parallel_backends.py?line=568'>569</a>\u001b[0m     \u001b[39mraise\u001b[39;00m \u001b[39mTimeoutError\u001b[39;00m \u001b[39mfrom\u001b[39;00m \u001b[39me\u001b[39;00m\n",
      "File \u001b[0;32m~/opt/anaconda3/envs/ML/lib/python3.10/concurrent/futures/_base.py:446\u001b[0m, in \u001b[0;36mFuture.result\u001b[0;34m(self, timeout)\u001b[0m\n\u001b[1;32m    <a href='file:///Users/matdiv/opt/anaconda3/envs/ML/lib/python3.10/concurrent/futures/_base.py?line=443'>444</a>\u001b[0m     \u001b[39mraise\u001b[39;00m CancelledError()\n\u001b[1;32m    <a href='file:///Users/matdiv/opt/anaconda3/envs/ML/lib/python3.10/concurrent/futures/_base.py?line=444'>445</a>\u001b[0m \u001b[39melif\u001b[39;00m \u001b[39mself\u001b[39m\u001b[39m.\u001b[39m_state \u001b[39m==\u001b[39m FINISHED:\n\u001b[0;32m--> <a href='file:///Users/matdiv/opt/anaconda3/envs/ML/lib/python3.10/concurrent/futures/_base.py?line=445'>446</a>\u001b[0m     \u001b[39mreturn\u001b[39;00m \u001b[39mself\u001b[39;49m\u001b[39m.\u001b[39;49m__get_result()\n\u001b[1;32m    <a href='file:///Users/matdiv/opt/anaconda3/envs/ML/lib/python3.10/concurrent/futures/_base.py?line=446'>447</a>\u001b[0m \u001b[39melse\u001b[39;00m:\n\u001b[1;32m    <a href='file:///Users/matdiv/opt/anaconda3/envs/ML/lib/python3.10/concurrent/futures/_base.py?line=447'>448</a>\u001b[0m     \u001b[39mraise\u001b[39;00m \u001b[39mTimeoutError\u001b[39;00m()\n",
      "File \u001b[0;32m~/opt/anaconda3/envs/ML/lib/python3.10/concurrent/futures/_base.py:391\u001b[0m, in \u001b[0;36mFuture.__get_result\u001b[0;34m(self)\u001b[0m\n\u001b[1;32m    <a href='file:///Users/matdiv/opt/anaconda3/envs/ML/lib/python3.10/concurrent/futures/_base.py?line=388'>389</a>\u001b[0m \u001b[39mif\u001b[39;00m \u001b[39mself\u001b[39m\u001b[39m.\u001b[39m_exception:\n\u001b[1;32m    <a href='file:///Users/matdiv/opt/anaconda3/envs/ML/lib/python3.10/concurrent/futures/_base.py?line=389'>390</a>\u001b[0m     \u001b[39mtry\u001b[39;00m:\n\u001b[0;32m--> <a href='file:///Users/matdiv/opt/anaconda3/envs/ML/lib/python3.10/concurrent/futures/_base.py?line=390'>391</a>\u001b[0m         \u001b[39mraise\u001b[39;00m \u001b[39mself\u001b[39m\u001b[39m.\u001b[39m_exception\n\u001b[1;32m    <a href='file:///Users/matdiv/opt/anaconda3/envs/ML/lib/python3.10/concurrent/futures/_base.py?line=391'>392</a>\u001b[0m     \u001b[39mfinally\u001b[39;00m:\n\u001b[1;32m    <a href='file:///Users/matdiv/opt/anaconda3/envs/ML/lib/python3.10/concurrent/futures/_base.py?line=392'>393</a>\u001b[0m         \u001b[39m# Break a reference cycle with the exception in self._exception\u001b[39;00m\n\u001b[1;32m    <a href='file:///Users/matdiv/opt/anaconda3/envs/ML/lib/python3.10/concurrent/futures/_base.py?line=393'>394</a>\u001b[0m         \u001b[39mself\u001b[39m \u001b[39m=\u001b[39m \u001b[39mNone\u001b[39;00m\n",
      "\u001b[0;31mValueError\u001b[0m: not enough values to unpack (expected 3, got 2)"
     ]
    }
   ],
   "source": [
    "coef_reg = [1e-5, 1e-4, 1e-3, 1e-2, 1e-1, 1, 1e+1, 1e+2, 1e+3, 1e+4, 1e+5]\n",
    "\n",
    "params = [{'regression__alpha': coef_reg}]\n",
    "\n",
    "for regression in regressions:\n",
    "    gs_= GridSearchCV(\n",
    "                        pipe,\n",
    "                        param_grid=params,\n",
    "                        scoring='r2',\n",
    "                        cv=5,\n",
    "                        n_jobs=-1,\n",
    "                        verbose=2\n",
    ")\n",
    "\n",
    "    model = gs_.fit(X_train, y_train)\n",
    "    y_pred = model.predict(X_test)\n",
    "    print('Модель: ',regression)\n",
    "    print('Время выполнения: %.3f' %elapsed_time)\n",
    "    print('Коэффициент регрессии',round(r2_score(y_test, y_pred),10))\n",
    "    print('----')"
   ]
  },
  {
   "cell_type": "code",
   "execution_count": null,
   "metadata": {},
   "outputs": [],
   "source": [
    "model = gs_lasso.fit(X_train, y_train)"
   ]
  },
  {
   "cell_type": "code",
   "execution_count": null,
   "metadata": {},
   "outputs": [],
   "source": [
    "y_pred = model.predict(X_test)\n",
    "print('Коэффициент регрессии: ',round(r2_score(y_test, y_pred),10))"
   ]
  },
  {
   "cell_type": "code",
   "execution_count": null,
   "metadata": {},
   "outputs": [],
   "source": [
    "scaler = MinMaxScaler()\n",
    "pipe = scaler.fit(X_train, y_train)\n",
    "# pipe.transform(X_train, y_train)"
   ]
  },
  {
   "cell_type": "code",
   "execution_count": null,
   "metadata": {},
   "outputs": [],
   "source": [
    "pipe.get_params()"
   ]
  },
  {
   "cell_type": "code",
   "execution_count": null,
   "metadata": {},
   "outputs": [],
   "source": [
    "numeric_features"
   ]
  },
  {
   "cell_type": "code",
   "execution_count": null,
   "metadata": {},
   "outputs": [],
   "source": [
    "model = pipe.fit(X_train, y_train)"
   ]
  },
  {
   "cell_type": "code",
   "execution_count": null,
   "metadata": {},
   "outputs": [],
   "source": [
    "regressions = [ Lasso,\n",
    "                Ridge\n",
    "               ]\n",
    "\n",
    "for regression in regressions:\n",
    "    start_time = time.time()\n",
    "    model = pipe.fit(X_train, y_train)\n",
    "    y_pred = model.predict(X_test)\n",
    "    elapsed_time = time.time() - start_time\n",
    "    print('Модель: ',regression)\n",
    "    print('Время выполнения: %.3f' %elapsed_time)\n",
    "    print('Коэффициент регрессии',round(r2_score(y_test, y_pred),10))\n",
    "    print('----')"
   ]
  },
  {
   "cell_type": "markdown",
   "metadata": {},
   "source": [
    "5. Подберите коэффициент регуляризации для Ridge и Lasso на масштабированных данных, посчитайте R2 и сравните с предыдущими результатами. Напишите как изменился результат"
   ]
  },
  {
   "cell_type": "code",
   "execution_count": null,
   "metadata": {},
   "outputs": [],
   "source": []
  },
  {
   "cell_type": "markdown",
   "metadata": {},
   "source": [
    "6. Добавьте попарные произведения признаков и их квадраты (используйте PolynomialFeatures) на масштабированных признаках, посчитайте R2 и сравните с предыдущими результатами. Напишите как изменился результат"
   ]
  },
  {
   "cell_type": "code",
   "execution_count": null,
   "metadata": {},
   "outputs": [],
   "source": []
  },
  {
   "cell_type": "markdown",
   "metadata": {},
   "source": [
    "7. Подберите наилучшую модель (используйте Pipeline, GridSearchSCV) подбирая тип регуляризации (L1,L2), коэффициент регуляризации, метод масштабирования и степень полинома в PolynomialFeatures. Выведите итоговые параметры и результат R2. Напишите как изменился R2 по сравнению с предыдущими экспериментами"
   ]
  },
  {
   "cell_type": "code",
   "execution_count": null,
   "metadata": {},
   "outputs": [],
   "source": []
  },
  {
   "cell_type": "markdown",
   "metadata": {},
   "source": [
    "http://archive.ics.uci.edu/ml/datasets/Adult"
   ]
  },
  {
   "cell_type": "code",
   "execution_count": 21,
   "metadata": {},
   "outputs": [],
   "source": [
    "link = 'https://raw.githubusercontent.com/jbrownlee/Datasets/master/adult-all.csv'\n",
    "data = pd.read_csv(link, header=None)"
   ]
  },
  {
   "cell_type": "code",
   "execution_count": 22,
   "metadata": {},
   "outputs": [
    {
     "data": {
      "text/html": [
       "<div>\n",
       "<style scoped>\n",
       "    .dataframe tbody tr th:only-of-type {\n",
       "        vertical-align: middle;\n",
       "    }\n",
       "\n",
       "    .dataframe tbody tr th {\n",
       "        vertical-align: top;\n",
       "    }\n",
       "\n",
       "    .dataframe thead th {\n",
       "        text-align: right;\n",
       "    }\n",
       "</style>\n",
       "<table border=\"1\" class=\"dataframe\">\n",
       "  <thead>\n",
       "    <tr style=\"text-align: right;\">\n",
       "      <th></th>\n",
       "      <th>0</th>\n",
       "      <th>1</th>\n",
       "      <th>2</th>\n",
       "      <th>3</th>\n",
       "      <th>4</th>\n",
       "      <th>5</th>\n",
       "      <th>6</th>\n",
       "      <th>7</th>\n",
       "      <th>8</th>\n",
       "      <th>9</th>\n",
       "      <th>10</th>\n",
       "      <th>11</th>\n",
       "      <th>12</th>\n",
       "      <th>13</th>\n",
       "      <th>14</th>\n",
       "    </tr>\n",
       "  </thead>\n",
       "  <tbody>\n",
       "    <tr>\n",
       "      <th>0</th>\n",
       "      <td>39</td>\n",
       "      <td>State-gov</td>\n",
       "      <td>77516</td>\n",
       "      <td>Bachelors</td>\n",
       "      <td>13</td>\n",
       "      <td>Never-married</td>\n",
       "      <td>Adm-clerical</td>\n",
       "      <td>Not-in-family</td>\n",
       "      <td>White</td>\n",
       "      <td>Male</td>\n",
       "      <td>2174</td>\n",
       "      <td>0</td>\n",
       "      <td>40</td>\n",
       "      <td>United-States</td>\n",
       "      <td>&lt;=50K</td>\n",
       "    </tr>\n",
       "    <tr>\n",
       "      <th>1</th>\n",
       "      <td>50</td>\n",
       "      <td>Self-emp-not-inc</td>\n",
       "      <td>83311</td>\n",
       "      <td>Bachelors</td>\n",
       "      <td>13</td>\n",
       "      <td>Married-civ-spouse</td>\n",
       "      <td>Exec-managerial</td>\n",
       "      <td>Husband</td>\n",
       "      <td>White</td>\n",
       "      <td>Male</td>\n",
       "      <td>0</td>\n",
       "      <td>0</td>\n",
       "      <td>13</td>\n",
       "      <td>United-States</td>\n",
       "      <td>&lt;=50K</td>\n",
       "    </tr>\n",
       "    <tr>\n",
       "      <th>2</th>\n",
       "      <td>38</td>\n",
       "      <td>Private</td>\n",
       "      <td>215646</td>\n",
       "      <td>HS-grad</td>\n",
       "      <td>9</td>\n",
       "      <td>Divorced</td>\n",
       "      <td>Handlers-cleaners</td>\n",
       "      <td>Not-in-family</td>\n",
       "      <td>White</td>\n",
       "      <td>Male</td>\n",
       "      <td>0</td>\n",
       "      <td>0</td>\n",
       "      <td>40</td>\n",
       "      <td>United-States</td>\n",
       "      <td>&lt;=50K</td>\n",
       "    </tr>\n",
       "    <tr>\n",
       "      <th>3</th>\n",
       "      <td>53</td>\n",
       "      <td>Private</td>\n",
       "      <td>234721</td>\n",
       "      <td>11th</td>\n",
       "      <td>7</td>\n",
       "      <td>Married-civ-spouse</td>\n",
       "      <td>Handlers-cleaners</td>\n",
       "      <td>Husband</td>\n",
       "      <td>Black</td>\n",
       "      <td>Male</td>\n",
       "      <td>0</td>\n",
       "      <td>0</td>\n",
       "      <td>40</td>\n",
       "      <td>United-States</td>\n",
       "      <td>&lt;=50K</td>\n",
       "    </tr>\n",
       "    <tr>\n",
       "      <th>4</th>\n",
       "      <td>28</td>\n",
       "      <td>Private</td>\n",
       "      <td>338409</td>\n",
       "      <td>Bachelors</td>\n",
       "      <td>13</td>\n",
       "      <td>Married-civ-spouse</td>\n",
       "      <td>Prof-specialty</td>\n",
       "      <td>Wife</td>\n",
       "      <td>Black</td>\n",
       "      <td>Female</td>\n",
       "      <td>0</td>\n",
       "      <td>0</td>\n",
       "      <td>40</td>\n",
       "      <td>Cuba</td>\n",
       "      <td>&lt;=50K</td>\n",
       "    </tr>\n",
       "  </tbody>\n",
       "</table>\n",
       "</div>"
      ],
      "text/plain": [
       "   0                 1       2          3   4                   5   \\\n",
       "0  39         State-gov   77516  Bachelors  13       Never-married   \n",
       "1  50  Self-emp-not-inc   83311  Bachelors  13  Married-civ-spouse   \n",
       "2  38           Private  215646    HS-grad   9            Divorced   \n",
       "3  53           Private  234721       11th   7  Married-civ-spouse   \n",
       "4  28           Private  338409  Bachelors  13  Married-civ-spouse   \n",
       "\n",
       "                  6              7      8       9     10  11  12  \\\n",
       "0       Adm-clerical  Not-in-family  White    Male  2174   0  40   \n",
       "1    Exec-managerial        Husband  White    Male     0   0  13   \n",
       "2  Handlers-cleaners  Not-in-family  White    Male     0   0  40   \n",
       "3  Handlers-cleaners        Husband  Black    Male     0   0  40   \n",
       "4     Prof-specialty           Wife  Black  Female     0   0  40   \n",
       "\n",
       "              13     14  \n",
       "0  United-States  <=50K  \n",
       "1  United-States  <=50K  \n",
       "2  United-States  <=50K  \n",
       "3  United-States  <=50K  \n",
       "4           Cuba  <=50K  "
      ]
     },
     "execution_count": 22,
     "metadata": {},
     "output_type": "execute_result"
    }
   ],
   "source": [
    "data.head()"
   ]
  },
  {
   "cell_type": "code",
   "execution_count": 23,
   "metadata": {},
   "outputs": [],
   "source": [
    "map_target = {'<=50K' : '0',\n",
    "              '>50K' : '2'}"
   ]
  },
  {
   "cell_type": "markdown",
   "metadata": {},
   "source": [
    "8. Разделите выборку на признаки и целевую переменную(колонка со зачениями {<=50K,>50K}). Замените целевую переменную на числовые значения."
   ]
  },
  {
   "cell_type": "code",
   "execution_count": 24,
   "metadata": {},
   "outputs": [],
   "source": [
    "X = data.iloc[:, 0:14]\n",
    "y = data.iloc[:, 14:15]"
   ]
  },
  {
   "cell_type": "code",
   "execution_count": 25,
   "metadata": {},
   "outputs": [],
   "source": [
    "# y = y.map(map_target)\n",
    "y['Target'] = y[14].map(map_target)"
   ]
  },
  {
   "cell_type": "code",
   "execution_count": 26,
   "metadata": {},
   "outputs": [],
   "source": [
    "y.drop(columns=[14], inplace=True)"
   ]
  },
  {
   "cell_type": "markdown",
   "metadata": {},
   "source": [
    "9. Выясните, присутствуют ли в данных пропуски. Заполните их самыми частыми значениями (испольуйте SimpleImputer)"
   ]
  },
  {
   "cell_type": "code",
   "execution_count": 28,
   "metadata": {},
   "outputs": [
    {
     "name": "stdout",
     "output_type": "stream",
     "text": [
      "<class 'pandas.core.frame.DataFrame'>\n",
      "RangeIndex: 48842 entries, 0 to 48841\n",
      "Data columns (total 14 columns):\n",
      " #   Column  Non-Null Count  Dtype \n",
      "---  ------  --------------  ----- \n",
      " 0   0       48842 non-null  int64 \n",
      " 1   1       48842 non-null  object\n",
      " 2   2       48842 non-null  int64 \n",
      " 3   3       48842 non-null  object\n",
      " 4   4       48842 non-null  int64 \n",
      " 5   5       48842 non-null  object\n",
      " 6   6       48842 non-null  object\n",
      " 7   7       48842 non-null  object\n",
      " 8   8       48842 non-null  object\n",
      " 9   9       48842 non-null  object\n",
      " 10  10      48842 non-null  int64 \n",
      " 11  11      48842 non-null  int64 \n",
      " 12  12      48842 non-null  int64 \n",
      " 13  13      48842 non-null  object\n",
      "dtypes: int64(6), object(8)\n",
      "memory usage: 5.2+ MB\n"
     ]
    }
   ],
   "source": [
    "X.info()"
   ]
  },
  {
   "cell_type": "markdown",
   "metadata": {},
   "source": [
    "10. Выберите колонки с числовыми и категориальными переменными."
   ]
  },
  {
   "cell_type": "code",
   "execution_count": 73,
   "metadata": {},
   "outputs": [],
   "source": [
    "numeric_features = X.select_dtypes(include=['int64', 'float64']).columns\n",
    "categorical_features = X.select_dtypes(include=['category']).columns"
   ]
  },
  {
   "cell_type": "markdown",
   "metadata": {},
   "source": [
    "11. Создайте пайплайн по обработке колонок(используйте OneHotEncoder,MinMaxScaler)."
   ]
  },
  {
   "cell_type": "code",
   "execution_count": 34,
   "metadata": {},
   "outputs": [],
   "source": [
    "from sklearn.preprocessing import OneHotEncoder"
   ]
  },
  {
   "cell_type": "code",
   "execution_count": 35,
   "metadata": {},
   "outputs": [],
   "source": [
    "from sklearn.pipeline import Pipeline, FeatureUnion"
   ]
  },
  {
   "cell_type": "code",
   "execution_count": 36,
   "metadata": {},
   "outputs": [],
   "source": [
    "from sklearn.linear_model import LogisticRegression"
   ]
  },
  {
   "cell_type": "code",
   "execution_count": 74,
   "metadata": {},
   "outputs": [],
   "source": [
    "num_pipe = Pipeline(\n",
    "                    ('MinMaxScaler', MinMaxScaler())\n",
    "                    )\n",
    "\n",
    "cat_pipe = Pipeline(\n",
    "                    ('OneHotEncoder', OneHotEncoder())\n",
    "                    )\n",
    "\n",
    "num = ColumnTransformer(transformers=['Scaler', num_pipe, numeric_features])\n",
    "cat = ColumnTransformer(transformers=['Encode', cat_pipe, categorical_features])\n",
    "\n",
    "full_pipe = Pipeline(['feat_union', FeatureUnion(transformer_list=[('numeric', num),('categorical', cat)]),'LRegr', LogisticRegression() ])"
   ]
  },
  {
   "cell_type": "code",
   "execution_count": 75,
   "metadata": {},
   "outputs": [],
   "source": [
    "X_train, X_test, y_train, y_test = train_test_split(X, y, test_size=0.2, random_state=RANDOM_STATE)"
   ]
  },
  {
   "cell_type": "code",
   "execution_count": 79,
   "metadata": {},
   "outputs": [
    {
     "ename": "ValueError",
     "evalue": "too many values to unpack (expected 2)",
     "output_type": "error",
     "traceback": [
      "\u001b[0;31m---------------------------------------------------------------------------\u001b[0m",
      "\u001b[0;31mValueError\u001b[0m                                Traceback (most recent call last)",
      "\u001b[1;32m/Users/matdiv/Coding_project/School-DS-HW/HW-8/HW-8.ipynb Cell 53'\u001b[0m in \u001b[0;36m<cell line: 1>\u001b[0;34m()\u001b[0m\n\u001b[0;32m----> <a href='vscode-notebook-cell:/Users/matdiv/Coding_project/School-DS-HW/HW-8/HW-8.ipynb#ch0000096?line=0'>1</a>\u001b[0m num_pipe\u001b[39m.\u001b[39;49mfit(X_train[numeric_features], y_train)\n",
      "File \u001b[0;32m~/opt/anaconda3/envs/ML/lib/python3.10/site-packages/sklearn/pipeline.py:377\u001b[0m, in \u001b[0;36mPipeline.fit\u001b[0;34m(self, X, y, **fit_params)\u001b[0m\n\u001b[1;32m    <a href='file:///Users/matdiv/opt/anaconda3/envs/ML/lib/python3.10/site-packages/sklearn/pipeline.py?line=350'>351</a>\u001b[0m \u001b[39mdef\u001b[39;00m \u001b[39mfit\u001b[39m(\u001b[39mself\u001b[39m, X, y\u001b[39m=\u001b[39m\u001b[39mNone\u001b[39;00m, \u001b[39m*\u001b[39m\u001b[39m*\u001b[39mfit_params):\n\u001b[1;32m    <a href='file:///Users/matdiv/opt/anaconda3/envs/ML/lib/python3.10/site-packages/sklearn/pipeline.py?line=351'>352</a>\u001b[0m     \u001b[39m\"\"\"Fit the model.\u001b[39;00m\n\u001b[1;32m    <a href='file:///Users/matdiv/opt/anaconda3/envs/ML/lib/python3.10/site-packages/sklearn/pipeline.py?line=352'>353</a>\u001b[0m \n\u001b[1;32m    <a href='file:///Users/matdiv/opt/anaconda3/envs/ML/lib/python3.10/site-packages/sklearn/pipeline.py?line=353'>354</a>\u001b[0m \u001b[39m    Fit all the transformers one after the other and transform the\u001b[39;00m\n\u001b[0;32m   (...)\u001b[0m\n\u001b[1;32m    <a href='file:///Users/matdiv/opt/anaconda3/envs/ML/lib/python3.10/site-packages/sklearn/pipeline.py?line=374'>375</a>\u001b[0m \u001b[39m        Pipeline with fitted steps.\u001b[39;00m\n\u001b[1;32m    <a href='file:///Users/matdiv/opt/anaconda3/envs/ML/lib/python3.10/site-packages/sklearn/pipeline.py?line=375'>376</a>\u001b[0m \u001b[39m    \"\"\"\u001b[39;00m\n\u001b[0;32m--> <a href='file:///Users/matdiv/opt/anaconda3/envs/ML/lib/python3.10/site-packages/sklearn/pipeline.py?line=376'>377</a>\u001b[0m     fit_params_steps \u001b[39m=\u001b[39m \u001b[39mself\u001b[39;49m\u001b[39m.\u001b[39;49m_check_fit_params(\u001b[39m*\u001b[39;49m\u001b[39m*\u001b[39;49mfit_params)\n\u001b[1;32m    <a href='file:///Users/matdiv/opt/anaconda3/envs/ML/lib/python3.10/site-packages/sklearn/pipeline.py?line=377'>378</a>\u001b[0m     Xt \u001b[39m=\u001b[39m \u001b[39mself\u001b[39m\u001b[39m.\u001b[39m_fit(X, y, \u001b[39m*\u001b[39m\u001b[39m*\u001b[39mfit_params_steps)\n\u001b[1;32m    <a href='file:///Users/matdiv/opt/anaconda3/envs/ML/lib/python3.10/site-packages/sklearn/pipeline.py?line=378'>379</a>\u001b[0m     \u001b[39mwith\u001b[39;00m _print_elapsed_time(\u001b[39m\"\u001b[39m\u001b[39mPipeline\u001b[39m\u001b[39m\"\u001b[39m, \u001b[39mself\u001b[39m\u001b[39m.\u001b[39m_log_message(\u001b[39mlen\u001b[39m(\u001b[39mself\u001b[39m\u001b[39m.\u001b[39msteps) \u001b[39m-\u001b[39m \u001b[39m1\u001b[39m)):\n",
      "File \u001b[0;32m~/opt/anaconda3/envs/ML/lib/python3.10/site-packages/sklearn/pipeline.py:297\u001b[0m, in \u001b[0;36mPipeline._check_fit_params\u001b[0;34m(self, **fit_params)\u001b[0m\n\u001b[1;32m    <a href='file:///Users/matdiv/opt/anaconda3/envs/ML/lib/python3.10/site-packages/sklearn/pipeline.py?line=295'>296</a>\u001b[0m \u001b[39mdef\u001b[39;00m \u001b[39m_check_fit_params\u001b[39m(\u001b[39mself\u001b[39m, \u001b[39m*\u001b[39m\u001b[39m*\u001b[39mfit_params):\n\u001b[0;32m--> <a href='file:///Users/matdiv/opt/anaconda3/envs/ML/lib/python3.10/site-packages/sklearn/pipeline.py?line=296'>297</a>\u001b[0m     fit_params_steps \u001b[39m=\u001b[39m {name: {} \u001b[39mfor\u001b[39;00m name, step \u001b[39min\u001b[39;00m \u001b[39mself\u001b[39m\u001b[39m.\u001b[39msteps \u001b[39mif\u001b[39;00m step \u001b[39mis\u001b[39;00m \u001b[39mnot\u001b[39;00m \u001b[39mNone\u001b[39;00m}\n\u001b[1;32m    <a href='file:///Users/matdiv/opt/anaconda3/envs/ML/lib/python3.10/site-packages/sklearn/pipeline.py?line=297'>298</a>\u001b[0m     \u001b[39mfor\u001b[39;00m pname, pval \u001b[39min\u001b[39;00m fit_params\u001b[39m.\u001b[39mitems():\n\u001b[1;32m    <a href='file:///Users/matdiv/opt/anaconda3/envs/ML/lib/python3.10/site-packages/sklearn/pipeline.py?line=298'>299</a>\u001b[0m         \u001b[39mif\u001b[39;00m \u001b[39m\"\u001b[39m\u001b[39m__\u001b[39m\u001b[39m\"\u001b[39m \u001b[39mnot\u001b[39;00m \u001b[39min\u001b[39;00m pname:\n",
      "File \u001b[0;32m~/opt/anaconda3/envs/ML/lib/python3.10/site-packages/sklearn/pipeline.py:297\u001b[0m, in \u001b[0;36m<dictcomp>\u001b[0;34m(.0)\u001b[0m\n\u001b[1;32m    <a href='file:///Users/matdiv/opt/anaconda3/envs/ML/lib/python3.10/site-packages/sklearn/pipeline.py?line=295'>296</a>\u001b[0m \u001b[39mdef\u001b[39;00m \u001b[39m_check_fit_params\u001b[39m(\u001b[39mself\u001b[39m, \u001b[39m*\u001b[39m\u001b[39m*\u001b[39mfit_params):\n\u001b[0;32m--> <a href='file:///Users/matdiv/opt/anaconda3/envs/ML/lib/python3.10/site-packages/sklearn/pipeline.py?line=296'>297</a>\u001b[0m     fit_params_steps \u001b[39m=\u001b[39m {name: {} \u001b[39mfor\u001b[39;00m name, step \u001b[39min\u001b[39;00m \u001b[39mself\u001b[39m\u001b[39m.\u001b[39msteps \u001b[39mif\u001b[39;00m step \u001b[39mis\u001b[39;00m \u001b[39mnot\u001b[39;00m \u001b[39mNone\u001b[39;00m}\n\u001b[1;32m    <a href='file:///Users/matdiv/opt/anaconda3/envs/ML/lib/python3.10/site-packages/sklearn/pipeline.py?line=297'>298</a>\u001b[0m     \u001b[39mfor\u001b[39;00m pname, pval \u001b[39min\u001b[39;00m fit_params\u001b[39m.\u001b[39mitems():\n\u001b[1;32m    <a href='file:///Users/matdiv/opt/anaconda3/envs/ML/lib/python3.10/site-packages/sklearn/pipeline.py?line=298'>299</a>\u001b[0m         \u001b[39mif\u001b[39;00m \u001b[39m\"\u001b[39m\u001b[39m__\u001b[39m\u001b[39m\"\u001b[39m \u001b[39mnot\u001b[39;00m \u001b[39min\u001b[39;00m pname:\n",
      "\u001b[0;31mValueError\u001b[0m: too many values to unpack (expected 2)"
     ]
    }
   ],
   "source": [
    "num_pipe.fit(X_train[numeric_features], y_train)"
   ]
  },
  {
   "cell_type": "markdown",
   "metadata": {},
   "source": [
    "12. Посчитайте метрики accuracy и f1_score на предсказании только самого частого класса в целевой переменной."
   ]
  },
  {
   "cell_type": "code",
   "execution_count": null,
   "metadata": {},
   "outputs": [],
   "source": []
  },
  {
   "cell_type": "markdown",
   "metadata": {},
   "source": [
    "13. Посчитайте cross_val_score по алгоритмам LogisticRegression, SVC, LinearSVC по метрикам accuracy и f1_score.\n",
    "Напишите удалось ли превзойти предыдущий результат."
   ]
  },
  {
   "cell_type": "code",
   "execution_count": null,
   "metadata": {},
   "outputs": [],
   "source": []
  },
  {
   "cell_type": "markdown",
   "metadata": {},
   "source": [
    "14. Можно заметить что в данных присутствуют значения '?', замените их самыми частыми значениями (испольуйте SimpleImputer)"
   ]
  },
  {
   "cell_type": "code",
   "execution_count": null,
   "metadata": {},
   "outputs": [],
   "source": []
  },
  {
   "cell_type": "markdown",
   "metadata": {},
   "source": [
    "15. Посчитайте cross_val_score на новых данных. Напишите удалось ли улучшить результат."
   ]
  },
  {
   "cell_type": "code",
   "execution_count": null,
   "metadata": {},
   "outputs": [],
   "source": []
  },
  {
   "cell_type": "markdown",
   "metadata": {},
   "source": [
    "16. Посчитайте cross_val_score, если просто удалить значения '?'. Напишите как изменился результат"
   ]
  },
  {
   "cell_type": "code",
   "execution_count": null,
   "metadata": {},
   "outputs": [],
   "source": []
  },
  {
   "cell_type": "markdown",
   "metadata": {},
   "source": [
    " 17. Посчитайте cross_val_score для RandomForestClassifier,GradientBoostingClassifier. Напишите как изменился результат и какой вывод можно из этого сделать."
   ]
  },
  {
   "cell_type": "code",
   "execution_count": null,
   "metadata": {},
   "outputs": [],
   "source": []
  },
  {
   "cell_type": "markdown",
   "metadata": {},
   "source": [
    "18. Подберите наилучшую модель, подбирая методы обработки колонок - масштабирование признаков, кодирование признаков и заполнение пропусков. Параметры алгоритмов оставьте по умолчанию. Выведите итоговые параметры и результат accuracy и f1_score."
   ]
  },
  {
   "cell_type": "code",
   "execution_count": null,
   "metadata": {},
   "outputs": [],
   "source": []
  }
 ],
 "metadata": {
  "interpreter": {
   "hash": "2ca0db50c45eb6ade641f457c07ba28ba5913287e46201aadafea80323a2570e"
  },
  "kernelspec": {
   "display_name": "Python 3.7.6 64-bit ('my_env_09_02_20': conda)",
   "language": "python",
   "name": "python3"
  },
  "language_info": {
   "codemirror_mode": {
    "name": "ipython",
    "version": 3
   },
   "file_extension": ".py",
   "mimetype": "text/x-python",
   "name": "python",
   "nbconvert_exporter": "python",
   "pygments_lexer": "ipython3",
   "version": "3.10.4"
  }
 },
 "nbformat": 4,
 "nbformat_minor": 2
}
