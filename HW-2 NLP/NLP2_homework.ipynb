{
  "cells": [
    {
      "cell_type": "markdown",
      "metadata": {
        "id": "OYZRf1ncz-sT"
      },
      "source": [
        "#### NLP2_1\n",
        "https://www.hackerrank.com/challenges/detect-the-email-addresses/problem?isFullScreen=true\n"
      ]
    },
    {
      "cell_type": "code",
      "execution_count": 30,
      "metadata": {},
      "outputs": [
        {
          "name": "stdout",
          "output_type": "stream",
          "text": [
            "Match 1 was found at 85-99: mpotts@ngs.org\n",
            "Match 2 was found at 147-163: jbmccorm@ngs.org\n",
            "Match 3 was found at 642-665: ngsline@customersvc.com\n",
            "Match 4 was found at 815-841: ngsdigital@customersvc.com\n",
            "Match 5 was found at 962-980: givinginfo@ngs.org\n",
            "Match 6 was found at 1366-1395: askngs@nationalgeographic.com\n",
            "Match 7 was found at 1517-1536: genographic@ngs.org\n",
            "Match 8 was found at 1643-1669: genographicespanol@ngs.org\n",
            "Match 9 was found at 1820-1832: apps@ngs.org\n",
            "Match 10 was found at 1896-1922: ngsdigital@customersvc.com\n",
            "Match 11 was found at 2040-2061: feedback@natgeotv.com\n",
            "Match 12 was found at 2428-2459: ngsforum@nationalgeographic.com\n",
            "Match 13 was found at 2527-2539: maps@ngs.org\n",
            "Match 14 was found at 2790-2803: stock@ngs.org\n",
            "Match 15 was found at 3027-3047: ngassignment@ngs.org\n",
            "Match 16 was found at 3271-3302: newsdesk@nationalgeographic.com\n",
            "Match 17 was found at 3347-3364: pressroom@ngs.org\n",
            "Match 18 was found at 3506-3522: speakers@ngs.org\n",
            "Match 19 was found at 3595-3607: topo@ngs.org\n",
            "Match 20 was found at 3665-3681: Traveler@ngs.org\n",
            "Match 21 was found at 3952-3981: askngs@nationalgeographic.com\n"
          ]
        }
      ],
      "source": [
        "import re\n",
        "\n",
        "regex = r\"\\b(?:\\w+\\.)*\\w+@(?:\\w+\\.)+\\w+\"\n",
        "\n",
        "test_str = (\"71\\n\"\n",
        "\t\"Adventure\\n\"\n",
        "\t\"Send a letter to the editor about the content of the Adventure website.\\n\"\n",
        "\t\"mpotts@ngs.org\\n\"\n",
        "\t\"Advertising\\n\"\n",
        "\t\"Why not sponsor an online feature?\\n\"\n",
        "\t\"jbmccorm@ngs.org\\n\"\n",
        "\t\"The Complete National Geographic\\n\"\n",
        "\t\"Use this help form to contact us with comments or support questions regarding The Complete National Geographic on DVD or hard drive.\\n\"\n",
        "\t\"CNG Help Form\\n\"\n",
        "\t\"Customer Service: Magazine Subscriptions\\n\"\n",
        "\t\"Send questions regarding your subscriptions. Check on delivery, expiration dates, or other concerns. Inquiries about National Geographic, National Geographic Kids, and Traveler can be sent to this email address. Customer service is also available online at ngsline@customersvc.com.\\n\"\n",
        "\t\"Digital Magazine Subscriptions\\n\"\n",
        "\t\"For questions about digital subscriptions to National Geographic magazine (iPad, Nook, Kindle, or Zinio) email us at ngsdigital@customersvc.com or call 1-800-895-2068. You can also read the digital FAQs online.\\n\"\n",
        "\t\"Donating to National Geographic\\n\"\n",
        "\t\"Please contact us at givinginfo@ngs.org or call +1 202 862 8638 with any questions regarding your donation, or how to make a donation in support of the Society's work in exploration, research, and education. Thank you for your support!\\n\"\n",
        "\t\"Frequently Asked Questions\\n\"\n",
        "\t\"Find answers to your questions here.\\n\"\n",
        "\t\"http://www.nationalgeographic.com/faq/\\n\"\n",
        "\t\"Games\\n\"\n",
        "\t\"For questions about downloadable games and Plan It Green Live, please write to:\\n\"\n",
        "\t\"askngs@nationalgeographic.com and put \\\"Attn: Games\\\" in the subject line.\\n\"\n",
        "\t\"Genographic Project\\n\"\n",
        "\t\"Send us your questions regarding the Genographic Project.\\n\"\n",
        "\t\"genographic@ngs.org\\n\"\n",
        "\t\"Genographic Project en espaпїЅпїЅol\\n\"\n",
        "\t\"Envienos en espaпїЅпїЅol sus preguntas sobre el Proyecto Genographic.\\n\"\n",
        "\t\"genographicespanol@ngs.org\\n\"\n",
        "\t\"Mobile Applications and More\\n\"\n",
        "\t\"Email us with comments or support questions regarding our content for iPhone, iPad, Android, Windows Mobile 7, and more: apps@ngs.org.\\n\"\n",
        "\t\"For magazine app and digital subscription queries email us at ngsdigital@customersvc.com or call 1-800-895-2068.\\n\"\n",
        "\t\"National Geographic Channel\\n\"\n",
        "\t\"Send comments or questions regarding our television programming.\\n\"\n",
        "\t\"feedback@natgeotv.com\\n\"\n",
        "\t\"National Geographic Expeditions\\n\"\n",
        "\t\"For more information or to reserve your space, call toll-free 1-888-966-8687, or reserve online at nationalgeographicexpeditions.com.\\n\"\n",
        "\t\"For email inquiries use this form.\\n\"\n",
        "\t\"National Geographic Magazine\\n\"\n",
        "\t\"Send a letter to the Editor about the content of National Geographic magazine. Letters will be considered for the monthly Forum column.\\n\"\n",
        "\t\"ngsforum@nationalgeographic.com\\n\"\n",
        "\t\"National Geographic Maps\\n\"\n",
        "\t\"Contact us with questions about our maps.\\n\"\n",
        "\t\"maps@ngs.org\\n\"\n",
        "\t\"Photography: Stock Photography\\n\"\n",
        "\t\"National Geographic Stock's photography collection offers the best in rights managed and royalty free wildlife, travel, landscape and lifestyle photographs available for professional editorial and commercial licensing.\\n\"\n",
        "\t\"stock@ngs.org\\n\"\n",
        "\t\"Photography: Commercial Assignments\\n\"\n",
        "\t\"National Geographic Assignment represents international commercial photographers specializing in lifestyle, adventure, travel, and landscape photography. Online portfolios are available.\\n\"\n",
        "\t\"ngassignment@ngs.org\\n\"\n",
        "\t\"Photography: Prints\\n\"\n",
        "\t\"You can order beautiful National Geographic prints for your home or as a great gift. Browse through our collection.\\n\"\n",
        "\t\"News\\n\"\n",
        "\t\"Send comments, questions or concerns regarding the National Geographic News site.\\n\"\n",
        "\t\"newsdesk@nationalgeographic.com\\n\"\n",
        "\t\"Public Relations\\n\"\n",
        "\t\"Send press inquiries here.\\n\"\n",
        "\t\"pressroom@ngs.org\\n\"\n",
        "\t\"Speakers Bureau\\n\"\n",
        "\t\"Send inquiries about having a National Geographic photographer, adventurer, explorer, or scientist speak at your next event.\\n\"\n",
        "\t\"speakers@ngs.org\\n\"\n",
        "\t\"TOPO! Digital Maps\\n\"\n",
        "\t\"Send us your product and technical support quesions.\\n\"\n",
        "\t\"topo@ngs.org\\n\"\n",
        "\t\"Traveler Magazine\\n\"\n",
        "\t\"Send a letter about Traveler magazine.\\n\"\n",
        "\t\"Traveler@ngs.org\\n\"\n",
        "\t\"Your Shot & Your Shot Puzzles\\n\"\n",
        "\t\"Help Form\\n\"\n",
        "\t\"Frequently Asked Questions\\n\"\n",
        "\t\"Miscellaneous\\n\"\n",
        "\t\"Not sure where to send your question? WeпїЅпїЅпїЅll pass it to the proper department. Please keep in mind that the high volume of mail does not allow us to send everyone a personal answer.\\n\"\n",
        "\t\"askngs@nationalgeographic.com\")\n",
        "\n",
        "matches = re.finditer(regex, test_str, re.MULTILINE)\n",
        "\n",
        "for matchNum, match in enumerate(matches, start=1):\n",
        "    \n",
        "    print (\"Match {matchNum} was found at {start}-{end}: {match}\".format(matchNum = matchNum, start = match.start(), end = match.end(), match = match.group()))\n",
        "    \n",
        "    for groupNum in range(0, len(match.groups())):\n",
        "        groupNum = groupNum + 1\n",
        "        \n",
        "        print (\"Group {groupNum} found at {start}-{end}: {group}\".format(groupNum = groupNum, start = match.start(groupNum), end = match.end(groupNum), group = match.group(groupNum)))\n"
      ]
    },
    {
      "cell_type": "markdown",
      "metadata": {
        "id": "jKzbIfdq0CKr"
      },
      "source": [
        "#### NLP2_2\n",
        "https://www.hackerrank.com/challenges/detect-the-domain-name/problem?isFullScreen=true"
      ]
    },
    {
      "cell_type": "markdown",
      "metadata": {},
      "source": [
        "https?\\://(?:www\\.|ww2\\.)?([\\w.-]+?[.][\\w.-]+?)[/?\"]',s)"
      ]
    },
    {
      "cell_type": "markdown",
      "metadata": {
        "id": "Op8qPHa8J68_"
      },
      "source": [
        "#### NLP2_3 (дз1)\n",
        "Реализовать stemming, lemmatization & BoW на следующем датасете: https://cloud.mail.ru/public/Z4L3/vB8GcgTtK (Russian Toxic-abuse comments)\n",
        "\n",
        "Сдал в первой домашке"
      ]
    },
    {
      "cell_type": "markdown",
      "metadata": {
        "id": "b5DQQnoU1bXY"
      },
      "source": [
        "#### NLP2_4 \n",
        "Реализовать классификатор токсичных комментариев tfidf на базе датасета\n",
        "https://www.kaggle.com/datasets/blackmoon/russian-language-toxic-comments  \n",
        "\n",
        "Дубликат файла: https://cloud.mail.ru/public/Z4L3/vB8GcgTtK\n",
        "\n"
      ]
    },
    {
      "cell_type": "code",
      "execution_count": 31,
      "metadata": {
        "id": "0BRC1-k81pIW"
      },
      "outputs": [
        {
          "name": "stderr",
          "output_type": "stream",
          "text": [
            "[nltk_data] Downloading package wordnet to /Users/matdiv/nltk_data...\n",
            "[nltk_data]   Package wordnet is already up-to-date!\n",
            "[nltk_data] Downloading package omw-1.4 to /Users/matdiv/nltk_data...\n",
            "[nltk_data]   Package omw-1.4 is already up-to-date!\n"
          ]
        }
      ],
      "source": [
        "# импорт библиотек\n",
        "\n",
        "import pandas as pd\n",
        "import seaborn as sns\n",
        "import matplotlib.pyplot as plt\n",
        "import nltk\n",
        "\n",
        "import time\n",
        "\n",
        "from nltk.corpus import stopwords\n",
        "from nltk.stem import  SnowballStemmer\n",
        "\n",
        "nltk.download('wordnet')\n",
        "nltk.download('omw-1.4')\n",
        "\n",
        "from pymorphy2 import MorphAnalyzer\n",
        "\n",
        "from sklearn.feature_extraction.text import CountVectorizer, TfidfVectorizer, TfidfTransformer\n",
        "\n",
        "from sklearn.pipeline import Pipeline\n",
        "from sklearn.model_selection import train_test_split\n",
        "from sklearn.metrics import classification_report, confusion_matrix\n",
        "from sklearn.neighbors import KNeighborsClassifier\n",
        "from sklearn.naive_bayes import MultinomialNB\n"
      ]
    },
    {
      "cell_type": "code",
      "execution_count": 32,
      "metadata": {},
      "outputs": [
        {
          "data": {
            "text/html": [
              "<div>\n",
              "<style scoped>\n",
              "    .dataframe tbody tr th:only-of-type {\n",
              "        vertical-align: middle;\n",
              "    }\n",
              "\n",
              "    .dataframe tbody tr th {\n",
              "        vertical-align: top;\n",
              "    }\n",
              "\n",
              "    .dataframe thead th {\n",
              "        text-align: right;\n",
              "    }\n",
              "</style>\n",
              "<table border=\"1\" class=\"dataframe\">\n",
              "  <thead>\n",
              "    <tr style=\"text-align: right;\">\n",
              "      <th></th>\n",
              "      <th>comment</th>\n",
              "      <th>toxic</th>\n",
              "    </tr>\n",
              "  </thead>\n",
              "  <tbody>\n",
              "    <tr>\n",
              "      <th>0</th>\n",
              "      <td>Верблюдов-то за что? Дебилы, бл...\\n</td>\n",
              "      <td>1.0</td>\n",
              "    </tr>\n",
              "    <tr>\n",
              "      <th>1</th>\n",
              "      <td>Хохлы, это отдушина затюканого россиянина, мол...</td>\n",
              "      <td>1.0</td>\n",
              "    </tr>\n",
              "    <tr>\n",
              "      <th>2</th>\n",
              "      <td>Собаке - собачья смерть\\n</td>\n",
              "      <td>1.0</td>\n",
              "    </tr>\n",
              "    <tr>\n",
              "      <th>3</th>\n",
              "      <td>Страницу обнови, дебил. Это тоже не оскорблени...</td>\n",
              "      <td>1.0</td>\n",
              "    </tr>\n",
              "    <tr>\n",
              "      <th>4</th>\n",
              "      <td>тебя не убедил 6-страничный пдф в том, что Скр...</td>\n",
              "      <td>1.0</td>\n",
              "    </tr>\n",
              "  </tbody>\n",
              "</table>\n",
              "</div>"
            ],
            "text/plain": [
              "                                             comment  toxic\n",
              "0               Верблюдов-то за что? Дебилы, бл...\\n    1.0\n",
              "1  Хохлы, это отдушина затюканого россиянина, мол...    1.0\n",
              "2                          Собаке - собачья смерть\\n    1.0\n",
              "3  Страницу обнови, дебил. Это тоже не оскорблени...    1.0\n",
              "4  тебя не убедил 6-страничный пдф в том, что Скр...    1.0"
            ]
          },
          "execution_count": 32,
          "metadata": {},
          "output_type": "execute_result"
        }
      ],
      "source": [
        "# загрузка датасета\n",
        "\n",
        "data = pd.read_csv('./data/labeled.csv')\n",
        "data.head()"
      ]
    },
    {
      "cell_type": "code",
      "execution_count": 33,
      "metadata": {},
      "outputs": [],
      "source": [
        "stop = stopwords.words('russian')\n",
        "\n",
        "# удаление стоп-слов\n",
        "\n",
        "data['comment'] = data['comment'].apply(lambda x: \" \".join(x for x in x.split() if x not in stop))\n"
      ]
    },
    {
      "cell_type": "code",
      "execution_count": 34,
      "metadata": {},
      "outputs": [],
      "source": [
        "# удаление пунктуации и приведение к нижнему регистру\n",
        "\n",
        "data['comment'] = data['comment'].str.replace('[^\\w\\s]','', regex=True)\n",
        "data['comment'] = data['comment'].str.replace('[\\n]','', regex=True)\n",
        "data['comment'] = data['comment'].apply(lambda x: \" \".join(x.lower() for x in x.split()))\n",
        "\n"
      ]
    },
    {
      "cell_type": "code",
      "execution_count": 35,
      "metadata": {},
      "outputs": [],
      "source": [
        "# лемматизация\n",
        "\n",
        "morph = MorphAnalyzer()\n",
        "data['comment_lemm'] = data['comment'].apply(lambda x: \" \".join([morph.normal_forms(word)[0] for word in x.split()]))\n"
      ]
    },
    {
      "cell_type": "code",
      "execution_count": 36,
      "metadata": {},
      "outputs": [],
      "source": [
        "# стемминг\n",
        "\n",
        "stem = SnowballStemmer(\"russian\")\n",
        "data['comment_lemm_stem'] = data['comment_lemm'].apply(lambda x: \" \".join([stem.stem(word) for word in x.split()]))\n"
      ]
    },
    {
      "cell_type": "code",
      "execution_count": 37,
      "metadata": {},
      "outputs": [],
      "source": [
        "#CountVectorizer\n",
        "\n",
        "vectorizer = CountVectorizer(binary=True)\n",
        "data_cv = vectorizer.fit_transform(data['comment_lemm_stem'])"
      ]
    },
    {
      "cell_type": "code",
      "execution_count": 38,
      "metadata": {},
      "outputs": [],
      "source": [
        "# выделение целевой переменной и признаков\n",
        "\n",
        "y = data['toxic']\n",
        "X = data_cv"
      ]
    },
    {
      "cell_type": "code",
      "execution_count": 39,
      "metadata": {},
      "outputs": [],
      "source": [
        "# разделение на тестовую и тренировочную выборку\n",
        "\n",
        "X_train, X_test, y_train, y_test = train_test_split(X, y, test_size=0.3, random_state=42)"
      ]
    },
    {
      "cell_type": "code",
      "execution_count": 40,
      "metadata": {},
      "outputs": [
        {
          "name": "stdout",
          "output_type": "stream",
          "text": [
            "              precision    recall  f1-score   support\n",
            "\n",
            "         0.0       0.78      0.61      0.68      2906\n",
            "         1.0       0.45      0.65      0.53      1418\n",
            "\n",
            "    accuracy                           0.62      4324\n",
            "   macro avg       0.62      0.63      0.61      4324\n",
            "weighted avg       0.67      0.62      0.63      4324\n",
            "\n"
          ]
        },
        {
          "data": {
            "text/plain": [
              "Text(0.5, 46.0, 'Предсказанные значения')"
            ]
          },
          "execution_count": 40,
          "metadata": {},
          "output_type": "execute_result"
        },
        {
          "data": {
            "image/png": "[encoded data removed]",
            "text/plain": [
              "<Figure size 720x576 with 2 Axes>"
            ]
          },
          "metadata": {
            "needs_background": "light"
          },
          "output_type": "display_data"
        }
      ],
      "source": [
        "#  построение модели\n",
        "\n",
        "knn = KNeighborsClassifier()\n",
        "knn.fit(X_train, y_train)\n",
        "y_preds = knn.predict(X_test)\n",
        "print(classification_report(y_test, y_preds))\n",
        "mcm = confusion_matrix(y_test,y_preds)\n",
        "\n",
        "fig = plt.figure(figsize=(10,8))\n",
        "plt.rc('xtick', labelsize=15) \n",
        "plt.rc('ytick', labelsize=15)\n",
        "sns.heatmap(mcm, annot=True, fmt=\"d\",)\n",
        "plt.ylabel(\"Реальные значения\")\n",
        "plt.xlabel(\"Предсказанные значения\")"
      ]
    },
    {
      "cell_type": "code",
      "execution_count": 41,
      "metadata": {},
      "outputs": [],
      "source": [
        "#TFIDF\n",
        "tfidf_vect = TfidfVectorizer()\n",
        "X_tfidf = tfidf_vect.fit_transform(data['comment_lemm_stem'])"
      ]
    },
    {
      "cell_type": "code",
      "execution_count": 42,
      "metadata": {},
      "outputs": [],
      "source": [
        "X_train, X_test, y_train, y_test = train_test_split(X_tfidf, y, test_size=0.3, random_state=42)"
      ]
    },
    {
      "cell_type": "code",
      "execution_count": 43,
      "metadata": {},
      "outputs": [
        {
          "name": "stdout",
          "output_type": "stream",
          "text": [
            "              precision    recall  f1-score   support\n",
            "\n",
            "         0.0       0.88      0.82      0.85      2906\n",
            "         1.0       0.68      0.76      0.72      1418\n",
            "\n",
            "    accuracy                           0.80      4324\n",
            "   macro avg       0.78      0.79      0.78      4324\n",
            "weighted avg       0.81      0.80      0.81      4324\n",
            "\n"
          ]
        },
        {
          "data": {
            "text/plain": [
              "Text(0.5, 46.0, 'Предсказанные значения')"
            ]
          },
          "execution_count": 43,
          "metadata": {},
          "output_type": "execute_result"
        },
        {
          "data": {
            "image/png": "[encoded data removed]",
            "text/plain": [
              "<Figure size 720x576 with 2 Axes>"
            ]
          },
          "metadata": {
            "needs_background": "light"
          },
          "output_type": "display_data"
        }
      ],
      "source": [
        "knn = KNeighborsClassifier()\n",
        "knn.fit(X_train, y_train)\n",
        "y_preds = knn.predict(X_test)\n",
        "print(classification_report(y_test, y_preds))\n",
        "mcm = confusion_matrix(y_test,y_preds)\n",
        "\n",
        "fig = plt.figure(figsize=(10,8))\n",
        "plt.rc('xtick', labelsize=15) \n",
        "plt.rc('ytick', labelsize=15)\n",
        "sns.heatmap(mcm, annot=True, fmt=\"d\",)\n",
        "plt.ylabel(\"Реальные значения\")\n",
        "plt.xlabel(\"Предсказанные значения\")"
      ]
    },
    {
      "cell_type": "code",
      "execution_count": 44,
      "metadata": {},
      "outputs": [],
      "source": [
        "cv = CountVectorizer()\n",
        "tfidf = TfidfTransformer()"
      ]
    },
    {
      "cell_type": "code",
      "execution_count": 45,
      "metadata": {},
      "outputs": [],
      "source": [
        "# построение пайплайна\n",
        "\n",
        "preprocessing = Pipeline(\n",
        "    [\n",
        "        ('CountVectorizer', cv),\n",
        "        ('TfidfVectorizer', tfidf)\n",
        "    ]\n",
        ")"
      ]
    },
    {
      "cell_type": "code",
      "execution_count": 46,
      "metadata": {},
      "outputs": [
        {
          "data": {
            "text/html": [
              "<style>#sk-container-id-2 {color: black;background-color: white;}#sk-container-id-2 pre{padding: 0;}#sk-container-id-2 div.sk-toggleable {background-color: white;}#sk-container-id-2 label.sk-toggleable__label {cursor: pointer;display: block;width: 100%;margin-bottom: 0;padding: 0.3em;box-sizing: border-box;text-align: center;}#sk-container-id-2 label.sk-toggleable__label-arrow:before {content: \"▸\";float: left;margin-right: 0.25em;color: #696969;}#sk-container-id-2 label.sk-toggleable__label-arrow:hover:before {color: black;}#sk-container-id-2 div.sk-estimator:hover label.sk-toggleable__label-arrow:before {color: black;}#sk-container-id-2 div.sk-toggleable__content {max-height: 0;max-width: 0;overflow: hidden;text-align: left;background-color: #f0f8ff;}#sk-container-id-2 div.sk-toggleable__content pre {margin: 0.2em;color: black;border-radius: 0.25em;background-color: #f0f8ff;}#sk-container-id-2 input.sk-toggleable__control:checked~div.sk-toggleable__content {max-height: 200px;max-width: 100%;overflow: auto;}#sk-container-id-2 input.sk-toggleable__control:checked~label.sk-toggleable__label-arrow:before {content: \"▾\";}#sk-container-id-2 div.sk-estimator input.sk-toggleable__control:checked~label.sk-toggleable__label {background-color: #d4ebff;}#sk-container-id-2 div.sk-label input.sk-toggleable__control:checked~label.sk-toggleable__label {background-color: #d4ebff;}#sk-container-id-2 input.sk-hidden--visually {border: 0;clip: rect(1px 1px 1px 1px);clip: rect(1px, 1px, 1px, 1px);height: 1px;margin: -1px;overflow: hidden;padding: 0;position: absolute;width: 1px;}#sk-container-id-2 div.sk-estimator {font-family: monospace;background-color: #f0f8ff;border: 1px dotted black;border-radius: 0.25em;box-sizing: border-box;margin-bottom: 0.5em;}#sk-container-id-2 div.sk-estimator:hover {background-color: #d4ebff;}#sk-container-id-2 div.sk-parallel-item::after {content: \"\";width: 100%;border-bottom: 1px solid gray;flex-grow: 1;}#sk-container-id-2 div.sk-label:hover label.sk-toggleable__label {background-color: #d4ebff;}#sk-container-id-2 div.sk-serial::before {content: \"\";position: absolute;border-left: 1px solid gray;box-sizing: border-box;top: 0;bottom: 0;left: 50%;z-index: 0;}#sk-container-id-2 div.sk-serial {display: flex;flex-direction: column;align-items: center;background-color: white;padding-right: 0.2em;padding-left: 0.2em;position: relative;}#sk-container-id-2 div.sk-item {position: relative;z-index: 1;}#sk-container-id-2 div.sk-parallel {display: flex;align-items: stretch;justify-content: center;background-color: white;position: relative;}#sk-container-id-2 div.sk-item::before, #sk-container-id-2 div.sk-parallel-item::before {content: \"\";position: absolute;border-left: 1px solid gray;box-sizing: border-box;top: 0;bottom: 0;left: 50%;z-index: -1;}#sk-container-id-2 div.sk-parallel-item {display: flex;flex-direction: column;z-index: 1;position: relative;background-color: white;}#sk-container-id-2 div.sk-parallel-item:first-child::after {align-self: flex-end;width: 50%;}#sk-container-id-2 div.sk-parallel-item:last-child::after {align-self: flex-start;width: 50%;}#sk-container-id-2 div.sk-parallel-item:only-child::after {width: 0;}#sk-container-id-2 div.sk-dashed-wrapped {border: 1px dashed gray;margin: 0 0.4em 0.5em 0.4em;box-sizing: border-box;padding-bottom: 0.4em;background-color: white;}#sk-container-id-2 div.sk-label label {font-family: monospace;font-weight: bold;display: inline-block;line-height: 1.2em;}#sk-container-id-2 div.sk-label-container {text-align: center;}#sk-container-id-2 div.sk-container {/* jupyter's `normalize.less` sets `[hidden] { display: none; }` but bootstrap.min.css set `[hidden] { display: none !important; }` so we also need the `!important` here to be able to override the default hidden behavior on the sphinx rendered scikit-learn.org. See: https://github.com/scikit-learn/scikit-learn/issues/21755 */display: inline-block !important;position: relative;}#sk-container-id-2 div.sk-text-repr-fallback {display: none;}</style><div id=\"sk-container-id-2\" class=\"sk-top-container\"><div class=\"sk-text-repr-fallback\"><pre>Pipeline(steps=[(&#x27;CountVectorizer&#x27;, CountVectorizer()),\n",
              "                (&#x27;TfidfVectorizer&#x27;, TfidfTransformer())])</pre><b>In a Jupyter environment, please rerun this cell to show the HTML representation or trust the notebook. <br />On GitHub, the HTML representation is unable to render, please try loading this page with nbviewer.org.</b></div><div class=\"sk-container\" hidden><div class=\"sk-item sk-dashed-wrapped\"><div class=\"sk-label-container\"><div class=\"sk-label sk-toggleable\"><input class=\"sk-toggleable__control sk-hidden--visually\" id=\"sk-estimator-id-4\" type=\"checkbox\" ><label for=\"sk-estimator-id-4\" class=\"sk-toggleable__label sk-toggleable__label-arrow\">Pipeline</label><div class=\"sk-toggleable__content\"><pre>Pipeline(steps=[(&#x27;CountVectorizer&#x27;, CountVectorizer()),\n",
              "                (&#x27;TfidfVectorizer&#x27;, TfidfTransformer())])</pre></div></div></div><div class=\"sk-serial\"><div class=\"sk-item\"><div class=\"sk-estimator sk-toggleable\"><input class=\"sk-toggleable__control sk-hidden--visually\" id=\"sk-estimator-id-5\" type=\"checkbox\" ><label for=\"sk-estimator-id-5\" class=\"sk-toggleable__label sk-toggleable__label-arrow\">CountVectorizer</label><div class=\"sk-toggleable__content\"><pre>CountVectorizer()</pre></div></div></div><div class=\"sk-item\"><div class=\"sk-estimator sk-toggleable\"><input class=\"sk-toggleable__control sk-hidden--visually\" id=\"sk-estimator-id-6\" type=\"checkbox\" ><label for=\"sk-estimator-id-6\" class=\"sk-toggleable__label sk-toggleable__label-arrow\">TfidfTransformer</label><div class=\"sk-toggleable__content\"><pre>TfidfTransformer()</pre></div></div></div></div></div></div></div>"
            ],
            "text/plain": [
              "Pipeline(steps=[('CountVectorizer', CountVectorizer()),\n",
              "                ('TfidfVectorizer', TfidfTransformer())])"
            ]
          },
          "execution_count": 46,
          "metadata": {},
          "output_type": "execute_result"
        }
      ],
      "source": [
        "preprocessing"
      ]
    },
    {
      "cell_type": "code",
      "execution_count": 47,
      "metadata": {},
      "outputs": [],
      "source": [
        "data_nonvector = data['comment_lemm_stem']"
      ]
    },
    {
      "cell_type": "code",
      "execution_count": 48,
      "metadata": {},
      "outputs": [],
      "source": [
        "data_vector = preprocessing.fit_transform(data_nonvector)"
      ]
    },
    {
      "cell_type": "code",
      "execution_count": 49,
      "metadata": {},
      "outputs": [],
      "source": [
        "classifiers = [\n",
        "                KNeighborsClassifier(),\n",
        "                MultinomialNB()\n",
        "              ]"
      ]
    },
    {
      "cell_type": "code",
      "execution_count": 50,
      "metadata": {},
      "outputs": [],
      "source": [
        "X_train, X_test, y_train, y_test = train_test_split(data_vector, y, test_size=0.3, random_state=42)"
      ]
    },
    {
      "cell_type": "code",
      "execution_count": 51,
      "metadata": {},
      "outputs": [
        {
          "name": "stdout",
          "output_type": "stream",
          "text": [
            "Модель: KNeighborsClassifier()\n",
            "Время выполнения: 0.847\n",
            "              precision    recall  f1-score   support\n",
            "\n",
            "         0.0       0.88      0.82      0.85      2906\n",
            "         1.0       0.68      0.77      0.72      1418\n",
            "\n",
            "    accuracy                           0.80      4324\n",
            "   macro avg       0.78      0.79      0.78      4324\n",
            "weighted avg       0.81      0.80      0.81      4324\n",
            "\n",
            "----\n",
            "Модель: MultinomialNB()\n",
            "Время выполнения: 0.005\n",
            "              precision    recall  f1-score   support\n",
            "\n",
            "         0.0       0.78      0.99      0.87      2906\n",
            "         1.0       0.96      0.42      0.58      1418\n",
            "\n",
            "    accuracy                           0.80      4324\n",
            "   macro avg       0.87      0.71      0.73      4324\n",
            "weighted avg       0.84      0.80      0.78      4324\n",
            "\n",
            "----\n"
          ]
        },
        {
          "data": {
            "image/png": "[encoded data removed]",
            "text/plain": [
              "<Figure size 720x576 with 2 Axes>"
            ]
          },
          "metadata": {
            "needs_background": "light"
          },
          "output_type": "display_data"
        },
        {
          "data": {
            "image/png": "[encoded data removed]",
            "text/plain": [
              "<Figure size 720x576 with 2 Axes>"
            ]
          },
          "metadata": {
            "needs_background": "light"
          },
          "output_type": "display_data"
        }
      ],
      "source": [
        "for classifier in classifiers:\n",
        "    start_time = time.time()\n",
        "    model = classifier.fit(X_train, y_train)\n",
        "    y_preds = model.predict(X_test)\n",
        "    elapsed_time = time.time() - start_time\n",
        "    print('Модель:', model)\n",
        "    print('Время выполнения: %.3f' %elapsed_time)\n",
        "    print(classification_report(y_test, y_preds))\n",
        "    mcm = confusion_matrix(y_test,y_preds)\n",
        "    fig = plt.figure(figsize=(10,8))\n",
        "    plt.rc('xtick', labelsize=15) \n",
        "    plt.rc('ytick', labelsize=15)\n",
        "    sns.heatmap(mcm, annot=True, fmt=\"d\",)\n",
        "    plt.ylabel(\"Реальные значения\")\n",
        "    plt.xlabel(\"Предсказанные значения\")\n",
        "    print('----')"
      ]
    },
    {
      "cell_type": "markdown",
      "metadata": {},
      "source": [
        "#### задание 2_1. \n",
        "Для BoW, TF-IDF - найти самые схожие объекты (косинусное расстояние)"
      ]
    },
    {
      "cell_type": "code",
      "execution_count": 52,
      "metadata": {},
      "outputs": [],
      "source": [
        "from sklearn.metrics.pairwise import cosine_distances"
      ]
    },
    {
      "cell_type": "code",
      "execution_count": 53,
      "metadata": {},
      "outputs": [
        {
          "data": {
            "text/plain": [
              "array([0.        , 1.        , 1.        , ..., 1.        , 0.97096581,\n",
              "       1.        ])"
            ]
          },
          "execution_count": 53,
          "metadata": {},
          "output_type": "execute_result"
        }
      ],
      "source": [
        "cosine_dist_tfidf = cosine_distances(X_tfidf[0:1], X_tfidf).flatten()\n",
        "cosine_dist_tfidf"
      ]
    },
    {
      "cell_type": "code",
      "execution_count": 54,
      "metadata": {},
      "outputs": [
        {
          "name": "stdout",
          "output_type": "stream",
          "text": [
            "[14411  4957  4968  4967]\n",
            "[1. 1. 1. 1.]\n"
          ]
        }
      ],
      "source": [
        "related_comment = cosine_dist_tfidf.argsort()[:-5:-1]\n",
        "print(related_comment)\n",
        "print(cosine_dist_tfidf[related_comment])\n"
      ]
    },
    {
      "cell_type": "code",
      "execution_count": 55,
      "metadata": {},
      "outputs": [
        {
          "name": "stdout",
          "output_type": "stream",
          "text": [
            "до сих пор пересматриваю видео орамбо кстати своем канале пилит похожий контент качеством похуже шуран редко светится храню хрупкую надежду когдато вернется такая годнота ведь\n",
            "чтото похоже визуальный осмотр имею ввиду течением времени невозможно доказать методами инструментального контроля такую аварию\n",
            "ким чен ким ын это имя а фамилия ким\n",
            "гдето платформа 9 3 4\n"
          ]
        }
      ],
      "source": [
        "print(data.comment[14411])\n",
        "print(data.comment[4957])\n",
        "print(data.comment[4968])\n",
        "print(data.comment[4967])\n",
        "\n"
      ]
    },
    {
      "cell_type": "code",
      "execution_count": 56,
      "metadata": {},
      "outputs": [
        {
          "data": {
            "text/plain": [
              "array([0.        , 1.        , 1.        , ..., 1.        , 0.91296117,\n",
              "       1.        ])"
            ]
          },
          "execution_count": 56,
          "metadata": {},
          "output_type": "execute_result"
        }
      ],
      "source": [
        "cosine_dist_cv = cosine_distances(data_cv[0:1], data_cv).flatten()\n",
        "cosine_dist_cv"
      ]
    },
    {
      "cell_type": "code",
      "execution_count": 57,
      "metadata": {},
      "outputs": [
        {
          "name": "stdout",
          "output_type": "stream",
          "text": [
            "[14411  4957  4968  4967]\n"
          ]
        },
        {
          "data": {
            "text/plain": [
              "array([1., 1., 1., 1.])"
            ]
          },
          "execution_count": 57,
          "metadata": {},
          "output_type": "execute_result"
        }
      ],
      "source": [
        "related_comment_cv = cosine_dist_cv.argsort()[:-5:-1]\n",
        "print(related_comment_cv)\n",
        "cosine_dist_cv[related_comment_cv]\n"
      ]
    }
  ],
  "metadata": {
    "colab": {
      "collapsed_sections": [],
      "provenance": []
    },
    "kernelspec": {
      "display_name": "Python 3",
      "name": "python3"
    },
    "language_info": {
      "codemirror_mode": {
        "name": "ipython",
        "version": 3
      },
      "file_extension": ".py",
      "mimetype": "text/x-python",
      "name": "python",
      "nbconvert_exporter": "python",
      "pygments_lexer": "ipython3",
      "version": "3.9.12"
    }
  },
  "nbformat": 4,
  "nbformat_minor": 0
}
